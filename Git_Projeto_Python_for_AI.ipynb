{
  "nbformat": 4,
  "nbformat_minor": 0,
  "metadata": {
    "colab": {
      "name": "Git_Projeto_Python_for_AI.ipynb",
      "provenance": [],
      "collapsed_sections": [],
      "toc_visible": true,
      "include_colab_link": true
    },
    "kernelspec": {
      "name": "python3",
      "display_name": "Python 3"
    },
    "language_info": {
      "name": "python"
    }
  },
  "cells": [
    {
      "cell_type": "markdown",
      "metadata": {
        "id": "view-in-github",
        "colab_type": "text"
      },
      "source": [
        "<a href=\"https://colab.research.google.com/github/luoldrigues/python_for_ai_covid/blob/main/Git_Projeto_Python_for_AI.ipynb\" target=\"_parent\"><img src=\"https://colab.research.google.com/assets/colab-badge.svg\" alt=\"Open In Colab\"/></a>"
      ]
    },
    {
      "cell_type": "markdown",
      "metadata": {
        "id": "QUasm9GfFUYE"
      },
      "source": [
        "# Projeto Python for AI\n",
        "\n",
        "#### Turma 2021\n"
      ]
    },
    {
      "cell_type": "markdown",
      "metadata": {
        "id": "DqVJCj4UIz2Q"
      },
      "source": [
        "# Bibliotecas Iniciais e Importação dos Dados"
      ]
    },
    {
      "cell_type": "code",
      "metadata": {
        "id": "1OoKSoRGJCOi",
        "colab": {
          "base_uri": "https://localhost:8080/",
          "height": 609
        },
        "outputId": "1d27e996-5a1b-48f8-80d9-db6244c2f155"
      },
      "source": [
        "# Importando biblioteca para manipulação de dados pandas\n",
        "import pandas as pd\n",
        "\n",
        "# Importando dataframe\n",
        "df_full = pd.read_csv(\"/content/drive/MyDrive/Python_for_AI/caso_full.csv\")\n",
        "df_full"
      ],
      "execution_count": null,
      "outputs": [
        {
          "output_type": "execute_result",
          "data": {
            "text/html": [
              "<div>\n",
              "<style scoped>\n",
              "    .dataframe tbody tr th:only-of-type {\n",
              "        vertical-align: middle;\n",
              "    }\n",
              "\n",
              "    .dataframe tbody tr th {\n",
              "        vertical-align: top;\n",
              "    }\n",
              "\n",
              "    .dataframe thead th {\n",
              "        text-align: right;\n",
              "    }\n",
              "</style>\n",
              "<table border=\"1\" class=\"dataframe\">\n",
              "  <thead>\n",
              "    <tr style=\"text-align: right;\">\n",
              "      <th></th>\n",
              "      <th>city</th>\n",
              "      <th>city_ibge_code</th>\n",
              "      <th>date</th>\n",
              "      <th>epidemiological_week</th>\n",
              "      <th>estimated_population</th>\n",
              "      <th>estimated_population_2019</th>\n",
              "      <th>is_last</th>\n",
              "      <th>is_repeated</th>\n",
              "      <th>last_available_confirmed</th>\n",
              "      <th>last_available_confirmed_per_100k_inhabitants</th>\n",
              "      <th>last_available_date</th>\n",
              "      <th>last_available_death_rate</th>\n",
              "      <th>last_available_deaths</th>\n",
              "      <th>order_for_place</th>\n",
              "      <th>place_type</th>\n",
              "      <th>state</th>\n",
              "      <th>new_confirmed</th>\n",
              "      <th>new_deaths</th>\n",
              "    </tr>\n",
              "  </thead>\n",
              "  <tbody>\n",
              "    <tr>\n",
              "      <th>0</th>\n",
              "      <td>Rio Branco</td>\n",
              "      <td>1200401.0</td>\n",
              "      <td>2020-03-17</td>\n",
              "      <td>202012</td>\n",
              "      <td>413418.0</td>\n",
              "      <td>407319.0</td>\n",
              "      <td>False</td>\n",
              "      <td>False</td>\n",
              "      <td>3</td>\n",
              "      <td>0.72566</td>\n",
              "      <td>2020-03-17</td>\n",
              "      <td>0.0000</td>\n",
              "      <td>0</td>\n",
              "      <td>1</td>\n",
              "      <td>city</td>\n",
              "      <td>AC</td>\n",
              "      <td>3</td>\n",
              "      <td>0</td>\n",
              "    </tr>\n",
              "    <tr>\n",
              "      <th>1</th>\n",
              "      <td>NaN</td>\n",
              "      <td>12.0</td>\n",
              "      <td>2020-03-17</td>\n",
              "      <td>202012</td>\n",
              "      <td>894470.0</td>\n",
              "      <td>881935.0</td>\n",
              "      <td>False</td>\n",
              "      <td>False</td>\n",
              "      <td>3</td>\n",
              "      <td>0.33539</td>\n",
              "      <td>2020-03-17</td>\n",
              "      <td>0.0000</td>\n",
              "      <td>0</td>\n",
              "      <td>1</td>\n",
              "      <td>state</td>\n",
              "      <td>AC</td>\n",
              "      <td>3</td>\n",
              "      <td>0</td>\n",
              "    </tr>\n",
              "    <tr>\n",
              "      <th>2</th>\n",
              "      <td>Rio Branco</td>\n",
              "      <td>1200401.0</td>\n",
              "      <td>2020-03-18</td>\n",
              "      <td>202012</td>\n",
              "      <td>413418.0</td>\n",
              "      <td>407319.0</td>\n",
              "      <td>False</td>\n",
              "      <td>False</td>\n",
              "      <td>3</td>\n",
              "      <td>0.72566</td>\n",
              "      <td>2020-03-18</td>\n",
              "      <td>0.0000</td>\n",
              "      <td>0</td>\n",
              "      <td>2</td>\n",
              "      <td>city</td>\n",
              "      <td>AC</td>\n",
              "      <td>0</td>\n",
              "      <td>0</td>\n",
              "    </tr>\n",
              "    <tr>\n",
              "      <th>3</th>\n",
              "      <td>NaN</td>\n",
              "      <td>12.0</td>\n",
              "      <td>2020-03-18</td>\n",
              "      <td>202012</td>\n",
              "      <td>894470.0</td>\n",
              "      <td>881935.0</td>\n",
              "      <td>False</td>\n",
              "      <td>False</td>\n",
              "      <td>3</td>\n",
              "      <td>0.33539</td>\n",
              "      <td>2020-03-18</td>\n",
              "      <td>0.0000</td>\n",
              "      <td>0</td>\n",
              "      <td>2</td>\n",
              "      <td>state</td>\n",
              "      <td>AC</td>\n",
              "      <td>0</td>\n",
              "      <td>0</td>\n",
              "    </tr>\n",
              "    <tr>\n",
              "      <th>4</th>\n",
              "      <td>Rio Branco</td>\n",
              "      <td>1200401.0</td>\n",
              "      <td>2020-03-19</td>\n",
              "      <td>202012</td>\n",
              "      <td>413418.0</td>\n",
              "      <td>407319.0</td>\n",
              "      <td>False</td>\n",
              "      <td>False</td>\n",
              "      <td>4</td>\n",
              "      <td>0.96754</td>\n",
              "      <td>2020-03-19</td>\n",
              "      <td>0.0000</td>\n",
              "      <td>0</td>\n",
              "      <td>3</td>\n",
              "      <td>city</td>\n",
              "      <td>AC</td>\n",
              "      <td>1</td>\n",
              "      <td>0</td>\n",
              "    </tr>\n",
              "    <tr>\n",
              "      <th>...</th>\n",
              "      <td>...</td>\n",
              "      <td>...</td>\n",
              "      <td>...</td>\n",
              "      <td>...</td>\n",
              "      <td>...</td>\n",
              "      <td>...</td>\n",
              "      <td>...</td>\n",
              "      <td>...</td>\n",
              "      <td>...</td>\n",
              "      <td>...</td>\n",
              "      <td>...</td>\n",
              "      <td>...</td>\n",
              "      <td>...</td>\n",
              "      <td>...</td>\n",
              "      <td>...</td>\n",
              "      <td>...</td>\n",
              "      <td>...</td>\n",
              "      <td>...</td>\n",
              "    </tr>\n",
              "    <tr>\n",
              "      <th>1904891</th>\n",
              "      <td>Tupirama</td>\n",
              "      <td>1721257.0</td>\n",
              "      <td>2021-04-14</td>\n",
              "      <td>202115</td>\n",
              "      <td>1922.0</td>\n",
              "      <td>1891.0</td>\n",
              "      <td>False</td>\n",
              "      <td>True</td>\n",
              "      <td>128</td>\n",
              "      <td>6659.72945</td>\n",
              "      <td>2021-04-12</td>\n",
              "      <td>0.0156</td>\n",
              "      <td>2</td>\n",
              "      <td>327</td>\n",
              "      <td>city</td>\n",
              "      <td>TO</td>\n",
              "      <td>0</td>\n",
              "      <td>0</td>\n",
              "    </tr>\n",
              "    <tr>\n",
              "      <th>1904892</th>\n",
              "      <td>Tupiratins</td>\n",
              "      <td>1721307.0</td>\n",
              "      <td>2021-04-14</td>\n",
              "      <td>202115</td>\n",
              "      <td>2729.0</td>\n",
              "      <td>2671.0</td>\n",
              "      <td>False</td>\n",
              "      <td>True</td>\n",
              "      <td>59</td>\n",
              "      <td>2161.96409</td>\n",
              "      <td>2021-04-12</td>\n",
              "      <td>0.0169</td>\n",
              "      <td>1</td>\n",
              "      <td>327</td>\n",
              "      <td>city</td>\n",
              "      <td>TO</td>\n",
              "      <td>0</td>\n",
              "      <td>0</td>\n",
              "    </tr>\n",
              "    <tr>\n",
              "      <th>1904893</th>\n",
              "      <td>Wanderlândia</td>\n",
              "      <td>1722081.0</td>\n",
              "      <td>2021-04-14</td>\n",
              "      <td>202115</td>\n",
              "      <td>11734.0</td>\n",
              "      <td>11683.0</td>\n",
              "      <td>False</td>\n",
              "      <td>True</td>\n",
              "      <td>687</td>\n",
              "      <td>5854.78098</td>\n",
              "      <td>2021-04-12</td>\n",
              "      <td>0.0116</td>\n",
              "      <td>8</td>\n",
              "      <td>352</td>\n",
              "      <td>city</td>\n",
              "      <td>TO</td>\n",
              "      <td>0</td>\n",
              "      <td>0</td>\n",
              "    </tr>\n",
              "    <tr>\n",
              "      <th>1904894</th>\n",
              "      <td>Xambioá</td>\n",
              "      <td>1722107.0</td>\n",
              "      <td>2021-04-14</td>\n",
              "      <td>202115</td>\n",
              "      <td>11520.0</td>\n",
              "      <td>11540.0</td>\n",
              "      <td>False</td>\n",
              "      <td>True</td>\n",
              "      <td>1749</td>\n",
              "      <td>15182.29167</td>\n",
              "      <td>2021-04-12</td>\n",
              "      <td>0.0114</td>\n",
              "      <td>20</td>\n",
              "      <td>341</td>\n",
              "      <td>city</td>\n",
              "      <td>TO</td>\n",
              "      <td>0</td>\n",
              "      <td>0</td>\n",
              "    </tr>\n",
              "    <tr>\n",
              "      <th>1904895</th>\n",
              "      <td>NaN</td>\n",
              "      <td>17.0</td>\n",
              "      <td>2021-04-14</td>\n",
              "      <td>202115</td>\n",
              "      <td>1590248.0</td>\n",
              "      <td>1572866.0</td>\n",
              "      <td>False</td>\n",
              "      <td>True</td>\n",
              "      <td>150210</td>\n",
              "      <td>9445.69652</td>\n",
              "      <td>2021-04-13</td>\n",
              "      <td>0.0154</td>\n",
              "      <td>2309</td>\n",
              "      <td>393</td>\n",
              "      <td>state</td>\n",
              "      <td>TO</td>\n",
              "      <td>0</td>\n",
              "      <td>0</td>\n",
              "    </tr>\n",
              "  </tbody>\n",
              "</table>\n",
              "<p>1904896 rows × 18 columns</p>\n",
              "</div>"
            ],
            "text/plain": [
              "                 city  city_ibge_code  ... new_confirmed  new_deaths\n",
              "0          Rio Branco       1200401.0  ...             3           0\n",
              "1                 NaN            12.0  ...             3           0\n",
              "2          Rio Branco       1200401.0  ...             0           0\n",
              "3                 NaN            12.0  ...             0           0\n",
              "4          Rio Branco       1200401.0  ...             1           0\n",
              "...               ...             ...  ...           ...         ...\n",
              "1904891      Tupirama       1721257.0  ...             0           0\n",
              "1904892    Tupiratins       1721307.0  ...             0           0\n",
              "1904893  Wanderlândia       1722081.0  ...             0           0\n",
              "1904894       Xambioá       1722107.0  ...             0           0\n",
              "1904895           NaN            17.0  ...             0           0\n",
              "\n",
              "[1904896 rows x 18 columns]"
            ]
          },
          "metadata": {
            "tags": []
          },
          "execution_count": 10
        }
      ]
    },
    {
      "cell_type": "markdown",
      "metadata": {
        "id": "6u0jR88JD4Mh"
      },
      "source": [
        "Fonte de dados: https://brasil.io/dataset/covid19/caso_full/"
      ]
    },
    {
      "cell_type": "markdown",
      "metadata": {
        "id": "xin6FoaqCFGx"
      },
      "source": [
        "# Analisando Dataframe"
      ]
    },
    {
      "cell_type": "code",
      "metadata": {
        "colab": {
          "base_uri": "https://localhost:8080/"
        },
        "id": "H6nMoNzJCLND",
        "outputId": "4645944c-5cad-4718-a4ef-386a0dc1e5ce"
      },
      "source": [
        "# Obtendo o numero de linhas e colunas do dataframe\n",
        "df_full.shape"
      ],
      "execution_count": null,
      "outputs": [
        {
          "output_type": "execute_result",
          "data": {
            "text/plain": [
              "(1904896, 18)"
            ]
          },
          "metadata": {
            "tags": []
          },
          "execution_count": 11
        }
      ]
    },
    {
      "cell_type": "code",
      "metadata": {
        "colab": {
          "base_uri": "https://localhost:8080/"
        },
        "id": "SnF8ZJCWGa-e",
        "outputId": "a08d7ba0-fd72-4ee1-c878-79c48ff5187c"
      },
      "source": [
        "# Obtentendo mais informações para conhecer melhor o dataframe\n",
        "df_full.info()"
      ],
      "execution_count": null,
      "outputs": [
        {
          "output_type": "stream",
          "text": [
            "<class 'pandas.core.frame.DataFrame'>\n",
            "RangeIndex: 1904896 entries, 0 to 1904895\n",
            "Data columns (total 18 columns):\n",
            " #   Column                                         Dtype  \n",
            "---  ------                                         -----  \n",
            " 0   city                                           object \n",
            " 1   city_ibge_code                                 float64\n",
            " 2   date                                           object \n",
            " 3   epidemiological_week                           int64  \n",
            " 4   estimated_population                           float64\n",
            " 5   estimated_population_2019                      float64\n",
            " 6   is_last                                        bool   \n",
            " 7   is_repeated                                    bool   \n",
            " 8   last_available_confirmed                       int64  \n",
            " 9   last_available_confirmed_per_100k_inhabitants  float64\n",
            " 10  last_available_date                            object \n",
            " 11  last_available_death_rate                      float64\n",
            " 12  last_available_deaths                          int64  \n",
            " 13  order_for_place                                int64  \n",
            " 14  place_type                                     object \n",
            " 15  state                                          object \n",
            " 16  new_confirmed                                  int64  \n",
            " 17  new_deaths                                     int64  \n",
            "dtypes: bool(2), float64(5), int64(6), object(5)\n",
            "memory usage: 236.2+ MB\n"
          ],
          "name": "stdout"
        }
      ]
    },
    {
      "cell_type": "code",
      "metadata": {
        "colab": {
          "base_uri": "https://localhost:8080/"
        },
        "id": "IiWw8HdIHVlq",
        "outputId": "5e92262f-06b7-4af3-d2ae-430d5e1dee81"
      },
      "source": [
        "# Obtendo a quantidade de dados coletados em cada estado\n",
        "df_full.groupby('state').size()"
      ],
      "execution_count": null,
      "outputs": [
        {
          "output_type": "execute_result",
          "data": {
            "text/plain": [
              "state\n",
              "AC      8169\n",
              "AL     36032\n",
              "AM     22759\n",
              "AP      6162\n",
              "BA    142365\n",
              "CE     67192\n",
              "DF      1193\n",
              "ES     29194\n",
              "GO     80973\n",
              "MA     75942\n",
              "MG    278117\n",
              "MS     26617\n",
              "MT     47373\n",
              "PA     52106\n",
              "PB     75996\n",
              "PE     66672\n",
              "PI     74388\n",
              "PR    133340\n",
              "RJ     34834\n",
              "RN     58350\n",
              "RO     18650\n",
              "RR      6165\n",
              "RS    162566\n",
              "SC    101586\n",
              "SE     26551\n",
              "SP    224414\n",
              "TO     47190\n",
              "dtype: int64"
            ]
          },
          "metadata": {
            "tags": []
          },
          "execution_count": 13
        }
      ]
    },
    {
      "cell_type": "markdown",
      "metadata": {
        "id": "A2qq7ufRVgWx"
      },
      "source": [
        "####Separando dados estatísticos de estado e cidade (place_type)"
      ]
    },
    {
      "cell_type": "code",
      "metadata": {
        "colab": {
          "base_uri": "https://localhost:8080/",
          "height": 609
        },
        "id": "FI8jKAXKTqwE",
        "outputId": "60d1b41a-b889-4445-ef62-c9bfc86dc4cf"
      },
      "source": [
        "# Obtendo dados somente dos estados\n",
        "df_states = df_full.query('place_type == \"state\"')\n",
        "df_states"
      ],
      "execution_count": null,
      "outputs": [
        {
          "output_type": "execute_result",
          "data": {
            "text/html": [
              "<div>\n",
              "<style scoped>\n",
              "    .dataframe tbody tr th:only-of-type {\n",
              "        vertical-align: middle;\n",
              "    }\n",
              "\n",
              "    .dataframe tbody tr th {\n",
              "        vertical-align: top;\n",
              "    }\n",
              "\n",
              "    .dataframe thead th {\n",
              "        text-align: right;\n",
              "    }\n",
              "</style>\n",
              "<table border=\"1\" class=\"dataframe\">\n",
              "  <thead>\n",
              "    <tr style=\"text-align: right;\">\n",
              "      <th></th>\n",
              "      <th>city</th>\n",
              "      <th>city_ibge_code</th>\n",
              "      <th>date</th>\n",
              "      <th>epidemiological_week</th>\n",
              "      <th>estimated_population</th>\n",
              "      <th>estimated_population_2019</th>\n",
              "      <th>is_last</th>\n",
              "      <th>is_repeated</th>\n",
              "      <th>last_available_confirmed</th>\n",
              "      <th>last_available_confirmed_per_100k_inhabitants</th>\n",
              "      <th>last_available_date</th>\n",
              "      <th>last_available_death_rate</th>\n",
              "      <th>last_available_deaths</th>\n",
              "      <th>order_for_place</th>\n",
              "      <th>place_type</th>\n",
              "      <th>state</th>\n",
              "      <th>new_confirmed</th>\n",
              "      <th>new_deaths</th>\n",
              "    </tr>\n",
              "  </thead>\n",
              "  <tbody>\n",
              "    <tr>\n",
              "      <th>1</th>\n",
              "      <td>NaN</td>\n",
              "      <td>12.0</td>\n",
              "      <td>2020-03-17</td>\n",
              "      <td>202012</td>\n",
              "      <td>894470.0</td>\n",
              "      <td>881935.0</td>\n",
              "      <td>False</td>\n",
              "      <td>False</td>\n",
              "      <td>3</td>\n",
              "      <td>0.33539</td>\n",
              "      <td>2020-03-17</td>\n",
              "      <td>0.0000</td>\n",
              "      <td>0</td>\n",
              "      <td>1</td>\n",
              "      <td>state</td>\n",
              "      <td>AC</td>\n",
              "      <td>3</td>\n",
              "      <td>0</td>\n",
              "    </tr>\n",
              "    <tr>\n",
              "      <th>3</th>\n",
              "      <td>NaN</td>\n",
              "      <td>12.0</td>\n",
              "      <td>2020-03-18</td>\n",
              "      <td>202012</td>\n",
              "      <td>894470.0</td>\n",
              "      <td>881935.0</td>\n",
              "      <td>False</td>\n",
              "      <td>False</td>\n",
              "      <td>3</td>\n",
              "      <td>0.33539</td>\n",
              "      <td>2020-03-18</td>\n",
              "      <td>0.0000</td>\n",
              "      <td>0</td>\n",
              "      <td>2</td>\n",
              "      <td>state</td>\n",
              "      <td>AC</td>\n",
              "      <td>0</td>\n",
              "      <td>0</td>\n",
              "    </tr>\n",
              "    <tr>\n",
              "      <th>5</th>\n",
              "      <td>NaN</td>\n",
              "      <td>12.0</td>\n",
              "      <td>2020-03-19</td>\n",
              "      <td>202012</td>\n",
              "      <td>894470.0</td>\n",
              "      <td>881935.0</td>\n",
              "      <td>False</td>\n",
              "      <td>False</td>\n",
              "      <td>4</td>\n",
              "      <td>0.44719</td>\n",
              "      <td>2020-03-19</td>\n",
              "      <td>0.0000</td>\n",
              "      <td>0</td>\n",
              "      <td>3</td>\n",
              "      <td>state</td>\n",
              "      <td>AC</td>\n",
              "      <td>1</td>\n",
              "      <td>0</td>\n",
              "    </tr>\n",
              "    <tr>\n",
              "      <th>7</th>\n",
              "      <td>NaN</td>\n",
              "      <td>12.0</td>\n",
              "      <td>2020-03-20</td>\n",
              "      <td>202012</td>\n",
              "      <td>894470.0</td>\n",
              "      <td>881935.0</td>\n",
              "      <td>False</td>\n",
              "      <td>False</td>\n",
              "      <td>7</td>\n",
              "      <td>0.78259</td>\n",
              "      <td>2020-03-20</td>\n",
              "      <td>0.0000</td>\n",
              "      <td>0</td>\n",
              "      <td>4</td>\n",
              "      <td>state</td>\n",
              "      <td>AC</td>\n",
              "      <td>3</td>\n",
              "      <td>0</td>\n",
              "    </tr>\n",
              "    <tr>\n",
              "      <th>9</th>\n",
              "      <td>NaN</td>\n",
              "      <td>12.0</td>\n",
              "      <td>2020-03-21</td>\n",
              "      <td>202012</td>\n",
              "      <td>894470.0</td>\n",
              "      <td>881935.0</td>\n",
              "      <td>False</td>\n",
              "      <td>False</td>\n",
              "      <td>11</td>\n",
              "      <td>1.22978</td>\n",
              "      <td>2020-03-21</td>\n",
              "      <td>0.0000</td>\n",
              "      <td>0</td>\n",
              "      <td>5</td>\n",
              "      <td>state</td>\n",
              "      <td>AC</td>\n",
              "      <td>4</td>\n",
              "      <td>0</td>\n",
              "    </tr>\n",
              "    <tr>\n",
              "      <th>...</th>\n",
              "      <td>...</td>\n",
              "      <td>...</td>\n",
              "      <td>...</td>\n",
              "      <td>...</td>\n",
              "      <td>...</td>\n",
              "      <td>...</td>\n",
              "      <td>...</td>\n",
              "      <td>...</td>\n",
              "      <td>...</td>\n",
              "      <td>...</td>\n",
              "      <td>...</td>\n",
              "      <td>...</td>\n",
              "      <td>...</td>\n",
              "      <td>...</td>\n",
              "      <td>...</td>\n",
              "      <td>...</td>\n",
              "      <td>...</td>\n",
              "      <td>...</td>\n",
              "    </tr>\n",
              "    <tr>\n",
              "      <th>1904335</th>\n",
              "      <td>NaN</td>\n",
              "      <td>17.0</td>\n",
              "      <td>2021-04-10</td>\n",
              "      <td>202114</td>\n",
              "      <td>1590248.0</td>\n",
              "      <td>1572866.0</td>\n",
              "      <td>False</td>\n",
              "      <td>False</td>\n",
              "      <td>148065</td>\n",
              "      <td>9310.81190</td>\n",
              "      <td>2021-04-10</td>\n",
              "      <td>0.0152</td>\n",
              "      <td>2248</td>\n",
              "      <td>389</td>\n",
              "      <td>state</td>\n",
              "      <td>TO</td>\n",
              "      <td>313</td>\n",
              "      <td>21</td>\n",
              "    </tr>\n",
              "    <tr>\n",
              "      <th>1904475</th>\n",
              "      <td>NaN</td>\n",
              "      <td>17.0</td>\n",
              "      <td>2021-04-11</td>\n",
              "      <td>202115</td>\n",
              "      <td>1590248.0</td>\n",
              "      <td>1572866.0</td>\n",
              "      <td>False</td>\n",
              "      <td>False</td>\n",
              "      <td>148347</td>\n",
              "      <td>9328.54498</td>\n",
              "      <td>2021-04-11</td>\n",
              "      <td>0.0153</td>\n",
              "      <td>2269</td>\n",
              "      <td>390</td>\n",
              "      <td>state</td>\n",
              "      <td>TO</td>\n",
              "      <td>282</td>\n",
              "      <td>21</td>\n",
              "    </tr>\n",
              "    <tr>\n",
              "      <th>1904615</th>\n",
              "      <td>NaN</td>\n",
              "      <td>17.0</td>\n",
              "      <td>2021-04-12</td>\n",
              "      <td>202115</td>\n",
              "      <td>1590248.0</td>\n",
              "      <td>1572866.0</td>\n",
              "      <td>False</td>\n",
              "      <td>False</td>\n",
              "      <td>149269</td>\n",
              "      <td>9386.52336</td>\n",
              "      <td>2021-04-12</td>\n",
              "      <td>0.0153</td>\n",
              "      <td>2289</td>\n",
              "      <td>391</td>\n",
              "      <td>state</td>\n",
              "      <td>TO</td>\n",
              "      <td>922</td>\n",
              "      <td>20</td>\n",
              "    </tr>\n",
              "    <tr>\n",
              "      <th>1904755</th>\n",
              "      <td>NaN</td>\n",
              "      <td>17.0</td>\n",
              "      <td>2021-04-13</td>\n",
              "      <td>202115</td>\n",
              "      <td>1590248.0</td>\n",
              "      <td>1572866.0</td>\n",
              "      <td>True</td>\n",
              "      <td>False</td>\n",
              "      <td>150210</td>\n",
              "      <td>9445.69652</td>\n",
              "      <td>2021-04-13</td>\n",
              "      <td>0.0154</td>\n",
              "      <td>2309</td>\n",
              "      <td>392</td>\n",
              "      <td>state</td>\n",
              "      <td>TO</td>\n",
              "      <td>941</td>\n",
              "      <td>20</td>\n",
              "    </tr>\n",
              "    <tr>\n",
              "      <th>1904895</th>\n",
              "      <td>NaN</td>\n",
              "      <td>17.0</td>\n",
              "      <td>2021-04-14</td>\n",
              "      <td>202115</td>\n",
              "      <td>1590248.0</td>\n",
              "      <td>1572866.0</td>\n",
              "      <td>False</td>\n",
              "      <td>True</td>\n",
              "      <td>150210</td>\n",
              "      <td>9445.69652</td>\n",
              "      <td>2021-04-13</td>\n",
              "      <td>0.0154</td>\n",
              "      <td>2309</td>\n",
              "      <td>393</td>\n",
              "      <td>state</td>\n",
              "      <td>TO</td>\n",
              "      <td>0</td>\n",
              "      <td>0</td>\n",
              "    </tr>\n",
              "  </tbody>\n",
              "</table>\n",
              "<p>10750 rows × 18 columns</p>\n",
              "</div>"
            ],
            "text/plain": [
              "        city  city_ibge_code        date  ...  state  new_confirmed  new_deaths\n",
              "1        NaN            12.0  2020-03-17  ...     AC              3           0\n",
              "3        NaN            12.0  2020-03-18  ...     AC              0           0\n",
              "5        NaN            12.0  2020-03-19  ...     AC              1           0\n",
              "7        NaN            12.0  2020-03-20  ...     AC              3           0\n",
              "9        NaN            12.0  2020-03-21  ...     AC              4           0\n",
              "...      ...             ...         ...  ...    ...            ...         ...\n",
              "1904335  NaN            17.0  2021-04-10  ...     TO            313          21\n",
              "1904475  NaN            17.0  2021-04-11  ...     TO            282          21\n",
              "1904615  NaN            17.0  2021-04-12  ...     TO            922          20\n",
              "1904755  NaN            17.0  2021-04-13  ...     TO            941          20\n",
              "1904895  NaN            17.0  2021-04-14  ...     TO              0           0\n",
              "\n",
              "[10750 rows x 18 columns]"
            ]
          },
          "metadata": {
            "tags": []
          },
          "execution_count": 14
        }
      ]
    },
    {
      "cell_type": "code",
      "metadata": {
        "colab": {
          "base_uri": "https://localhost:8080/",
          "height": 609
        },
        "id": "FC4E7wwTWC-z",
        "outputId": "f430f4f1-ec65-49cd-ce60-3c78e486993e"
      },
      "source": [
        "# Obtendo dados somente das cidades e removendo dados estatisticos de casos novos negativos.\n",
        "df_cities_full = df_full.query('place_type == \"city\" & new_confirmed > 0')\n",
        "df_cities_full"
      ],
      "execution_count": null,
      "outputs": [
        {
          "output_type": "execute_result",
          "data": {
            "text/html": [
              "<div>\n",
              "<style scoped>\n",
              "    .dataframe tbody tr th:only-of-type {\n",
              "        vertical-align: middle;\n",
              "    }\n",
              "\n",
              "    .dataframe tbody tr th {\n",
              "        vertical-align: top;\n",
              "    }\n",
              "\n",
              "    .dataframe thead th {\n",
              "        text-align: right;\n",
              "    }\n",
              "</style>\n",
              "<table border=\"1\" class=\"dataframe\">\n",
              "  <thead>\n",
              "    <tr style=\"text-align: right;\">\n",
              "      <th></th>\n",
              "      <th>city</th>\n",
              "      <th>city_ibge_code</th>\n",
              "      <th>date</th>\n",
              "      <th>epidemiological_week</th>\n",
              "      <th>estimated_population</th>\n",
              "      <th>estimated_population_2019</th>\n",
              "      <th>is_last</th>\n",
              "      <th>is_repeated</th>\n",
              "      <th>last_available_confirmed</th>\n",
              "      <th>last_available_confirmed_per_100k_inhabitants</th>\n",
              "      <th>last_available_date</th>\n",
              "      <th>last_available_death_rate</th>\n",
              "      <th>last_available_deaths</th>\n",
              "      <th>order_for_place</th>\n",
              "      <th>place_type</th>\n",
              "      <th>state</th>\n",
              "      <th>new_confirmed</th>\n",
              "      <th>new_deaths</th>\n",
              "    </tr>\n",
              "  </thead>\n",
              "  <tbody>\n",
              "    <tr>\n",
              "      <th>0</th>\n",
              "      <td>Rio Branco</td>\n",
              "      <td>1200401.0</td>\n",
              "      <td>2020-03-17</td>\n",
              "      <td>202012</td>\n",
              "      <td>413418.0</td>\n",
              "      <td>407319.0</td>\n",
              "      <td>False</td>\n",
              "      <td>False</td>\n",
              "      <td>3</td>\n",
              "      <td>0.72566</td>\n",
              "      <td>2020-03-17</td>\n",
              "      <td>0.0000</td>\n",
              "      <td>0</td>\n",
              "      <td>1</td>\n",
              "      <td>city</td>\n",
              "      <td>AC</td>\n",
              "      <td>3</td>\n",
              "      <td>0</td>\n",
              "    </tr>\n",
              "    <tr>\n",
              "      <th>4</th>\n",
              "      <td>Rio Branco</td>\n",
              "      <td>1200401.0</td>\n",
              "      <td>2020-03-19</td>\n",
              "      <td>202012</td>\n",
              "      <td>413418.0</td>\n",
              "      <td>407319.0</td>\n",
              "      <td>False</td>\n",
              "      <td>False</td>\n",
              "      <td>4</td>\n",
              "      <td>0.96754</td>\n",
              "      <td>2020-03-19</td>\n",
              "      <td>0.0000</td>\n",
              "      <td>0</td>\n",
              "      <td>3</td>\n",
              "      <td>city</td>\n",
              "      <td>AC</td>\n",
              "      <td>1</td>\n",
              "      <td>0</td>\n",
              "    </tr>\n",
              "    <tr>\n",
              "      <th>6</th>\n",
              "      <td>Rio Branco</td>\n",
              "      <td>1200401.0</td>\n",
              "      <td>2020-03-20</td>\n",
              "      <td>202012</td>\n",
              "      <td>413418.0</td>\n",
              "      <td>407319.0</td>\n",
              "      <td>False</td>\n",
              "      <td>False</td>\n",
              "      <td>7</td>\n",
              "      <td>1.69320</td>\n",
              "      <td>2020-03-20</td>\n",
              "      <td>0.0000</td>\n",
              "      <td>0</td>\n",
              "      <td>4</td>\n",
              "      <td>city</td>\n",
              "      <td>AC</td>\n",
              "      <td>3</td>\n",
              "      <td>0</td>\n",
              "    </tr>\n",
              "    <tr>\n",
              "      <th>8</th>\n",
              "      <td>Rio Branco</td>\n",
              "      <td>1200401.0</td>\n",
              "      <td>2020-03-21</td>\n",
              "      <td>202012</td>\n",
              "      <td>413418.0</td>\n",
              "      <td>407319.0</td>\n",
              "      <td>False</td>\n",
              "      <td>False</td>\n",
              "      <td>11</td>\n",
              "      <td>2.66075</td>\n",
              "      <td>2020-03-21</td>\n",
              "      <td>0.0000</td>\n",
              "      <td>0</td>\n",
              "      <td>5</td>\n",
              "      <td>city</td>\n",
              "      <td>AC</td>\n",
              "      <td>4</td>\n",
              "      <td>0</td>\n",
              "    </tr>\n",
              "    <tr>\n",
              "      <th>12</th>\n",
              "      <td>Rio Branco</td>\n",
              "      <td>1200401.0</td>\n",
              "      <td>2020-03-23</td>\n",
              "      <td>202013</td>\n",
              "      <td>413418.0</td>\n",
              "      <td>407319.0</td>\n",
              "      <td>False</td>\n",
              "      <td>False</td>\n",
              "      <td>17</td>\n",
              "      <td>4.11206</td>\n",
              "      <td>2020-03-23</td>\n",
              "      <td>0.0000</td>\n",
              "      <td>0</td>\n",
              "      <td>7</td>\n",
              "      <td>city</td>\n",
              "      <td>AC</td>\n",
              "      <td>6</td>\n",
              "      <td>0</td>\n",
              "    </tr>\n",
              "    <tr>\n",
              "      <th>...</th>\n",
              "      <td>...</td>\n",
              "      <td>...</td>\n",
              "      <td>...</td>\n",
              "      <td>...</td>\n",
              "      <td>...</td>\n",
              "      <td>...</td>\n",
              "      <td>...</td>\n",
              "      <td>...</td>\n",
              "      <td>...</td>\n",
              "      <td>...</td>\n",
              "      <td>...</td>\n",
              "      <td>...</td>\n",
              "      <td>...</td>\n",
              "      <td>...</td>\n",
              "      <td>...</td>\n",
              "      <td>...</td>\n",
              "      <td>...</td>\n",
              "      <td>...</td>\n",
              "    </tr>\n",
              "    <tr>\n",
              "      <th>1904607</th>\n",
              "      <td>Taipas do Tocantins</td>\n",
              "      <td>1720937.0</td>\n",
              "      <td>2021-04-12</td>\n",
              "      <td>202115</td>\n",
              "      <td>2166.0</td>\n",
              "      <td>2148.0</td>\n",
              "      <td>True</td>\n",
              "      <td>False</td>\n",
              "      <td>66</td>\n",
              "      <td>3047.09141</td>\n",
              "      <td>2021-04-12</td>\n",
              "      <td>0.0000</td>\n",
              "      <td>0</td>\n",
              "      <td>325</td>\n",
              "      <td>city</td>\n",
              "      <td>TO</td>\n",
              "      <td>3</td>\n",
              "      <td>0</td>\n",
              "    </tr>\n",
              "    <tr>\n",
              "      <th>1904609</th>\n",
              "      <td>Tocantinópolis</td>\n",
              "      <td>1721208.0</td>\n",
              "      <td>2021-04-12</td>\n",
              "      <td>202115</td>\n",
              "      <td>22845.0</td>\n",
              "      <td>22870.0</td>\n",
              "      <td>True</td>\n",
              "      <td>False</td>\n",
              "      <td>1783</td>\n",
              "      <td>7804.77128</td>\n",
              "      <td>2021-04-12</td>\n",
              "      <td>0.0168</td>\n",
              "      <td>30</td>\n",
              "      <td>363</td>\n",
              "      <td>city</td>\n",
              "      <td>TO</td>\n",
              "      <td>6</td>\n",
              "      <td>0</td>\n",
              "    </tr>\n",
              "    <tr>\n",
              "      <th>1904612</th>\n",
              "      <td>Tupiratins</td>\n",
              "      <td>1721307.0</td>\n",
              "      <td>2021-04-12</td>\n",
              "      <td>202115</td>\n",
              "      <td>2729.0</td>\n",
              "      <td>2671.0</td>\n",
              "      <td>True</td>\n",
              "      <td>False</td>\n",
              "      <td>59</td>\n",
              "      <td>2161.96409</td>\n",
              "      <td>2021-04-12</td>\n",
              "      <td>0.0169</td>\n",
              "      <td>1</td>\n",
              "      <td>325</td>\n",
              "      <td>city</td>\n",
              "      <td>TO</td>\n",
              "      <td>4</td>\n",
              "      <td>0</td>\n",
              "    </tr>\n",
              "    <tr>\n",
              "      <th>1904613</th>\n",
              "      <td>Wanderlândia</td>\n",
              "      <td>1722081.0</td>\n",
              "      <td>2021-04-12</td>\n",
              "      <td>202115</td>\n",
              "      <td>11734.0</td>\n",
              "      <td>11683.0</td>\n",
              "      <td>True</td>\n",
              "      <td>False</td>\n",
              "      <td>687</td>\n",
              "      <td>5854.78098</td>\n",
              "      <td>2021-04-12</td>\n",
              "      <td>0.0116</td>\n",
              "      <td>8</td>\n",
              "      <td>350</td>\n",
              "      <td>city</td>\n",
              "      <td>TO</td>\n",
              "      <td>1</td>\n",
              "      <td>0</td>\n",
              "    </tr>\n",
              "    <tr>\n",
              "      <th>1904614</th>\n",
              "      <td>Xambioá</td>\n",
              "      <td>1722107.0</td>\n",
              "      <td>2021-04-12</td>\n",
              "      <td>202115</td>\n",
              "      <td>11520.0</td>\n",
              "      <td>11540.0</td>\n",
              "      <td>True</td>\n",
              "      <td>False</td>\n",
              "      <td>1749</td>\n",
              "      <td>15182.29167</td>\n",
              "      <td>2021-04-12</td>\n",
              "      <td>0.0114</td>\n",
              "      <td>20</td>\n",
              "      <td>339</td>\n",
              "      <td>city</td>\n",
              "      <td>TO</td>\n",
              "      <td>33</td>\n",
              "      <td>0</td>\n",
              "    </tr>\n",
              "  </tbody>\n",
              "</table>\n",
              "<p>807050 rows × 18 columns</p>\n",
              "</div>"
            ],
            "text/plain": [
              "                        city  city_ibge_code  ... new_confirmed  new_deaths\n",
              "0                 Rio Branco       1200401.0  ...             3           0\n",
              "4                 Rio Branco       1200401.0  ...             1           0\n",
              "6                 Rio Branco       1200401.0  ...             3           0\n",
              "8                 Rio Branco       1200401.0  ...             4           0\n",
              "12                Rio Branco       1200401.0  ...             6           0\n",
              "...                      ...             ...  ...           ...         ...\n",
              "1904607  Taipas do Tocantins       1720937.0  ...             3           0\n",
              "1904609       Tocantinópolis       1721208.0  ...             6           0\n",
              "1904612           Tupiratins       1721307.0  ...             4           0\n",
              "1904613         Wanderlândia       1722081.0  ...             1           0\n",
              "1904614              Xambioá       1722107.0  ...            33           0\n",
              "\n",
              "[807050 rows x 18 columns]"
            ]
          },
          "metadata": {
            "tags": []
          },
          "execution_count": 15
        }
      ]
    },
    {
      "cell_type": "markdown",
      "metadata": {
        "id": "hZC8wzsRA1cZ"
      },
      "source": [
        "# Explorando os dados"
      ]
    },
    {
      "cell_type": "markdown",
      "metadata": {
        "id": "JI9R8ISmCJ66"
      },
      "source": [
        "O conjunto de dados de covid é muito grande, portanto vamos separa algumas dados para fazer uma análise por amostragem"
      ]
    },
    {
      "cell_type": "code",
      "metadata": {
        "colab": {
          "base_uri": "https://localhost:8080/"
        },
        "id": "W7ilB7o4IAeR",
        "outputId": "b9aa3a4d-af6a-46f8-a609-34d0c47e0b3a"
      },
      "source": [
        "# Obtendo amostragem de 15% da base de dados das cidades aleatóriamente\n",
        "df_cities = df_cities_full.sample(frac=0.15)\n",
        "\n",
        "# Exibindo os dados de amostragem\n",
        "df_cities.info()"
      ],
      "execution_count": null,
      "outputs": [
        {
          "output_type": "stream",
          "text": [
            "<class 'pandas.core.frame.DataFrame'>\n",
            "Int64Index: 121058 entries, 1173619 to 93218\n",
            "Data columns (total 18 columns):\n",
            " #   Column                                         Non-Null Count   Dtype  \n",
            "---  ------                                         --------------   -----  \n",
            " 0   city                                           121058 non-null  object \n",
            " 1   city_ibge_code                                 120624 non-null  float64\n",
            " 2   date                                           121058 non-null  object \n",
            " 3   epidemiological_week                           121058 non-null  int64  \n",
            " 4   estimated_population                           120624 non-null  float64\n",
            " 5   estimated_population_2019                      120624 non-null  float64\n",
            " 6   is_last                                        121058 non-null  bool   \n",
            " 7   is_repeated                                    121058 non-null  bool   \n",
            " 8   last_available_confirmed                       121058 non-null  int64  \n",
            " 9   last_available_confirmed_per_100k_inhabitants  120624 non-null  float64\n",
            " 10  last_available_date                            121058 non-null  object \n",
            " 11  last_available_death_rate                      121058 non-null  float64\n",
            " 12  last_available_deaths                          121058 non-null  int64  \n",
            " 13  order_for_place                                121058 non-null  int64  \n",
            " 14  place_type                                     121058 non-null  object \n",
            " 15  state                                          121058 non-null  object \n",
            " 16  new_confirmed                                  121058 non-null  int64  \n",
            " 17  new_deaths                                     121058 non-null  int64  \n",
            "dtypes: bool(2), float64(5), int64(6), object(5)\n",
            "memory usage: 15.9+ MB\n"
          ],
          "name": "stdout"
        }
      ]
    },
    {
      "cell_type": "code",
      "metadata": {
        "colab": {
          "base_uri": "https://localhost:8080/",
          "height": 309
        },
        "id": "55r8e1P3ZmB4",
        "outputId": "b3b6fc92-4a6e-4383-9074-862491b12824"
      },
      "source": [
        "# Listando primeiras linhas da amostragem para analisar os dados\n",
        "df_cities.head()"
      ],
      "execution_count": null,
      "outputs": [
        {
          "output_type": "execute_result",
          "data": {
            "text/html": [
              "<div>\n",
              "<style scoped>\n",
              "    .dataframe tbody tr th:only-of-type {\n",
              "        vertical-align: middle;\n",
              "    }\n",
              "\n",
              "    .dataframe tbody tr th {\n",
              "        vertical-align: top;\n",
              "    }\n",
              "\n",
              "    .dataframe thead th {\n",
              "        text-align: right;\n",
              "    }\n",
              "</style>\n",
              "<table border=\"1\" class=\"dataframe\">\n",
              "  <thead>\n",
              "    <tr style=\"text-align: right;\">\n",
              "      <th></th>\n",
              "      <th>city</th>\n",
              "      <th>city_ibge_code</th>\n",
              "      <th>date</th>\n",
              "      <th>epidemiological_week</th>\n",
              "      <th>estimated_population</th>\n",
              "      <th>estimated_population_2019</th>\n",
              "      <th>is_last</th>\n",
              "      <th>is_repeated</th>\n",
              "      <th>last_available_confirmed</th>\n",
              "      <th>last_available_confirmed_per_100k_inhabitants</th>\n",
              "      <th>last_available_date</th>\n",
              "      <th>last_available_death_rate</th>\n",
              "      <th>last_available_deaths</th>\n",
              "      <th>order_for_place</th>\n",
              "      <th>place_type</th>\n",
              "      <th>state</th>\n",
              "      <th>new_confirmed</th>\n",
              "      <th>new_deaths</th>\n",
              "    </tr>\n",
              "  </thead>\n",
              "  <tbody>\n",
              "    <tr>\n",
              "      <th>1173619</th>\n",
              "      <td>São João</td>\n",
              "      <td>4124806.0</td>\n",
              "      <td>2020-12-08</td>\n",
              "      <td>202050</td>\n",
              "      <td>10181.0</td>\n",
              "      <td>10241.0</td>\n",
              "      <td>False</td>\n",
              "      <td>False</td>\n",
              "      <td>300</td>\n",
              "      <td>2946.66536</td>\n",
              "      <td>2020-12-08</td>\n",
              "      <td>0.0133</td>\n",
              "      <td>4</td>\n",
              "      <td>208</td>\n",
              "      <td>city</td>\n",
              "      <td>PR</td>\n",
              "      <td>4</td>\n",
              "      <td>1</td>\n",
              "    </tr>\n",
              "    <tr>\n",
              "      <th>1510352</th>\n",
              "      <td>Luiz Alves</td>\n",
              "      <td>4210001.0</td>\n",
              "      <td>2020-05-14</td>\n",
              "      <td>202020</td>\n",
              "      <td>13107.0</td>\n",
              "      <td>12859.0</td>\n",
              "      <td>False</td>\n",
              "      <td>False</td>\n",
              "      <td>2</td>\n",
              "      <td>15.25902</td>\n",
              "      <td>2020-05-14</td>\n",
              "      <td>0.0000</td>\n",
              "      <td>0</td>\n",
              "      <td>5</td>\n",
              "      <td>city</td>\n",
              "      <td>SC</td>\n",
              "      <td>1</td>\n",
              "      <td>0</td>\n",
              "    </tr>\n",
              "    <tr>\n",
              "      <th>1324713</th>\n",
              "      <td>Cacaulândia</td>\n",
              "      <td>1100601.0</td>\n",
              "      <td>2020-09-10</td>\n",
              "      <td>202037</td>\n",
              "      <td>6269.0</td>\n",
              "      <td>6230.0</td>\n",
              "      <td>False</td>\n",
              "      <td>False</td>\n",
              "      <td>78</td>\n",
              "      <td>1244.21758</td>\n",
              "      <td>2020-09-10</td>\n",
              "      <td>0.0000</td>\n",
              "      <td>0</td>\n",
              "      <td>122</td>\n",
              "      <td>city</td>\n",
              "      <td>RO</td>\n",
              "      <td>1</td>\n",
              "      <td>0</td>\n",
              "    </tr>\n",
              "    <tr>\n",
              "      <th>629033</th>\n",
              "      <td>Rio Acima</td>\n",
              "      <td>3154804.0</td>\n",
              "      <td>2020-11-26</td>\n",
              "      <td>202048</td>\n",
              "      <td>10420.0</td>\n",
              "      <td>10312.0</td>\n",
              "      <td>False</td>\n",
              "      <td>False</td>\n",
              "      <td>292</td>\n",
              "      <td>2802.30326</td>\n",
              "      <td>2020-11-26</td>\n",
              "      <td>0.0137</td>\n",
              "      <td>4</td>\n",
              "      <td>189</td>\n",
              "      <td>city</td>\n",
              "      <td>MG</td>\n",
              "      <td>1</td>\n",
              "      <td>0</td>\n",
              "    </tr>\n",
              "    <tr>\n",
              "      <th>983886</th>\n",
              "      <td>Pesqueira</td>\n",
              "      <td>2610905.0</td>\n",
              "      <td>2020-10-20</td>\n",
              "      <td>202043</td>\n",
              "      <td>67735.0</td>\n",
              "      <td>67395.0</td>\n",
              "      <td>False</td>\n",
              "      <td>False</td>\n",
              "      <td>1286</td>\n",
              "      <td>1898.57533</td>\n",
              "      <td>2020-10-20</td>\n",
              "      <td>0.0272</td>\n",
              "      <td>35</td>\n",
              "      <td>187</td>\n",
              "      <td>city</td>\n",
              "      <td>PE</td>\n",
              "      <td>1</td>\n",
              "      <td>1</td>\n",
              "    </tr>\n",
              "  </tbody>\n",
              "</table>\n",
              "</div>"
            ],
            "text/plain": [
              "                city  city_ibge_code  ... new_confirmed  new_deaths\n",
              "1173619     São João       4124806.0  ...             4           1\n",
              "1510352   Luiz Alves       4210001.0  ...             1           0\n",
              "1324713  Cacaulândia       1100601.0  ...             1           0\n",
              "629033     Rio Acima       3154804.0  ...             1           0\n",
              "983886     Pesqueira       2610905.0  ...             1           1\n",
              "\n",
              "[5 rows x 18 columns]"
            ]
          },
          "metadata": {
            "tags": []
          },
          "execution_count": 17
        }
      ]
    },
    {
      "cell_type": "code",
      "metadata": {
        "colab": {
          "base_uri": "https://localhost:8080/",
          "height": 204
        },
        "id": "7awukn9HdBSN",
        "outputId": "1c98f324-6293-47b9-fd6d-9d96881bad2e"
      },
      "source": [
        "# Cruiando nosso dataframe principal, selecionando as colunas que serão trabalhadas\n",
        "df = df_cities[[\"city\",\"date\",\"state\",\"epidemiological_week\",\"new_confirmed\",\"new_deaths\",\"estimated_population\"]]\n",
        "df.head()"
      ],
      "execution_count": null,
      "outputs": [
        {
          "output_type": "execute_result",
          "data": {
            "text/html": [
              "<div>\n",
              "<style scoped>\n",
              "    .dataframe tbody tr th:only-of-type {\n",
              "        vertical-align: middle;\n",
              "    }\n",
              "\n",
              "    .dataframe tbody tr th {\n",
              "        vertical-align: top;\n",
              "    }\n",
              "\n",
              "    .dataframe thead th {\n",
              "        text-align: right;\n",
              "    }\n",
              "</style>\n",
              "<table border=\"1\" class=\"dataframe\">\n",
              "  <thead>\n",
              "    <tr style=\"text-align: right;\">\n",
              "      <th></th>\n",
              "      <th>city</th>\n",
              "      <th>date</th>\n",
              "      <th>state</th>\n",
              "      <th>epidemiological_week</th>\n",
              "      <th>new_confirmed</th>\n",
              "      <th>new_deaths</th>\n",
              "      <th>estimated_population</th>\n",
              "    </tr>\n",
              "  </thead>\n",
              "  <tbody>\n",
              "    <tr>\n",
              "      <th>1173619</th>\n",
              "      <td>São João</td>\n",
              "      <td>2020-12-08</td>\n",
              "      <td>PR</td>\n",
              "      <td>202050</td>\n",
              "      <td>4</td>\n",
              "      <td>1</td>\n",
              "      <td>10181.0</td>\n",
              "    </tr>\n",
              "    <tr>\n",
              "      <th>1510352</th>\n",
              "      <td>Luiz Alves</td>\n",
              "      <td>2020-05-14</td>\n",
              "      <td>SC</td>\n",
              "      <td>202020</td>\n",
              "      <td>1</td>\n",
              "      <td>0</td>\n",
              "      <td>13107.0</td>\n",
              "    </tr>\n",
              "    <tr>\n",
              "      <th>1324713</th>\n",
              "      <td>Cacaulândia</td>\n",
              "      <td>2020-09-10</td>\n",
              "      <td>RO</td>\n",
              "      <td>202037</td>\n",
              "      <td>1</td>\n",
              "      <td>0</td>\n",
              "      <td>6269.0</td>\n",
              "    </tr>\n",
              "    <tr>\n",
              "      <th>629033</th>\n",
              "      <td>Rio Acima</td>\n",
              "      <td>2020-11-26</td>\n",
              "      <td>MG</td>\n",
              "      <td>202048</td>\n",
              "      <td>1</td>\n",
              "      <td>0</td>\n",
              "      <td>10420.0</td>\n",
              "    </tr>\n",
              "    <tr>\n",
              "      <th>983886</th>\n",
              "      <td>Pesqueira</td>\n",
              "      <td>2020-10-20</td>\n",
              "      <td>PE</td>\n",
              "      <td>202043</td>\n",
              "      <td>1</td>\n",
              "      <td>1</td>\n",
              "      <td>67735.0</td>\n",
              "    </tr>\n",
              "  </tbody>\n",
              "</table>\n",
              "</div>"
            ],
            "text/plain": [
              "                city        date  ... new_deaths  estimated_population\n",
              "1173619     São João  2020-12-08  ...          1               10181.0\n",
              "1510352   Luiz Alves  2020-05-14  ...          0               13107.0\n",
              "1324713  Cacaulândia  2020-09-10  ...          0                6269.0\n",
              "629033     Rio Acima  2020-11-26  ...          0               10420.0\n",
              "983886     Pesqueira  2020-10-20  ...          1               67735.0\n",
              "\n",
              "[5 rows x 7 columns]"
            ]
          },
          "metadata": {
            "tags": []
          },
          "execution_count": 18
        }
      ]
    },
    {
      "cell_type": "markdown",
      "metadata": {
        "id": "5Fqb6uSqegDW"
      },
      "source": [
        "**Dicionário dos dados**\n",
        "\n",
        "1. city: nome da cidade\n",
        "1. date: data de coleta dos dados\n",
        "1. state: estado\n",
        "1. epidemiological_week: semana epidemiologica\n",
        "1. new_confirmed: numero de casos confirmados\n",
        "1. new_deaths: numero de óbitos\n",
        "1. estimated_population: populacao estimada"
      ]
    },
    {
      "cell_type": "code",
      "metadata": {
        "colab": {
          "base_uri": "https://localhost:8080/"
        },
        "id": "aSrC7D1Ic3fd",
        "outputId": "6a202a40-31f9-49aa-d1d2-d5539f5d316e"
      },
      "source": [
        "# Visualizando os estados do dataframe\n",
        "df[\"state\"].unique()"
      ],
      "execution_count": null,
      "outputs": [
        {
          "output_type": "execute_result",
          "data": {
            "text/plain": [
              "array(['PR', 'SC', 'RO', 'MG', 'PE', 'GO', 'SP', 'BA', 'PB', 'SE', 'RS',\n",
              "       'MS', 'AL', 'PI', 'MT', 'CE', 'PA', 'RJ', 'MA', 'TO', 'DF', 'AP',\n",
              "       'RN', 'ES', 'RR', 'AM', 'AC'], dtype=object)"
            ]
          },
          "metadata": {
            "tags": []
          },
          "execution_count": 19
        }
      ]
    },
    {
      "cell_type": "code",
      "metadata": {
        "colab": {
          "base_uri": "https://localhost:8080/",
          "height": 917
        },
        "id": "bUI22kHuf1u-",
        "outputId": "ed4b373b-8f88-4573-dd89-fc335ff8a829"
      },
      "source": [
        "# Calculando a quantidade de registros por estado, e criando um dataframe gp_states com o nome das colunas state e confirmed_cases respectivamente\n",
        "gp_states = df[\"state\"].value_counts().rename_axis(\"state\").to_frame(\"confirmed_cases\")\n",
        "gp_states"
      ],
      "execution_count": null,
      "outputs": [
        {
          "output_type": "execute_result",
          "data": {
            "text/html": [
              "<div>\n",
              "<style scoped>\n",
              "    .dataframe tbody tr th:only-of-type {\n",
              "        vertical-align: middle;\n",
              "    }\n",
              "\n",
              "    .dataframe tbody tr th {\n",
              "        vertical-align: top;\n",
              "    }\n",
              "\n",
              "    .dataframe thead th {\n",
              "        text-align: right;\n",
              "    }\n",
              "</style>\n",
              "<table border=\"1\" class=\"dataframe\">\n",
              "  <thead>\n",
              "    <tr style=\"text-align: right;\">\n",
              "      <th></th>\n",
              "      <th>confirmed_cases</th>\n",
              "    </tr>\n",
              "    <tr>\n",
              "      <th>state</th>\n",
              "      <th></th>\n",
              "    </tr>\n",
              "  </thead>\n",
              "  <tbody>\n",
              "    <tr>\n",
              "      <th>SP</th>\n",
              "      <td>17131</td>\n",
              "    </tr>\n",
              "    <tr>\n",
              "      <th>MG</th>\n",
              "      <td>11526</td>\n",
              "    </tr>\n",
              "    <tr>\n",
              "      <th>BA</th>\n",
              "      <td>11194</td>\n",
              "    </tr>\n",
              "    <tr>\n",
              "      <th>PR</th>\n",
              "      <td>9843</td>\n",
              "    </tr>\n",
              "    <tr>\n",
              "      <th>RS</th>\n",
              "      <td>8764</td>\n",
              "    </tr>\n",
              "    <tr>\n",
              "      <th>SC</th>\n",
              "      <td>8154</td>\n",
              "    </tr>\n",
              "    <tr>\n",
              "      <th>CE</th>\n",
              "      <td>5461</td>\n",
              "    </tr>\n",
              "    <tr>\n",
              "      <th>PE</th>\n",
              "      <td>5018</td>\n",
              "    </tr>\n",
              "    <tr>\n",
              "      <th>GO</th>\n",
              "      <td>4507</td>\n",
              "    </tr>\n",
              "    <tr>\n",
              "      <th>PB</th>\n",
              "      <td>4302</td>\n",
              "    </tr>\n",
              "    <tr>\n",
              "      <th>PI</th>\n",
              "      <td>3908</td>\n",
              "    </tr>\n",
              "    <tr>\n",
              "      <th>MA</th>\n",
              "      <td>3516</td>\n",
              "    </tr>\n",
              "    <tr>\n",
              "      <th>PA</th>\n",
              "      <td>3281</td>\n",
              "    </tr>\n",
              "    <tr>\n",
              "      <th>ES</th>\n",
              "      <td>3150</td>\n",
              "    </tr>\n",
              "    <tr>\n",
              "      <th>RJ</th>\n",
              "      <td>3114</td>\n",
              "    </tr>\n",
              "    <tr>\n",
              "      <th>TO</th>\n",
              "      <td>2364</td>\n",
              "    </tr>\n",
              "    <tr>\n",
              "      <th>MT</th>\n",
              "      <td>2341</td>\n",
              "    </tr>\n",
              "    <tr>\n",
              "      <th>AL</th>\n",
              "      <td>2268</td>\n",
              "    </tr>\n",
              "    <tr>\n",
              "      <th>AM</th>\n",
              "      <td>2153</td>\n",
              "    </tr>\n",
              "    <tr>\n",
              "      <th>RN</th>\n",
              "      <td>2135</td>\n",
              "    </tr>\n",
              "    <tr>\n",
              "      <th>MS</th>\n",
              "      <td>2080</td>\n",
              "    </tr>\n",
              "    <tr>\n",
              "      <th>SE</th>\n",
              "      <td>1704</td>\n",
              "    </tr>\n",
              "    <tr>\n",
              "      <th>RO</th>\n",
              "      <td>1359</td>\n",
              "    </tr>\n",
              "    <tr>\n",
              "      <th>AC</th>\n",
              "      <td>680</td>\n",
              "    </tr>\n",
              "    <tr>\n",
              "      <th>RR</th>\n",
              "      <td>527</td>\n",
              "    </tr>\n",
              "    <tr>\n",
              "      <th>AP</th>\n",
              "      <td>467</td>\n",
              "    </tr>\n",
              "    <tr>\n",
              "      <th>DF</th>\n",
              "      <td>111</td>\n",
              "    </tr>\n",
              "  </tbody>\n",
              "</table>\n",
              "</div>"
            ],
            "text/plain": [
              "       confirmed_cases\n",
              "state                 \n",
              "SP               17131\n",
              "MG               11526\n",
              "BA               11194\n",
              "PR                9843\n",
              "RS                8764\n",
              "SC                8154\n",
              "CE                5461\n",
              "PE                5018\n",
              "GO                4507\n",
              "PB                4302\n",
              "PI                3908\n",
              "MA                3516\n",
              "PA                3281\n",
              "ES                3150\n",
              "RJ                3114\n",
              "TO                2364\n",
              "MT                2341\n",
              "AL                2268\n",
              "AM                2153\n",
              "RN                2135\n",
              "MS                2080\n",
              "SE                1704\n",
              "RO                1359\n",
              "AC                 680\n",
              "RR                 527\n",
              "AP                 467\n",
              "DF                 111"
            ]
          },
          "metadata": {
            "tags": []
          },
          "execution_count": 20
        }
      ]
    },
    {
      "cell_type": "code",
      "metadata": {
        "colab": {
          "base_uri": "https://localhost:8080/"
        },
        "id": "4J2RuSPs64Rd",
        "outputId": "dc7d9150-3a31-49d9-dbcb-41ed0eb3a65e"
      },
      "source": [
        "# Listando os 5 estados com mais casos registrados\n",
        "states_top5 = df[\"state\"].value_counts()[:5]\n",
        "states_top5.keys().tolist()"
      ],
      "execution_count": null,
      "outputs": [
        {
          "output_type": "execute_result",
          "data": {
            "text/plain": [
              "['SP', 'MG', 'BA', 'PR', 'RS']"
            ]
          },
          "metadata": {
            "tags": []
          },
          "execution_count": 21
        }
      ]
    },
    {
      "cell_type": "code",
      "metadata": {
        "colab": {
          "base_uri": "https://localhost:8080/"
        },
        "id": "NYAfadZcFwDy",
        "outputId": "4f6a406f-6a83-4b7e-c22b-9839a947fc9c"
      },
      "source": [
        "# Criando um dataframe somente com o top 5\n",
        "df_top5 = df.loc[df['state'].isin(states_top5.keys().tolist())]\n",
        "\n",
        "# Calculando numero de casos agrupados por estado\n",
        "df_top5['state'].value_counts()"
      ],
      "execution_count": null,
      "outputs": [
        {
          "output_type": "execute_result",
          "data": {
            "text/plain": [
              "SP    17131\n",
              "MG    11526\n",
              "BA    11194\n",
              "PR     9843\n",
              "RS     8764\n",
              "Name: state, dtype: int64"
            ]
          },
          "metadata": {
            "tags": []
          },
          "execution_count": 22
        }
      ]
    },
    {
      "cell_type": "markdown",
      "metadata": {
        "id": "nmeS9xVXeI8q"
      },
      "source": [
        "# Graficos com Pyplot e Seaborn"
      ]
    },
    {
      "cell_type": "code",
      "metadata": {
        "id": "y6AhVnx1eM6X"
      },
      "source": [
        "# Importando biblioteca de manipulação grafica pyplot\n",
        "import matplotlib.pyplot as plt\n",
        "\n",
        "# Utilizado em ambiente notebook para que os gráficos sejam renderizados\n",
        "%matplotlib inline "
      ],
      "execution_count": null,
      "outputs": []
    },
    {
      "cell_type": "code",
      "metadata": {
        "colab": {
          "base_uri": "https://localhost:8080/",
          "height": 289
        },
        "id": "n3KlfUNGgYnU",
        "outputId": "5b6d7250-ba19-4aed-9143-fddc91eb391b"
      },
      "source": [
        "# Exibindo dados agrupados por estado\n",
        "df[\"state\"].value_counts().plot.bar(figsize=(10,4))"
      ],
      "execution_count": null,
      "outputs": [
        {
          "output_type": "execute_result",
          "data": {
            "text/plain": [
              "<matplotlib.axes._subplots.AxesSubplot at 0x7fd74088db50>"
            ]
          },
          "metadata": {
            "tags": []
          },
          "execution_count": 24
        },
        {
          "output_type": "display_data",
          "data": {
            "image/png": "[encoded data removed]",
            "text/plain": [
              "<Figure size 720x288 with 1 Axes>"
            ]
          },
          "metadata": {
            "tags": [],
            "needs_background": "light"
          }
        }
      ]
    },
    {
      "cell_type": "markdown",
      "metadata": {
        "id": "BJUbWTo04Hd6"
      },
      "source": [
        "O grafico acima demonstra os estados ordenados do maior para o menor em numero de casos registrados, de todo dataframe coletado."
      ]
    },
    {
      "cell_type": "code",
      "metadata": {
        "colab": {
          "base_uri": "https://localhost:8080/",
          "height": 289
        },
        "id": "QAPitno4GfDs",
        "outputId": "40faaf47-d55a-4609-c263-9046fb2a5f3c"
      },
      "source": [
        "# Exibindo dados grupados por estado do top 5 (5 estados com mais casos registrados)\n",
        "df_top5[\"state\"].value_counts().plot.bar(figsize=(5,4))"
      ],
      "execution_count": null,
      "outputs": [
        {
          "output_type": "execute_result",
          "data": {
            "text/plain": [
              "<matplotlib.axes._subplots.AxesSubplot at 0x7fd7407b28d0>"
            ]
          },
          "metadata": {
            "tags": []
          },
          "execution_count": 25
        },
        {
          "output_type": "display_data",
          "data": {
            "image/png": "[encoded data removed]",
            "text/plain": [
              "<Figure size 360x288 with 1 Axes>"
            ]
          },
          "metadata": {
            "tags": [],
            "needs_background": "light"
          }
        }
      ]
    },
    {
      "cell_type": "markdown",
      "metadata": {
        "id": "lwLFe2AkgtXM"
      },
      "source": [
        "No grafico acima conseguimos ver a quantidade de dados coletados separado por estado. Podemos ver que o estado que houve mais casos nesse período foi o estado de SP seguido por MG, BA, PR e RS, de acordo com os dados da amostragem."
      ]
    },
    {
      "cell_type": "code",
      "metadata": {
        "id": "udAn3jlThCNX"
      },
      "source": [
        "# Importando biblioteca de seaborn: statistical data visualization\n",
        "import seaborn as sns"
      ],
      "execution_count": null,
      "outputs": []
    },
    {
      "cell_type": "code",
      "metadata": {
        "colab": {
          "base_uri": "https://localhost:8080/",
          "height": 383
        },
        "id": "ZERdf1pgXN7p",
        "outputId": "1c0b707b-45aa-4894-c2e7-6e0b91f3ca47"
      },
      "source": [
        "sns.relplot(x=\"state\", y=\"new_confirmed\", data=df_top5);"
      ],
      "execution_count": null,
      "outputs": [
        {
          "output_type": "display_data",
          "data": {
            "image/png": "[encoded data removed]",
            "text/plain": [
              "<Figure size 360x360 with 1 Axes>"
            ]
          },
          "metadata": {
            "tags": [],
            "needs_background": "light"
          }
        }
      ]
    },
    {
      "cell_type": "markdown",
      "metadata": {
        "id": "QmGYPYqKdDtD"
      },
      "source": [
        "No grafico acima conseguimos ver a quantidade de novos casos confirmado  separado por estado. Podemos ver que o estado que houve mais casos nesse período foi o estado de SP seguido por MG, BA, PR e RS, de acordo com os dados da amostragem."
      ]
    },
    {
      "cell_type": "code",
      "metadata": {
        "id": "lyRomtPw9mnx"
      },
      "source": [
        "# Grafico de linhas comparando o numero de casos em cada estado (top 5), agrupado por epidemiological_week\n",
        "df_top5[\"epidemiological_week\"].value_counts()\n",
        "\n",
        "df_group = df_top5.groupby([\"state\",\"epidemiological_week\"],as_index = False).sum().pivot(index=\"epidemiological_week\",columns=\"state\",values=\"new_confirmed\").fillna(0)"
      ],
      "execution_count": null,
      "outputs": []
    },
    {
      "cell_type": "markdown",
      "metadata": {
        "id": "2ZKmDJbmC_8B"
      },
      "source": [
        ""
      ]
    },
    {
      "cell_type": "code",
      "metadata": {
        "colab": {
          "base_uri": "https://localhost:8080/",
          "height": 302
        },
        "id": "pxw5EzaVKjXx",
        "outputId": "a83b076c-6c9c-4604-f8f2-50ff04dde07d"
      },
      "source": [
        "sns.set_theme(style=\"whitegrid\")\n",
        "\n",
        "sns.lineplot(data=df_group, palette=\"tab10\", linewidth=2.5)"
      ],
      "execution_count": null,
      "outputs": [
        {
          "output_type": "execute_result",
          "data": {
            "text/plain": [
              "<matplotlib.axes._subplots.AxesSubplot at 0x7fd740714910>"
            ]
          },
          "metadata": {
            "tags": []
          },
          "execution_count": 29
        },
        {
          "output_type": "display_data",
          "data": {
            "image/png": "[encoded data removed]",
            "text/plain": [
              "<Figure size 432x288 with 1 Axes>"
            ]
          },
          "metadata": {
            "tags": []
          }
        }
      ]
    },
    {
      "cell_type": "markdown",
      "metadata": {
        "id": "EHsQeiLV3nes"
      },
      "source": [
        "No grafico acima conseguimos ver  através  de linhas comparando o numero de casos em cada estado, os picos epidemiologico dos 5 estados mais afedatos pela covid-19"
      ]
    },
    {
      "cell_type": "markdown",
      "metadata": {
        "id": "nzP3NQPPlTRh"
      },
      "source": [
        "# Geopandas"
      ]
    },
    {
      "cell_type": "code",
      "metadata": {
        "colab": {
          "base_uri": "https://localhost:8080/"
        },
        "id": "BST23dKEYDhh",
        "outputId": "47b083cc-3d2b-42ca-bdbf-639a278a84ac"
      },
      "source": [
        "# Instalando geopandas\n",
        "!pip install --upgrade geopandas"
      ],
      "execution_count": null,
      "outputs": [
        {
          "output_type": "stream",
          "text": [
            "Collecting geopandas\n",
            "\u001b[?25l  Downloading https://files.pythonhosted.org/packages/d7/bf/e9cefb69d39155d122b6ddca53893b61535fa6ffdad70bf5ef708977f53f/geopandas-0.9.0-py2.py3-none-any.whl (994kB)\n",
            "\u001b[K     |████████████████████████████████| 1.0MB 5.8MB/s \n",
            "\u001b[?25hRequirement already satisfied, skipping upgrade: shapely>=1.6 in /usr/local/lib/python3.7/dist-packages (from geopandas) (1.7.1)\n",
            "Collecting pyproj>=2.2.0\n",
            "\u001b[?25l  Downloading https://files.pythonhosted.org/packages/b1/72/d52e9ca81caef056062d71991b0e9b1d16af042245627c5d0e4916a36c4f/pyproj-3.0.1-cp37-cp37m-manylinux2010_x86_64.whl (6.5MB)\n",
            "\u001b[K     |████████████████████████████████| 6.5MB 12.3MB/s \n",
            "\u001b[?25hCollecting fiona>=1.8\n",
            "\u001b[?25l  Downloading https://files.pythonhosted.org/packages/ea/2a/404b22883298a3efe9c6ef8d67acbf2c38443fa366ee9cd4cd34e17626ea/Fiona-1.8.19-cp37-cp37m-manylinux1_x86_64.whl (15.3MB)\n",
            "\u001b[K     |████████████████████████████████| 15.3MB 330kB/s \n",
            "\u001b[?25hRequirement already satisfied, skipping upgrade: pandas>=0.24.0 in /usr/local/lib/python3.7/dist-packages (from geopandas) (1.1.5)\n",
            "Requirement already satisfied, skipping upgrade: certifi in /usr/local/lib/python3.7/dist-packages (from pyproj>=2.2.0->geopandas) (2020.12.5)\n",
            "Collecting cligj>=0.5\n",
            "  Downloading https://files.pythonhosted.org/packages/42/1e/947eadf10d6804bf276eb8a038bd5307996dceaaa41cfd21b7a15ec62f5d/cligj-0.7.1-py3-none-any.whl\n",
            "Requirement already satisfied, skipping upgrade: six>=1.7 in /usr/local/lib/python3.7/dist-packages (from fiona>=1.8->geopandas) (1.15.0)\n",
            "Requirement already satisfied, skipping upgrade: click<8,>=4.0 in /usr/local/lib/python3.7/dist-packages (from fiona>=1.8->geopandas) (7.1.2)\n",
            "Requirement already satisfied, skipping upgrade: attrs>=17 in /usr/local/lib/python3.7/dist-packages (from fiona>=1.8->geopandas) (20.3.0)\n",
            "Collecting click-plugins>=1.0\n",
            "  Downloading https://files.pythonhosted.org/packages/e9/da/824b92d9942f4e472702488857914bdd50f73021efea15b4cad9aca8ecef/click_plugins-1.1.1-py2.py3-none-any.whl\n",
            "Collecting munch\n",
            "  Downloading https://files.pythonhosted.org/packages/cc/ab/85d8da5c9a45e072301beb37ad7f833cd344e04c817d97e0cc75681d248f/munch-2.5.0-py2.py3-none-any.whl\n",
            "Requirement already satisfied, skipping upgrade: numpy>=1.15.4 in /usr/local/lib/python3.7/dist-packages (from pandas>=0.24.0->geopandas) (1.19.5)\n",
            "Requirement already satisfied, skipping upgrade: python-dateutil>=2.7.3 in /usr/local/lib/python3.7/dist-packages (from pandas>=0.24.0->geopandas) (2.8.1)\n",
            "Requirement already satisfied, skipping upgrade: pytz>=2017.2 in /usr/local/lib/python3.7/dist-packages (from pandas>=0.24.0->geopandas) (2018.9)\n",
            "Installing collected packages: pyproj, cligj, click-plugins, munch, fiona, geopandas\n",
            "Successfully installed click-plugins-1.1.1 cligj-0.7.1 fiona-1.8.19 geopandas-0.9.0 munch-2.5.0 pyproj-3.0.1\n"
          ],
          "name": "stdout"
        }
      ]
    },
    {
      "cell_type": "code",
      "metadata": {
        "colab": {
          "base_uri": "https://localhost:8080/"
        },
        "id": "6Xf2_oISZy4k",
        "outputId": "becc59e0-419d-4fa8-f6ec-a0fa64d7e582"
      },
      "source": [
        "# Importando biliotega geopandas\n",
        "import geopandas as gpd\n",
        "\n",
        "# Dados geograficos baixados do site do IBGE - https://www.ibge.gov.br/geociencias/downloads-geociencias.html (cartas_e_mapas > bases_cartograficas_continuas > bcim > geopackage > bcim_2016_21_11_2018.gpkg)\n",
        "INFOS_UFS = gpd.read_file(\"/content/drive/MyDrive/Python_for_AI/bcim_2016_21_11_2018.gpkg\", layer=\"lim_unidade_federacao_a\")\n",
        "\n",
        "INFOS_UFS.columns"
      ],
      "execution_count": null,
      "outputs": [
        {
          "output_type": "execute_result",
          "data": {
            "text/plain": [
              "Index(['nome', 'nomeabrev', 'geometriaaproximada', 'sigla', 'geocodigo',\n",
              "       'id_produtor', 'id_elementoprodutor', 'cd_insumo_orgao',\n",
              "       'nr_insumo_mes', 'nr_insumo_ano', 'tx_insumo_documento', 'geometry'],\n",
              "      dtype='object')"
            ]
          },
          "metadata": {
            "tags": []
          },
          "execution_count": 33
        }
      ]
    },
    {
      "cell_type": "code",
      "metadata": {
        "colab": {
          "base_uri": "https://localhost:8080/",
          "height": 138
        },
        "id": "Bg1x6cipjsXu",
        "outputId": "0e5e0985-ef3a-4e7b-cda6-03e455e50943"
      },
      "source": [
        "# Explorando os dados geograficos do IBGE\n",
        "print(\"Estado: \" + INFOS_UFS.nome[1])\n",
        "INFOS_UFS.geometry[1]"
      ],
      "execution_count": null,
      "outputs": [
        {
          "output_type": "stream",
          "text": [
            "Estado: Mato Grosso do Sul\n"
          ],
          "name": "stdout"
        },
        {
          "output_type": "execute_result",
          "data": {
            "text/plain": [
              "<shapely.geometry.multipolygon.MultiPolygon at 0x7fd724e49a90>"
            ],
            "image/svg+xml": "<svg xmlns=\"http://www.w3.org/2000/svg\" xmlns:xlink=\"http://www.w3.org/1999/xlink\" width=\"100.0\" height=\"100.0\" viewBox=\"-58.46024304877762 -24.344029853994538 7.829261728545944 7.468700420288165\" preserveAspectRatio=\"xMinYMin meet\"><g transform=\"matrix(1,0,0,-1,0,-41.21935928770091)\"><g><path fill-rule=\"evenodd\" fill=\"#66cc99\" stroke=\"#555555\" stroke-width=\"0.15658523457091889\" opacity=\"0.6\" d=\"M -56.09815327835105,-17.172196303916223 L -56.09159223749174,-17.176610997599425 L -56.08515930056126,-17.17542109380838 L -56.08100084621202,-17.1716424564342 L -56.078851457528685,-17.16968938705554 L -56.07706487334519,-17.169036480149373 L -56.07624743187347,-17.169403096875385 L -56.07542998860305,-17.16976971360134 L -56.07380951279873,-17.171888432704975 L -56.07239873731186,-17.172364248711062 L -56.06687840181672,-17.17001862615865 L -56.06506631196066,-17.17020278932722 L -56.063254222104604,-17.17038695159647 L -56.06290658916771,-17.171790915618203 L -56.06119865249576,-17.17868863926924 L -56.058555641229816,-17.183893947647505 L -56.05432440924403,-17.185033648583953 L -56.052821147477914,-17.183866767437337 L -56.051317886611116,-17.182699887189983 L -56.05157881860754,-17.180598552880838 L -56.05268514390423,-17.171689124953105 L -56.05219555478101,-17.16917432643396 L -56.05048872427517,-17.168393234660016 L -56.04897784165405,-17.168771685564764 L -56.04570471769853,-17.17206805609584 L -56.03532266430949,-17.182523844899492 L -56.017561940631026,-17.192387094688627 L -56.010995473262426,-17.197283450870543 L -56.00886826725667,-17.199881637227747 L -56.00855569349039,-17.201813138165733 L -56.00944665364011,-17.2044268225398 L -56.02111393266182,-17.20525908753683 L -56.023621739851365,-17.206625605587192 L -56.0259183286679,-17.209826528371536 L -56.02600415456806,-17.2125318680512 L -56.02518338380605,-17.215427837924324 L -56.02053822985539,-17.218303522689382 L -56.0160892333314,-17.222242901288837 L -56.01455269485092,-17.227164090450344 L -56.01411544806945,-17.233443800890655 L -56.01289470112954,-17.235658969585756 L -56.011383159305296,-17.23603893764681 L -56.008469301017385,-17.2352503752046 L -56.00801406419765,-17.23568273686874 L -56.0075588264786,-17.236115098532935 L -56.00616851326623,-17.2416416429474 L -56.00539765217985,-17.244705845398414 L -56.002576730731505,-17.245271488388425 L -56.00066852403313,-17.244585610537456 L -55.99957475597017,-17.242066615781653 L -55.997862963005275,-17.242251134182425 L -55.99669972591158,-17.243308345703554 L -55.995536487918514,-17.244365558123945 L -55.994010112676506,-17.247352629320346 L -55.99411315789587,-17.249236182004154 L -55.994375002704146,-17.254022397315737 L -55.99235461637238,-17.255365675085784 L -55.98983595076845,-17.255835106804682 L -55.98723475617902,-17.25311654619162 L -55.98505836625054,-17.246340541282905 L -55.98134216430941,-17.24506474414261 L -55.976996159944804,-17.24832597546333 L -55.97508134682664,-17.24879931923317 L -55.96794813030192,-17.246732374099736 L -55.96352049807251,-17.24651523638903 L -55.95928096354561,-17.248715640914043 L -55.95663790101827,-17.25324271298075 L -55.95258217262915,-17.263785356508947 L -55.95162901986333,-17.266263028316075 L -55.94534279743209,-17.274056179049353 L -55.94200822280118,-17.276261160224294 L -55.93918451345451,-17.277018366904088 L -55.93656763288993,-17.277003962462857 L -55.9342579085756,-17.276120904655954 L -55.931674074498915,-17.270599140138188 L -55.93179500093851,-17.267217962638824 L -55.93398023479995,-17.255246289184868 L -55.93308666032107,-17.25321152269356 L -55.92855014177559,-17.254344993126892 L -55.92328141770321,-17.260210840957484 L -55.92106148260132,-17.261166358940272 L -55.909001481333235,-17.258198401035315 L -55.89682422465819,-17.25812916043236 L -55.893594191718535,-17.259656988079485 L -55.89287469720949,-17.262069498608412 L -55.89326645178528,-17.263811471921827 L -55.89577171839005,-17.265563745170653 L -55.90019700518758,-17.266073432342978 L -55.90320915397922,-17.267250092717575 L -55.904206083044244,-17.268801176832824 L -55.90238256460361,-17.270724847373742 L -55.887231070057794,-17.27923820308058 L -55.88279545004991,-17.280179591814658 L -55.879984518270874,-17.279003778601464 L -55.87889013687027,-17.276968490503407 L -55.87920850047186,-17.274361196711823 L -55.881846572661175,-17.27099374556485 L -55.88307068126687,-17.2683916939215 L -55.882887574801714,-17.26549138931614 L -55.881588323342385,-17.264034239388593 L -55.88017995354198,-17.263928466525442 L -55.86825418598187,-17.2715896075743 L -55.86551889528073,-17.274376091283557 L -55.86459827459066,-17.276691522695558 L -55.865681410868376,-17.280466558285013 L -55.86906550486913,-17.28647742539283 L -55.868956258824255,-17.287829709873165 L -55.867943561945765,-17.288790792860766 L -55.865726057711356,-17.289261281283075 L -55.86170846777151,-17.287884699819017 L -55.85890684667362,-17.285258102079695 L -55.854477140607514,-17.285232760983092 L -55.85183522921244,-17.28908243310775 L -55.85029420491361,-17.293904750803563 L -55.84836794972108,-17.296018906747122 L -55.84574829025138,-17.296390064150103 L -55.842534403739705,-17.295113686047728 L -55.841438458418054,-17.293369182042056 L -55.84115410178032,-17.2906598133996 L -55.83996320963439,-17.28804441132047 L -55.83655229874955,-17.28628414309867 L -55.833328838954685,-17.28665058625552 L -55.831506915911405,-17.288185893564105 L -55.831393577951246,-17.290118346884128 L -55.83606316648189,-17.29952035777825 L -55.83483372939304,-17.302799009866362 L -55.83180938399585,-17.303457642755973 L -55.82859195865194,-17.302857926252273 L -55.8209828235984,-17.296432852993746 L -55.817069282521345,-17.294573367966507 L -55.81294162905289,-17.294644725573562 L -55.81157484570252,-17.295747030001394 L -55.81020806055352,-17.29684933352985 L -55.80036266500497,-17.308869862653978 L -55.7968014648157,-17.314451921319062 L -55.793089290937985,-17.327282967135204 L -55.790966541072976,-17.328525912041187 L -55.78956297185363,-17.32764723842928 L -55.78815940173496,-17.32676856391805 L -55.78679271910863,-17.32047882154035 L -55.785004345274274,-17.316987181213392 L -55.783948145490456,-17.316787573087993 L -55.782891945706695,-17.316587964063217 L -55.78077454770715,-17.317057210521796 L -55.779149228154324,-17.319173490664014 L -55.778021277759706,-17.32216142610889 L -55.7779954105597,-17.325930861619895 L -55.776574646302834,-17.327565807515953 L -55.773154958034866,-17.327059683457605 L -55.772507418282714,-17.326037037379308 L -55.76946903177037,-17.321238574200777 L -55.76791093564111,-17.320890169645565 L -55.76635283861259,-17.320541763291715 L -55.76441165917072,-17.32089480115411 L -55.76070774106938,-17.321568425742214 L -55.75192853767186,-17.324314430966183 L -55.75099595330056,-17.32504879486595 L -55.74170296541945,-17.332366564865026 L -55.738418724944154,-17.33398859739583 L -55.7351344862675,-17.335610631725217 L -55.727740539194485,-17.34174651538933 L -55.72521441821078,-17.34298608603899 L -55.72370482431813,-17.34287940755854 L -55.71590406442101,-17.33538605392323 L -55.713395405573465,-17.334209816229986 L -55.70967021670708,-17.334184949975395 L -55.706638323299956,-17.33561430005983 L -55.70551607011049,-17.337636639719108 L -55.70630959501176,-17.339285008896013 L -55.709814857369736,-17.342014349682472 L -55.70999242041381,-17.345301637060857 L -55.70947217789865,-17.347617228552224 L -55.707842690887446,-17.350022101139018 L -55.70461709610208,-17.350484903055758 L -55.70190058144664,-17.350176545311285 L -55.69980303867925,-17.34784245566476 L -55.69852728380704,-17.343292422107538 L -55.69776633324966,-17.337197701312846 L -55.69646311218281,-17.33641708707887 L -55.694444999337236,-17.336885156324854 L -55.692924111758316,-17.338326315407073 L -55.69006873098709,-17.34323520813831 L -55.688352086179805,-17.34390047352798 L -55.6845395875319,-17.342037168180696 L -55.68167600854093,-17.334287702915105 L -55.67956816763677,-17.333402965174685 L -55.677548825417944,-17.334161862579833 L -55.67700162122782,-17.340053395048074 L -55.676284612444874,-17.341692434658114 L -55.67185881303374,-17.341080910955213 L -55.66865042137982,-17.339125647230787 L -55.66475347998909,-17.335136608067955 L -55.66224444432561,-17.33405549976146 L -55.65921529115275,-17.335194921008735 L -55.65857407813115,-17.340118720002863 L -55.661141710021866,-17.346806364721886 L -55.6602071606319,-17.350568603857937 L -55.65670756849943,-17.354025606796256 L -55.65309414018236,-17.35472254271116 L -55.65039629275469,-17.353692380998552 L -55.648603275720575,-17.35223561148422 L -55.647566548957,-17.35020751886185 L -55.64840296162731,-17.338953305650477 L -55.64631103062953,-17.337351626576265 L -55.64420816027831,-17.3371913619917 L -55.641484180350574,-17.339627752218917 L -55.63976473865171,-17.348276474779425 L -55.638073833340684,-17.353172932584698 L -55.63553916520027,-17.355971560738908 L -55.63443582385412,-17.357189803066888 L -55.62679640323137,-17.361309675600978 L -55.624924859194834,-17.362318983833973 L -55.62357092985451,-17.362453482841886 L -55.622217002312766,-17.362587980051217 L -55.620867076754166,-17.362144530645537 L -55.618949212236316,-17.35751163895094 L -55.61639216536611,-17.357637932544492 L -55.61247381381543,-17.35890853160339 L -55.605856862104474,-17.36418679568402 L -55.60434915139217,-17.36488741791993 L -55.597871154829875,-17.367897698819718 L -55.5882449384531,-17.37536593259165 L -55.586293964494814,-17.38008743808473 L -55.58586898536532,-17.390509986146924 L -55.58579363386906,-17.392357954455974 L -55.5880349161784,-17.40184503312173 L -55.590813716979426,-17.40708464434084 L -55.590551049291435,-17.41481454485529 L -55.5891194383114,-17.417510001885034 L -55.58475051022782,-17.422212929183274 L -55.58460750363332,-17.42752790808646 L -55.58368937046805,-17.428970837034456 L -55.578935589206026,-17.43135171930635 L -55.577207635423974,-17.43327218106623 L -55.57637023349946,-17.437323077398048 L -55.57319514194222,-17.439465103331827 L -55.56883320428892,-17.43943283116016 L -55.564029386546906,-17.438386747850075 L -55.56010654288258,-17.43994548429663 L -55.5581370195078,-17.44166333869208 L -55.557780273740605,-17.44432231022637 L -55.559959236629425,-17.449073478058494 L -55.55853314388946,-17.450996028044187 L -55.5479152073209,-17.45565231200453 L -55.546492881841004,-17.4570912821369 L -55.54525544078592,-17.460561528491723 L -55.54378219569173,-17.462000088533216 L -55.542308951496864,-17.46343864947403 L -55.530184101015436,-17.46740566064267 L -55.52774597599597,-17.469803809897883 L -55.52651448575489,-17.47250034971131 L -55.52203456244507,-17.47807139527862 L -55.52016725871198,-17.478443459198218 L -55.518299954978886,-17.478815523117873 L -55.512670079360646,-17.47713008208757 L -55.51055087102583,-17.477499671072906 L -55.505963061446096,-17.483843157835395 L -55.50081493556081,-17.48529814129614 L -55.49682191060265,-17.48642666455885 L -55.4940685552196,-17.48720414915209 L -55.49131520073587,-17.487981633745335 L -55.482797698255126,-17.482212942373337 L -55.47766206485238,-17.4817857203347 L -55.47392636470994,-17.482625687125733 L -55.46856414172174,-17.48499998006497 L -55.46328762952044,-17.489210397242005 L -55.46132200470669,-17.492762988221273 L -55.45530190605808,-17.503643469270628 L -55.45001924429266,-17.508675934246924 L -55.4433960962528,-17.509056506652428 L -55.43497881871747,-17.50812177649874 L -55.4220257438929,-17.511049108429575 L -55.40907267176635,-17.51397644125973 L -55.404501059876,-17.51500941335371 L -55.40218056078419,-17.515533738790964 L -55.400971414199375,-17.516080710955976 L -55.39064237764359,-17.52075317731726 L -55.38709557919759,-17.52285019488056 L -55.383548779852276,-17.524947211544543 L -55.38083192255516,-17.524440935500706 L -55.37853672319119,-17.521909146090195 L -55.3780184304062,-17.517901901051857 L -55.375923264547,-17.51658464876249 L -55.373818133300176,-17.51656694291006 L -55.37184992653283,-17.517850020961646 L -55.369868464657884,-17.520576324737533 L -55.36817776349295,-17.524460111744702 L -55.365739293133856,-17.527903742663568 L -55.35808189506338,-17.531439541501584 L -55.35523651565262,-17.533927889160736 L -55.35165146454341,-17.54008290590133 L -55.34696725123763,-17.54516560071187 L -55.341353468987336,-17.547146889916974 L -55.3357396867371,-17.549128178222816 L -55.32823678859688,-17.55360589729429 L -55.32550963586095,-17.554162523681498 L -55.32350268000465,-17.553178061918004 L -55.32241025642816,-17.551428776216994 L -55.32305698589113,-17.546988618230102 L -55.32479060000617,-17.544877928273706 L -55.32469891052625,-17.543910071592506 L -55.32218716610481,-17.543018828156335 L -55.317548662640604,-17.543171912553703 L -55.31400607212248,-17.544590727080333 L -55.31098212782291,-17.544564322085762 L -55.307369032255,-17.54288960816882 L -55.305485194486096,-17.539586894719378 L -55.30277016191337,-17.53878941999568 L -55.29903705541574,-17.53914342103201 L -55.29690648054958,-17.540574344930008 L -55.29252679837299,-17.545271592110225 L -55.28749460679063,-17.55479556636226 L -55.282203341211186,-17.559870427178453 L -55.27794887164305,-17.56195920335449 L -55.27552948040113,-17.561840924519004 L -55.271208839616236,-17.56035263196833 L -55.268781953424366,-17.561103654909687 L -55.26553538015361,-17.563201184187278 L -55.2638941434999,-17.56598912929485 L -55.26264099218798,-17.570423654827778 L -55.26147622804547,-17.572665330140808 L -55.2607913907101,-17.573983353149174 L -55.2543822075728,-17.579821058494986 L -55.251521291474376,-17.58366165556089 L -55.24997375788257,-17.58750629058278 L -55.24935079300468,-17.58905396356954 L -55.24669414262053,-17.592509515002064 L -55.24511705011173,-17.593896998047967 L -55.24354088390464,-17.595283573677932 L -55.24000143561773,-17.59631424980273 L -55.23233859844754,-17.596147623414026 L -55.22789257418293,-17.597073983577445 L -55.222513375591745,-17.600843156486462 L -55.22211886189592,-17.602644420303704 L -55.22172434999874,-17.604445682322364 L -55.22417912146926,-17.607355426211882 L -55.22663389383911,-17.610265170101457 L -55.22646678271582,-17.611995320027972 L -55.223978949468915,-17.61337742512802 L -55.22149111891997,-17.61475953022807 L -55.21591004501255,-17.615331197776527 L -55.21032897110507,-17.615902863526287 L -55.20424184418573,-17.616228726574434 L -55.199610392305715,-17.61781068891213 L -55.19874485958758,-17.618492227534205 L -55.19308501855869,-17.622947582265056 L -55.18768424882899,-17.62341121965204 L -55.18228347640127,-17.62387485793829 L -55.179913190841035,-17.625143189806295 L -55.178728505815855,-17.62577689348882 L -55.177543821689994,-17.626410598969926 L -55.17668467325905,-17.62779111316928 L -55.174328482773205,-17.631577136675446 L -55.16855604212759,-17.63643110601066 L -55.14741025857654,-17.642870814836215 L -55.13856194497771,-17.648152635735528 L -55.12901272495725,-17.65199654950112 L -55.12382932406399,-17.651593840283454 L -55.12210587678476,-17.65085541324669 L -55.12038243040479,-17.650116986209923 L -55.114327335538064,-17.63894210669281 L -55.11106591805765,-17.63414539899094 L -55.1077831587657,-17.631370244041477 L -55.10417113069309,-17.630564098054663 L -55.10237428434573,-17.63016307056921 L -55.098145008385416,-17.631564896003113 L -55.095257045176425,-17.633279119835493 L -55.093599186353345,-17.634263184098643 L -55.09171002639658,-17.634894376873945 L -55.089820865540446,-17.635525569649246 L -55.08097077218332,-17.632550263383905 L -55.07780292376589,-17.63309630295197 L -55.074635076247716,-17.633642343419353 L -55.067670998817505,-17.637037169929386 L -55.06132404336984,-17.639139163441598 L -55.057108741974844,-17.639169109966417 L -55.05531172655492,-17.639181875842837 L -55.05353844874037,-17.63919447444539 L -55.052893440579794,-17.639199057390556 L -55.05165399043926,-17.639086106138848 L -55.04953704479874,-17.638893188969462 L -55.042159836807,-17.638220903471847 L -55.02972903966344,-17.637088083248386 L -55.029276846149514,-17.63696698234031 L -55.02132235254447,-17.63483670065318 L -55.01817926695958,-17.633144181059038 L -55.015036180475306,-17.63145166146495 L -55.01083755341034,-17.629964217874317 L -55.00864783193185,-17.630519201200116 L -55.006458110453366,-17.63107418362665 L -55.00365908389955,-17.632709123227414 L -55.001044978642824,-17.634236049753838 L -55.0005222638913,-17.634541373185755 L -54.99797029009676,-17.63498854758336 L -54.99541831630222,-17.635435721081592 L -54.99487184416023,-17.63532056469228 L -54.99181385602458,-17.634676169869294 L -54.98316021147451,-17.627656554806094 L -54.97365650884075,-17.620934933700198 L -54.970315800833475,-17.618571663751254 L -54.96672043000382,-17.617017701805423 L -54.963125059174104,-17.61546373896033 L -54.9525708908339,-17.61430282121819 L -54.93696364775411,-17.612586083780684 L -54.91080223813276,-17.609708430399678 L -54.90370578859125,-17.611508838961697 L -54.90127834212177,-17.61307050989609 L -54.89496799447733,-17.618906546100163 L -54.89297830560429,-17.61940571749983 L -54.89208847500305,-17.61962895711065 L -54.88705188843386,-17.619680626759475 L -54.883159390593335,-17.619195353482723 L -54.88088460763851,-17.61891176036937 L -54.87780318676761,-17.61894795178648 L -54.87456026294575,-17.61898604167243 L -54.87093496267835,-17.61995662150082 L -54.86487399793663,-17.623210415428275 L -54.858849319940134,-17.62343300752724 L -54.85526215632342,-17.621227691804506 L -54.850494321355825,-17.617131949879536 L -54.84690039573661,-17.61550394315242 L -54.84149922940588,-17.61399978296356 L -54.8360980630751,-17.612495622774702 L -54.82888698234831,-17.61126059010411 L -54.823946284193596,-17.609038577568242 L -54.822364691477276,-17.605357927626187 L -54.81839146959061,-17.598233849112773 L -54.81807085588525,-17.597134082571813 L -54.81315813114281,-17.592603741469475 L -54.81186763278498,-17.591994900444263 L -54.8049797099456,-17.58578089717065 L -54.799109511194956,-17.58269134462978 L -54.79262140445422,-17.582382401426628 L -54.78891390615183,-17.57898388679689 L -54.77439288312502,-17.569715217483235 L -54.767595816094,-17.568479405999767 L -54.7620345803316,-17.567861505204235 L -54.75956291149913,-17.564154030284215 L -54.75863602793032,-17.559210725894218 L -54.7595628854188,-17.553031590235662 L -54.75678224730285,-17.54407185333332 L -54.75801805698768,-17.535421065030107 L -54.75060305858426,-17.527079250506972 L -54.745659725415976,-17.52151804172422 L -54.73669995344005,-17.519046407965334 L -54.72928497302303,-17.518428509867817 L -54.72248791138799,-17.51966435102895 L -54.718780420280154,-17.519355402429824 L -54.71661770993933,-17.515956883303488 L -54.71378256481347,-17.51342617128074 L -54.70982971976571,-17.51029117959422 L -54.7072399294791,-17.510291184090818 L -54.70369600436709,-17.510018583390888 L -54.701242515329795,-17.508382936023622 L -54.70015207295978,-17.506610981111862 L -54.69987945517266,-17.502930761045718 L -54.699197927342425,-17.501704023721686 L -54.69674444370105,-17.502385550652605 L -54.69469987459951,-17.50347599032466 L -54.69047442795244,-17.504021216905585 L -54.686930507337024,-17.505656876863327 L -54.68556746696498,-17.508246665351294 L -54.68338659031883,-17.508519277742437 L -54.67727218516319,-17.50477264813918 L -54.66389835532482,-17.495862223762572 L -54.658515228494934,-17.493342632756253 L -54.65313210166511,-17.490823041749934 L -54.6387205576076,-17.48848185555312 L -54.626094414225804,-17.487604954505002 L -54.609740178066716,-17.484371845883913 L -54.60956866026544,-17.484018204576444 L -54.60949365320948,-17.483863554459447 L -54.60219911989344,-17.482226523934912 L -54.60125774105188,-17.482015260595745 L -54.596815178277836,-17.479956881504847 L -54.59312332458171,-17.478246331403 L -54.588210884924365,-17.4744313830019 L -54.58329844616634,-17.470616435500062 L -54.58091744338526,-17.47000908375219 L -54.578226813916274,-17.46997535018221 L -54.57553618444729,-17.46994161661229 L -54.57167400455165,-17.471667326585816 L -54.57123657610708,-17.47273467706367 L -54.57079914586387,-17.473802024843508 L -54.57160533681679,-17.478699188616588 L -54.571271458111255,-17.481148897803337 L -54.56960419058089,-17.48199380277174 L -54.56208405513502,-17.481899043006365 L -54.55995174098001,-17.483821227867338 L -54.5578194286237,-17.485743413627574 L -54.55510122144415,-17.486431195343357 L -54.55089198417767,-17.486233263554197 L -54.546693752814406,-17.485169506767306 L -54.538326356176356,-17.48102020661719 L -54.53413126884294,-17.479811599625577 L -54.533203147807,-17.47973664113306 L -54.51935534197543,-17.47861822714941 L -54.51761248912504,-17.478477465262756 L -54.50681971445823,-17.47989779694575 L -54.50584543481892,-17.48002601239051 L -54.5044478559837,-17.480445166611105 L -54.497536480624035,-17.482517991512054 L -54.486638036516126,-17.487284349792844 L -54.478280469468075,-17.493095585392894 L -54.4759381051594,-17.499127957988833 L -54.477299720105975,-17.509252487812034 L -54.47695740306165,-17.512134886915476 L -54.47539806137138,-17.5146137925924 L -54.47516140117767,-17.514990015876492 L -54.47426129582209,-17.516420924486056 L -54.470828972079346,-17.521877337069384 L -54.469552605668184,-17.523906392865683 L -54.46403599876231,-17.528776828787556 L -54.463624027426874,-17.529140544300617 L -54.46143523225015,-17.530051613291278 L -54.46059702093572,-17.530400513372967 L -54.44701878149152,-17.53282014113654 L -54.429618955750186,-17.533738258114056 L -54.424693165657004,-17.53656588041099 L -54.41829403873885,-17.54196683630039 L -54.41659286496872,-17.545120216424777 L -54.41592801326715,-17.549442560525677 L -54.415153209552955,-17.551020255580283 L -54.40938467646163,-17.554408361456694 L -54.407994265223124,-17.556843663504196 L -54.40799607375976,-17.556938329740092 L -54.408079770964605,-17.561320662218748 L -54.40580359226192,-17.562589389788457 L -54.40352741625719,-17.563858117358166 L -54.401914939023186,-17.564489398267085 L -54.39652799816855,-17.566598371417683 L -54.39247707935368,-17.568184297067603 L -54.389743649349896,-17.5698077496279 L -54.38701022114475,-17.571431203986833 L -54.38456179169327,-17.5741421734225 L -54.38355117224876,-17.578719145272316 L -54.38431215518176,-17.580030535780566 L -54.38507313721544,-17.581341926288815 L -54.38711443098617,-17.58486019823954 L -54.387078375366684,-17.587313662995086 L -54.38369004555909,-17.5924649652859 L -54.38380468843559,-17.59492137262322 L -54.38554730476426,-17.599276199337112 L -54.38501103543092,-17.605043642450084 L -54.383789788467936,-17.606181334301084 L -54.37864656029046,-17.60784433994428 L -54.37784041340433,-17.611443387202485 L -54.378653834906515,-17.612464920819377 L -54.37946725820734,-17.61348645533559 L -54.38304316501001,-17.615988850405074 L -54.38406697930759,-17.618024619640437 L -54.38279249967405,-17.622771566054894 L -54.38290716323496,-17.625227071372194 L -54.38585448529619,-17.62959819739882 L -54.38611266536719,-17.632489490797298 L -54.38563151458271,-17.63450399376427 L -54.378490468560244,-17.638883168723225 L -54.37376784251188,-17.642572772315532 L -54.369199505952395,-17.645090278693374 L -54.368447242845946,-17.64550483378099 L -54.359454248115014,-17.652698000911982 L -54.358928716686876,-17.653118353928846 L -54.35284441453808,-17.65646343264126 L -54.35186908988652,-17.65699965520986 L -54.348994227101855,-17.65797167305425 L -54.34282679971699,-17.657453170727194 L -54.335459889861966,-17.661168771921268 L -54.31985535284224,-17.66200520617525 L -54.316261494672176,-17.6615621848469 L -54.31253698299531,-17.658911871985254 L -54.30921382345912,-17.65958693368998 L -54.307013894675435,-17.66063956766186 L -54.304813964992434,-17.66169220073442 L -54.300007313486674,-17.660902965599348 L -54.29881803292585,-17.659875843595273 L -54.297205811099275,-17.65696549266329 L -54.294982561096276,-17.65462414728654 L -54.29212186353311,-17.655093067291205 L -54.28199929423198,-17.656752342546554 L -54.27839414957032,-17.655950526795323 L -54.271399996112905,-17.651389607844067 L -54.26982957207707,-17.65036505430379 L -54.26825914894056,-17.649340500763458 L -54.26288089283889,-17.64652123047034 L -54.26138237499657,-17.646066603390977 L -54.25988385895289,-17.645611979009573 L -54.25541191982421,-17.642661624434368 L -54.25455880044825,-17.64155695928622 L -54.24921158804432,-17.634633101336533 L -54.24819146096712,-17.63245203133613 L -54.24507525252085,-17.629520722603218 L -54.23967555478299,-17.628143952281505 L -54.23785997016148,-17.628695589230006 L -54.234252177895655,-17.62835477405355 L -54.226210729741354,-17.622609415592024 L -54.21869838602163,-17.621635584714397 L -54.210368465931936,-17.61516321790816 L -54.20857332739712,-17.614415119562068 L -54.200001078686796,-17.61385819819725 L -54.19091703299466,-17.607517770928325 L -54.18732936395895,-17.6058775136363 L -54.177992780542354,-17.60510963560114 L -54.17035444719994,-17.605954266276342 L -54.165886586496754,-17.60644825488299 L -54.16141872669283,-17.606942243489698 L -54.15354346336011,-17.60985891395768 L -54.146563744021535,-17.613221440417078 L -54.14173263725138,-17.614015977055658 L -54.13189810551313,-17.617046511587205 L -54.12444929709733,-17.616791545693218 L -54.1170004895809,-17.616536580698607 L -54.11187324865148,-17.61703671707079 L -54.10587608901028,-17.615503547450714 L -54.09974354003231,-17.616034310235193 L -54.093610991054334,-17.61656507391899 L -54.087802453420466,-17.617912105459254 L -54.08488396542265,-17.617755111709016 L -54.08196547922347,-17.61759811975736 L -54.081054844605376,-17.61614088439427 L -54.0801442108866,-17.61468365082976 L -54.08049079791198,-17.61194563338421 L -54.082026487432415,-17.610091475940806 L -54.08180645120672,-17.605179226040377 L -54.07558201849531,-17.599166602556636 L -54.07507430353621,-17.598003771057165 L -54.07456658947649,-17.596840939557694 L -54.0746615848642,-17.591067535738148 L -54.07366760197823,-17.587442423429025 L -54.06924304093354,-17.58188978248745 L -54.064046942512334,-17.577479562931444 L -54.05399285838365,-17.566498169854583 L -54.05296594142504,-17.564894405252574 L -54.05193902446638,-17.563290639751187 L -54.05244769900207,-17.559832947932136 L -54.05478226169197,-17.55524884535788 L -54.0548205170532,-17.552939129137428 L -54.049745341474306,-17.54131202373088 L -54.049707104998845,-17.539073451078877 L -54.0496688667248,-17.536834878426873 L -54.05089658251126,-17.535409230851258 L -54.05415975816629,-17.533726708121037 L -54.05742293292195,-17.532044184491497 L -54.05776015710552,-17.52988364331543 L -54.05678356351058,-17.52524908068051 L -54.06029311293679,-17.522270018846257 L -54.06109768600936,-17.519727681287407 L -54.06117874460335,-17.519471548073454 L -54.06005039940635,-17.513814226944987 L -54.05746397258423,-17.511398574184796 L -54.04941676607086,-17.506656158554847 L -54.04394307751096,-17.501085982631935 L -54.04259736797411,-17.498988281583877 L -54.03828991304903,-17.492273786705823 L -54.03263674858704,-17.483461591679088 L -54.02204460457477,-17.47894915967595 L -54.00300637954075,-17.474900931632646 L -54.00178726307172,-17.474890138868773 L -54.00056814660263,-17.47487934520558 L -54.00042225858033,-17.47486292628298 L -53.99925841804151,-17.474731949020168 L -53.998644903239665,-17.474662904469426 L -53.99473091609883,-17.474222426423808 L -53.99445511561106,-17.474239776144714 L -53.98992702191447,-17.474524621114313 L -53.982171043758626,-17.47542275065939 L -53.97738169520903,-17.475640347024353 L -53.973162374743765,-17.474124463273313 L -53.96297757505499,-17.4650822639353 L -53.96174969379331,-17.46461491414692 L -53.954989784051236,-17.462041990645332 L -53.952113514726875,-17.460217674506055 L -53.95160559292373,-17.45952886486515 L -53.94613957378226,-17.452116222685504 L -53.94324690442107,-17.449285120911554 L -53.93148596640418,-17.44184529312571 L -53.92650008091397,-17.432579453079256 L -53.918056068332874,-17.424442287381623 L -53.90961378424868,-17.4163056459887 L -53.90670115803198,-17.412180894632513 L -53.90169112484551,-17.407943917777516 L -53.89907674169825,-17.403671765739375 L -53.89531333883946,-17.40011459721086 L -53.89012437474008,-17.396647394161846 L -53.88642753250457,-17.393110754457723 L -53.88129352147877,-17.38632714398244 L -53.87802188590126,-17.378324370273447 L -53.875026274742766,-17.374164258473684 L -53.870112717228096,-17.371476987972585 L -53.85715772325028,-17.36841255889243 L -53.853371545960044,-17.367797895656338 L -53.840612336190304,-17.361276748722958 L -53.83669465103725,-17.360251539576836 L -53.83277701085035,-17.35922625218973 L -53.82780841572577,-17.356147363809725 L -53.82718714067397,-17.35471933932598 L -53.8274430121852,-17.351985054966292 L -53.8303425047028,-17.34604944762384 L -53.8308952226364,-17.343166189667897 L -53.830095798182526,-17.330529423494056 L -53.82289055225715,-17.30455709723219 L -53.82031671774229,-17.300014937239496 L -53.81456457659391,-17.294091955479303 L -53.80656649105066,-17.290341795137692 L -53.79922584229877,-17.28972986224329 L -53.79128286451254,-17.29042247421779 L -53.78936429582558,-17.290590311993242 L -53.785462256178164,-17.2897844097227 L -53.78168642738666,-17.287539499548245 L -53.77220654689461,-17.275321316525492 L -53.76623717540525,-17.26452295077354 L -53.75679686238527,-17.245353009233952 L -53.75391279503941,-17.242663711660896 L -53.746391546232815,-17.239896734246827 L -53.73688044667523,-17.234138001067834 L -53.73071864634841,-17.232214294554012 L -53.70794195485729,-17.229371953053146 L -53.70076238007971,-17.2293288944129 L -53.69808426467705,-17.230228623851872 L -53.69542910716751,-17.23270969779429 L -53.69353975475582,-17.23632881252462 L -53.692283169832365,-17.242240234399276 L -53.69039054119048,-17.24571565545307 L -53.68346466516215,-17.252566445285197 L -53.67930907245568,-17.258515375184345 L -53.679537932829305,-17.263511916741493 L -53.68024878305488,-17.279031257386578 L -53.68090322960035,-17.293319210313257 L -53.68114168663948,-17.298525258833592 L -53.68306936366014,-17.317935493827918 L -53.68332271886834,-17.322077878191465 L -53.68406853383573,-17.334271990859634 L -53.68477738306973,-17.34586172853591 L -53.68544077966823,-17.356708308741418 L -53.685483566713174,-17.357407882367852 L -53.68650412906226,-17.370933986314355 L -53.68728966438647,-17.381345138167546 L -53.68851593226441,-17.397597585460176 L -53.689133575853816,-17.40577989622517 L -53.690799144564835,-17.42784472125686 L -53.691549667483116,-17.437787373088725 L -53.692097273670186,-17.447429439117286 L -53.693067829216886,-17.464518666003585 L -53.69370868700628,-17.475802660264492 L -53.693824576343104,-17.477843212993832 L -53.694881834628916,-17.492616003026058 L -53.69541675857653,-17.500090356684552 L -53.696711449573684,-17.518180730456322 L -53.697129278193586,-17.524016293617024 L -53.69959963401584,-17.558518278495683 L -53.70135808200985,-17.583066342137954 L -53.70248912787093,-17.598855837326994 L -53.70514119620918,-17.635862091462286 L -53.705379934736186,-17.63919338626573 L -53.70618116952534,-17.654526751608273 L -53.706606679254776,-17.66266977009377 L -53.70698290163955,-17.669860511753143 L -53.70867451921367,-17.67104618603264 L -53.710922732597965,-17.671014682781333 L -53.719496406733754,-17.672762575432444 L -53.722194288335686,-17.672724616847518 L -53.73024030414666,-17.66944949010184 L -53.73383392939229,-17.669111292851824 L -53.73654502743102,-17.669935227428766 L -53.74351586146781,-17.67472362449564 L -53.756159214276295,-17.677849260534913 L -53.76695418688615,-17.677838823003242 L -53.77144274458698,-17.67719969191222 L -53.77595277180296,-17.677997291641645 L -53.783193259461314,-17.680768408635117 L -53.78861047059672,-17.6819837992129 L -53.79219295054418,-17.680926108353162 L -53.799336456212416,-17.67751650508262 L -53.80473232643567,-17.677438322520516 L -53.81108755204883,-17.68108352658345 L -53.814474797274045,-17.686640030113267 L -53.819026285034965,-17.690022888445526 L -53.823546926049744,-17.69139408836645 L -53.83888877649582,-17.694332125826918 L -53.84328277048343,-17.69714187589682 L -53.84720674819283,-17.702389849012263 L -53.85034614835604,-17.702805485984356 L -53.855146879624726,-17.707603813365267 L -53.85818565284558,-17.71934446357608 L -53.86097677255998,-17.725052705218104 L -53.86663948332546,-17.73201181119606 L -53.87437196219628,-17.73721543334551 L -53.87960578178138,-17.745473979640394 L -53.884160031360295,-17.748856205749235 L -53.887670424350574,-17.752540435892342 L -53.89069248007388,-17.763132040311348 L -53.89382365323894,-17.771134190790235 L -53.895117051910404,-17.77686435520576 L -53.8988851456329,-17.787156338793977 L -53.905284697930426,-17.797129466851345 L -53.90719888062381,-17.800111509038857 L -53.907907137204575,-17.80268322205302 L -53.913219066506656,-17.810370282462543 L -53.9170950204188,-17.81792971108723 L -53.93385593540307,-17.833343141272906 L -53.937850007172074,-17.838888362807666 L -53.94218390935987,-17.846871498920507 L -53.94313885177655,-17.850162433949095 L -53.943024564132315,-17.852320805061083 L -53.945981018808936,-17.858600211530472 L -53.94742677972209,-17.864327718449374 L -53.94897970205159,-17.8674658047031 L -53.952330845791835,-17.87043274907205 L -53.95331096472921,-17.875161306149323 L -53.95303497268583,-17.87882799411659 L -53.95378801910175,-17.885790758536643 L -53.95283226999322,-17.891553941561085 L -53.9472825509489,-17.90083806302613 L -53.947170651904,-17.903139204210845 L -53.94840943384827,-17.90541978239702 L -53.948428543542434,-17.906570115118654 L -53.94577152623492,-17.909341134985368 L -53.94598363044014,-17.91307539621249 L -53.94890060038239,-17.916911296119395 L -53.95010125376979,-17.921434935473826 L -53.9481389600449,-17.924375268004155 L -53.947712140902524,-17.926703795343826 L -53.94592199540375,-17.927449609411894 L -53.94315832119952,-17.923754147635748 L -53.937144201243825,-17.92327059835941 L -53.93137094851045,-17.919189449733267 L -53.929122003077964,-17.91936719623908 L -53.925707892405285,-17.921719140126186 L -53.923021894444844,-17.92276570277494 L -53.912157792747905,-17.91947933540297 L -53.909755435564875,-17.919515448579034 L -53.90468066468088,-17.921317107198718 L -53.903179766333096,-17.92133961453152 L -53.90209528377028,-17.919342968503145 L -53.90277756972904,-17.915165030341825 L -53.90094837027101,-17.913467872044635 L -53.89883545359328,-17.912780038168194 L -53.891077025684126,-17.915771211172398 L -53.88616807809427,-17.918716909957368 L -53.88264958221242,-17.9238020158503 L -53.877753839368154,-17.927467673194542 L -53.87640297941391,-17.927487742465303 L -53.87503116975262,-17.926214690055872 L -53.87451339317852,-17.922054676282244 L -53.87254731240847,-17.921221567721147 L -53.87134891542007,-17.92138305448435 L -53.8708392012681,-17.926995446382705 L -53.86952320982823,-17.92917155752133 L -53.86361513792821,-17.92595269326216 L -53.85895432318341,-17.925590415765043 L -53.85825477833532,-17.92876334355344 L -53.851855724262236,-17.932111568993662 L -53.850564211469134,-17.936063268305134 L -53.84642355020662,-17.940004426662938 L -53.844037023789554,-17.941045480064815 L -53.83908807525444,-17.94140551555205 L -53.83443977817319,-17.951247892975857 L -53.832915676417315,-17.949833059747846 L -53.831370950508926,-17.947124198323024 L -53.830469330694996,-17.947137376988337 L -53.825907380221395,-17.95295340957216 L -53.8249114727862,-17.956417947929936 L -53.825278062532504,-17.96058027116254 L -53.82044180444569,-17.968124712585393 L -53.81847869323707,-17.96743472393331 L -53.81901529082296,-17.963402962476664 L -53.815854845624585,-17.963017796334213 L -53.81346877336517,-17.964058454933706 L -53.811997104782506,-17.96594808793384 L -53.81281382319935,-17.970104794900294 L -53.812725194112375,-17.973986317414585 L -53.811255712680975,-17.97601962340684 L -53.810056889413886,-17.976180729756834 L -53.80672564137518,-17.974504477099913 L -53.805676960823064,-17.974663380110883 L -53.80363864290899,-17.97871773883253 L -53.79632614113848,-17.981697676606473 L -53.79381125808305,-17.98417796993732 L -53.79018872772758,-17.992566375637693 L -53.78827194689279,-17.99489336153937 L -53.78483645843579,-17.99609246989155 L -53.77674739657505,-17.997501980032325 L -53.77125578902343,-18.00174915070272 L -53.76825707970045,-18.002079442911906 L -53.7647787664269,-18.00054828507524 L -53.7593689270343,-18.00048169837163 L -53.75573163520676,-17.99837779739738 L -53.74837744716143,-17.998769685072887 L -53.747008215856454,-17.997638509709418 L -53.740994350408926,-17.99729255310882 L -53.738264922388225,-17.9956066147534 L -53.736755147731856,-17.995124953154004 L -53.735245373075486,-17.99464329155461 L -53.72633456378907,-18.00123679434256 L -53.71879479704222,-17.99933079278179 L -53.71579508677377,-17.999660287292386 L -53.71400637389502,-18.000547618677615 L -53.70958060416149,-18.005783154169194 L -53.70764947644216,-18.007248162372775 L -53.696394880119556,-18.007979959607383 L -53.69280958799203,-18.009323217592396 L -53.68925350314663,-18.012534237964644 L -53.68745705250092,-18.012990295865393 L -53.68479296652214,-18.012295119024486 L -53.68512184589645,-18.00756167503124 L -53.68429925041005,-18.002829723912555 L -53.67731278525679,-17.997751912420767 L -53.67380502008558,-17.99420759250637 L -53.66472262285072,-17.989589380445523 L -53.663643521831034,-17.987735982029903 L -53.658922126055245,-17.983344912637563 L -53.654852202766904,-17.982394758211456 L -53.6501956912781,-17.982196403741 L -53.64581685986013,-17.980793845359642 L -53.641307334465864,-17.980567963540636 L -53.638310878843924,-17.98103992685111 L -53.63383122083411,-17.982825406667132 L -53.63205151016899,-17.982679665234343 L -53.63027180040325,-17.982533923801498 L -53.62631237501603,-17.982208933995082 L -53.622138994618865,-17.98427740977462 L -53.61638279393077,-17.981049905728526 L -53.614584357581975,-17.981361606253074 L -53.61309984578122,-17.982531317566213 L -53.609754316508486,-17.989906524566436 L -53.60805296197458,-17.99682841120216 L -53.60628273735841,-17.999007879509975 L -53.60431815665754,-17.99985542218991 L -53.602353576856046,-18.000702963071262 L -53.59837176824249,-18.002420364208376 L -53.59477628140024,-18.003043389340917 L -53.58906799569138,-18.002976044508785 L -53.587004586692274,-18.005734086259054 L -53.58513526847781,-18.011508314756895 L -53.58380257482895,-18.01281947413935 L -53.5816524531981,-18.01313826491895 L -53.57981003460537,-18.01142654389986 L -53.57745988666437,-18.010460895953543 L -53.57267644666064,-18.0121052694426 L -53.57012051854707,-18.01199548110651 L -53.5672506380065,-18.01088385430637 L -53.56421564373693,-18.008767932993692 L -53.56118064856804,-18.006652009882316 L -53.55547338358974,-18.006727370371777 L -53.553765082692394,-18.008043719741806 L -53.55205678089567,-18.009360069111835 L -53.55063342569201,-18.014433026962593 L -53.547946698381395,-18.015938001937172 L -53.54538691757216,-18.015628191787584 L -53.541761193724085,-18.014237796736893 L -53.53635796704651,-18.01445231112524 L -53.53366827287243,-18.015493461653875 L -53.52741845949424,-18.019743537134502 L -53.52383149372844,-18.020939959211717 L -53.51721452403103,-18.02045119926339 L -53.51085592236291,-18.022128049070147 L -53.509014751129826,-18.024869702474746 L -53.506640406029874,-18.027056055092828 L -53.50350682088305,-18.02853364750979 L -53.49901137977133,-18.02931021479452 L -53.493535308008006,-18.035129983162165 L -53.490796111551276,-18.036924050604398 L -53.48590187687006,-18.037240870070036 L -53.4778256977977,-18.039931042683406 L -53.4674128534204,-18.04004673237074 L -53.46305674607191,-18.036669433647376 L -53.4610045354309,-18.029509220374166 L -53.45441829107125,-18.02039455816231 L -53.45292009068959,-18.015239589335522 L -53.451421892106566,-18.01008462140811 L -53.44862162179038,-18.00307743857286 L -53.4457338609289,-18.000669974139953 L -53.43604451843976,-17.995042822568166 L -53.43057095578496,-17.99022549880766 L -53.428698379326704,-17.98942739815584 L -53.42682580106981,-17.98862929750402 L -53.42365508291573,-17.989737309029522 L -53.420086682754174,-17.992368660585157 L -53.41406386725362,-17.99129413891336 L -53.409288245056416,-17.99365291135274 L -53.40310455972758,-17.991717805032636 L -53.397322350645936,-17.997394940923755 L -53.38748624779208,-18.003120990940943 L -53.38211118608234,-18.005487371644847 L -53.37791998831676,-18.00654480619778 L -53.374788595717064,-18.008307698641318 L -53.37164079588598,-18.008777375875127 L -53.36441449593218,-18.007572196199874 L -53.35718819507912,-18.006367015625244 L -53.342789112027845,-18.007977824616887 L -53.338274565718564,-18.007458436457625 L -53.33373923787548,-18.005213809569625 L -53.326448921480505,-18.005005032855934 L -53.32393409598171,-18.002025505172867 L -53.3174291305499,-17.99851075316866 L -53.30540401668196,-17.99779197451994 L -53.29936307624496,-17.995276141780494 L -53.29337061466208,-17.99649682127125 L -53.28734286817877,-17.994987308317604 L -53.282839915929344,-17.995843005150505 L -53.28225082941219,-17.996454596302556 L -53.281661742895096,-17.99706618745455 L -53.27539643239942,-18.00044602136677 L -53.27090990536777,-18.001935722255723 L -53.24389016030261,-18.00244846982099 L -53.236399690793064,-18.00492384565888 L -53.222675960826905,-18.01255627135481 L -53.218485444747444,-18.013753941690993 L -53.21368066473087,-18.01395260103169 L -53.20949089778668,-18.015293770790834 L -53.20531630510334,-18.01778432178895 L -53.20116919120517,-18.022574655995527 L -53.198780505515856,-18.02375141799348 L -53.194545949635824,-18.02150013882033 L -53.192904647331545,-18.0217735929769 L -53.189442594699926,-18.024161735475673 L -53.187474469770905,-18.032789998459634 L -53.18392825318631,-18.03757316327085 L -53.17855377333791,-18.040364048262177 L -53.170290310449445,-18.043106718800004 L -53.1371308335211,-18.039954925979032 L -53.07619559015433,-18.038387666657457 L -53.070852820401285,-18.038779237771564 L -53.07317051810486,-18.051404006089967 L -53.076552145265225,-18.056413699332722 L -53.0768997296388,-18.056564522834435 L -53.07724731401231,-18.056715348134787 L -53.092496185350626,-18.059100922169762 L -53.105294343858816,-18.060124608763658 L -53.119318174893806,-18.0618598029875 L -53.13077642808963,-18.065364730797626 L -53.13569574576201,-18.069376776417073 L -53.13820055011524,-18.07515877325875 L -53.1382723546854,-18.081113102687482 L -53.136244909574884,-18.08970434957604 L -53.13435366319095,-18.09698627529633 L -53.131375121164865,-18.11517354832057 L -53.125312395550566,-18.130198752870115 L -53.123965534881506,-18.144882010896026 L -53.12374818313208,-18.15214632699133 L -53.11994581534708,-18.165258488288544 L -53.10969785806964,-18.199935394902525 L -53.10608709624245,-18.2165309470455 L -53.10488161799225,-18.230486580691093 L -53.10272904121223,-18.25447345928268 L -53.09920589493606,-18.265839457325058 L -53.093093280330606,-18.303084584885653 L -53.09104394302352,-18.31022198685514 L -53.08185256234583,-18.319325848209303 L -53.07671653953662,-18.32330227168245 L -53.06526816269553,-18.335041292321762 L -53.0628551260632,-18.33724590117737 L -53.06074576440545,-18.3394463515678 L -53.051312397748916,-18.340998592211236 L -53.04659183114802,-18.341484928486636 L -53.04006218921859,-18.343732602277726 L -53.031127101834215,-18.348908081942398 L -53.027035637984284,-18.351129785111425 L -53.023678597389335,-18.350875607023625 L -53.01891130651154,-18.3472939760361 L -53.015203345957616,-18.342975520603773 L -53.01248109542615,-18.33152973201146 L -53.01074669440436,-18.326464999360212 L -53.00642676498319,-18.321863501199573 L -53.00319468968314,-18.319136817909794 L -52.988634972425984,-18.312169466047976 L -52.979128456712886,-18.307184818924213 L -52.975248801191185,-18.303851525827213 L -52.973280848932006,-18.30216073383076 L -52.96928485441248,-18.299151144509665 L -52.95795735364891,-18.29476414095228 L -52.94832907242869,-18.292391974010343 L -52.943607922167814,-18.29273032324579 L -52.92944909120257,-18.29417843138947 L -52.9130264022466,-18.297681279067717 L -52.89754123314134,-18.303351606191654 L -52.88205661891777,-18.309166179175804 L -52.87355720540069,-18.31258776141601 L -52.86946460570692,-18.314806159576563 L -52.85691447212514,-18.309988549831644 L -52.8424081071484,-18.307512246792726 L -52.82670607642427,-18.30722505369323 L -52.81194922777462,-18.309977915348497 L -52.797208124455324,-18.314326419828376 L -52.78326985312117,-18.322733267026592 L -52.768570500827934,-18.331436121579713 L -52.76419461379038,-18.33597837060529 L -52.76039013799442,-18.341761589625605 L -52.756986318263955,-18.34693559620075 L -52.75312097455327,-18.35684566199768 L -52.75316699196304,-18.361492249467688 L -52.756137842087696,-18.369017901354994 L -52.76245691225665,-18.37578563160156 L -52.77397642906891,-18.38410350707113 L -52.78150125268064,-18.38940819773012 L -52.787079095323975,-18.398069800380938 L -52.79081790891934,-18.405877906839862 L -52.79605704889366,-18.411201276417728 L -52.808622146294965,-18.417039319908667 L -52.828335782870056,-18.420891683704212 L -52.838352380557865,-18.42321751577566 L -52.846376060806506,-18.425080597191766 L -52.85876851895193,-18.428740873892195 L -52.86645485450788,-18.434480829226857 L -52.87846360431183,-18.44497478525807 L -52.884773686656274,-18.450289908052753 L -52.89697912898356,-18.4647056474476 L -52.89998128540793,-18.47441297457908 L -52.900361684244274,-18.495629389084968 L -52.90101378086126,-18.499546928547886 L -52.90780057763453,-18.506309760187264 L -52.92146826364939,-18.514313907161068 L -52.92760744153014,-18.51759502519019 L -52.944014991298786,-18.52484380459788 L -52.95453565989277,-18.537816728359303 L -52.96025415380609,-18.544299249410813 L -52.96277451103481,-18.55139499748111 L -52.96145333680204,-18.556059688303947 L -52.9518058019961,-18.56705632039285 L -52.950786752306726,-18.57157148183836 L -52.9515847765162,-18.574760749408995 L -52.94888118331994,-18.57871171847097 L -52.94296773617202,-18.582403761924013 L -52.93808399388115,-18.585733819260327 L -52.93565557614386,-18.587508464943653 L -52.935351098974024,-18.587656990677544 L -52.935207174171694,-18.588534101267726 L -52.93429629493801,-18.58912695144761 L -52.93430267292996,-18.589709767891406 L -52.93399820025667,-18.589859195645317 L -52.933700103776744,-18.590591439843024 L -52.93310232081541,-18.591911351427655 L -52.93190127712222,-18.593965629610068 L -52.93115885799489,-18.596015344632406 L -52.93133374825385,-18.598056849743784 L -52.931344893551966,-18.59907700290131 L -52.93180675387856,-18.599365210436076 L -52.931814712878634,-18.600093503912035 L -52.93197620144048,-18.60082117595647 L -52.93228229379281,-18.600818134449298 L -52.93275213380389,-18.601835535681403 L -52.93430720641243,-18.604155201101605 L -52.936166155443686,-18.606178128917463 L -52.937721299997975,-18.60849685994208 L -52.93773569364731,-18.609809773002553 L -52.93743438928561,-18.61025106313599 L -52.937284998403925,-18.610543538853165 L -52.93683590125579,-18.61142368465528 L -52.935614654292806,-18.611727736445857 L -52.93546526880709,-18.61202111418305 L -52.93439499553256,-18.612177258073928 L -52.93424719824958,-18.612616111943964 L -52.93149631959943,-18.61293534788797 L -52.92965899746474,-18.612808097415723 L -52.92720785565797,-18.61254051673143 L -52.92475672104581,-18.61227290547015 L -52.922307186327544,-18.612151644482765 L -52.92154301349922,-18.612304690209214 L -52.920779796650265,-18.612458628962486 L -52.920321417599325,-18.612535902310015 L -52.91986303764901,-18.612613175657486 L -52.918033640340184,-18.613215010064607 L -52.91621055807076,-18.61440054494915 L -52.914845199246486,-18.615580651525818 L -52.91469892631437,-18.616164968038788 L -52.914089848767446,-18.616462854976703 L -52.9140993303198,-18.617338430424184 L -52.9136453669401,-18.617781184653893 L -52.91320876137519,-18.619827804209763 L -52.91277119893164,-18.62187443096019 L -52.91279329887158,-18.623916534120724 L -52.91312154602247,-18.625956528371034 L -52.91375593139105,-18.6279926033759 L -52.914542928113576,-18.630027173814995 L -52.91548349127004,-18.6320602279971 L -52.91627053565668,-18.63409569236228 L -52.917056948719164,-18.6359838594675 L -52.91708379438154,-18.638458768557257 L -52.91575846707957,-18.640157634667048 L -52.914433137978904,-18.64185649987752 L -52.90736281913877,-18.643321248177017 L -52.90658293875157,-18.64396508272233 L -52.90429186727579,-18.64442490968179 L -52.90184974836717,-18.64503258068902 L -52.90078176746454,-18.645334908479185 L -52.88503452332458,-18.646568973479305 L -52.881131555576815,-18.6471878257575 L -52.874739525208895,-18.649284061809965 L -52.87391699717165,-18.64955380536378 L -52.868347495740295,-18.65138029786243 L -52.85764467576115,-18.656016534135688 L -52.85315896711262,-18.659315247400684 L -52.84963623992047,-18.66858154879941 L -52.846548132590215,-18.66948021793769 L -52.84218121988732,-18.67012979285562 L -52.83754214355503,-18.67086859221172 L -52.834449423601995,-18.67133244633527 L -52.83393277028108,-18.671359427795323 L -52.82834865396717,-18.671651046458578 L -52.81950832994545,-18.671472783741933 L -52.81595507526646,-18.67150598851049 L -52.81431235203337,-18.67117431224466 L -52.81047359677905,-18.66999284589309 L -52.808195739941425,-18.669391409885634 L -52.806563478521696,-18.66905956994316 L -52.80503193667448,-18.669119875781576 L -52.804111630747116,-18.669429334296296 L -52.803263610527154,-18.669761613107937 L -52.802225737128026,-18.67044355822361 L -52.801183244810886,-18.6712312681085 L -52.799906208404764,-18.67198499621054 L -52.79407313097016,-18.676637620829467 L -52.78927168563973,-18.67898075945442 L -52.7820480269948,-18.680341110853533 L -52.771194788208845,-18.68058391971209 L -52.76637856971519,-18.681489803211775 L -52.75798866304632,-18.686882023086866 L -52.75198613625116,-18.689810706698722 L -52.74476741488422,-18.69174343970792 L -52.738729148131654,-18.691079097922 L -52.73326737289091,-18.68918290256886 L -52.732676835767336,-18.688977881424023 L -52.73026477310077,-18.68899935183856 L -52.72184400259857,-18.691372963991057 L -52.713392352974665,-18.69058550141972 L -52.70250836007273,-18.687806537841425 L -52.69129390948632,-18.681869759581673 L -52.68161129932196,-18.67850445151919 L -52.67558965833604,-18.679418503561067 L -52.66598606800261,-18.684387047424252 L -52.66117555840526,-18.685864995073416 L -52.64911619205856,-18.686254963595673 L -52.63468461830047,-18.690975449257508 L -52.6274526562151,-18.69161080679328 L -52.621414836425515,-18.690942822753016 L -52.616575221169455,-18.689402616837242 L -52.61174581231933,-18.688867968981526 L -52.60089347645271,-18.68938862068825 L -52.597271454214194,-18.68898735308386 L -52.587889167251205,-18.68532757550713 L -52.58091214857677,-18.680642046493233 L -52.572698240131615,-18.672661612843115 L -52.55995003536577,-18.663136744664996 L -52.55389701163773,-18.660598033172676 L -52.54423577116387,-18.659238167407466 L -52.53700478304427,-18.659870169572628 L -52.52737447295351,-18.661958470007335 L -52.523756896963164,-18.66198684361791 L -52.51651091984303,-18.66089312501765 L -52.51230179229384,-18.662363609193164 L -52.50347851402216,-18.670766390556423 L -52.500030059139874,-18.673091898871974 L -52.49784513194726,-18.673717577903858 L -52.49642076770425,-18.67412546182055 L -52.489187788485594,-18.674612010335977 L -52.48558350177717,-18.67636463611899 L -52.48198731436304,-18.678978307003206 L -52.47597688072841,-18.681466561132822 L -52.45190016975698,-18.68725216065866 L -52.4445521996243,-18.692192858813314 L -52.44112131030016,-18.69681693535324 L -52.43103609883684,-18.717583768875784 L -52.42148599568213,-18.73029829582964 L -52.41580084233499,-18.735944052575917 L -52.412382136126666,-18.742291575495756 L -52.408638455400364,-18.745624172517523 L -52.405376974068076,-18.752832466245252 L -52.399662297776786,-18.75502879054619 L -52.39546565281756,-18.758363469498477 L -52.39509299624473,-18.759641602178135 L -52.39472033787325,-18.76091973305921 L -52.3946275026571,-18.761836668327533 L -52.394534666541574,-18.76275360359591 L -52.39381639331185,-18.76465363815481 L -52.39257505099778,-18.76650771286063 L -52.391482532093164,-18.767388418940357 L -52.390390012289174,-18.768269125020083 L -52.38915278077616,-18.76908579217553 L -52.38716035526613,-18.77080240730521 L -52.38516792975611,-18.772519021535572 L -52.38173487216659,-18.777141920862903 L -52.37958533599442,-18.781535176507134 L -52.3785029839255,-18.783251576698888 L -52.37769742339731,-18.78417265784185 L -52.37726127378869,-18.78467135260081 L -52.3760195645512,-18.786091128502733 L -52.373409923529096,-18.788082142077144 L -52.37091501261767,-18.789338579511764 L -52.36866258860755,-18.790549002234627 L -52.36738866385571,-18.79139911427768 L -52.36650583177868,-18.791988243962237 L -52.365622148043656,-18.79298118453397 L -52.36473846340931,-18.793974126005082 L -52.363546955227775,-18.795589994582542 L -52.361582326862845,-18.79698084469021 L -52.35932583072247,-18.798052932796566 L -52.3558090939145,-18.797985289389544 L -52.35354585915405,-18.79818447213563 L -52.351719604975756,-18.798702278387395 L -52.35129862693003,-18.799343275571687 L -52.35071983675101,-18.800224565311396 L -52.35008140623188,-18.801231996659283 L -52.34698047366987,-18.809285617137448 L -52.34625904202113,-18.813600790943724 L -52.34358191047676,-18.816095057940515 L -52.34206342318839,-18.81750982192068 L -52.34197426619937,-18.81938721334916 L -52.341950673384815,-18.82027832548431 L -52.34161589265926,-18.82092670610257 L -52.34102653184891,-18.82141509642952 L -52.33992088464106,-18.821018800277386 L -52.338306381234474,-18.820465154243436 L -52.33669554796114,-18.820394897406572 L -52.335847266937776,-18.820400719617453 L -52.33491759187331,-18.82081100472402 L -52.33374005286112,-18.821949478985232 L -52.33181144234413,-18.82478823129179 L -52.33097652614572,-18.826569509475235 L -52.32988459269973,-18.82786911526739 L -52.32794553116128,-18.829335332159815 L -52.32608880525413,-18.830397062774182 L -52.32465164905432,-18.83097249578401 L -52.32372067806682,-18.83122099105583 L -52.32160294551949,-18.8313962185606 L -52.319054411631726,-18.830687009597796 L -52.31736111142612,-18.831021962093814 L -52.314229994918264,-18.831850032652824 L -52.313216950002186,-18.83242161476568 L -52.3106924118253,-18.83494157988997 L -52.30968173842143,-18.835836613069205 L -52.306975281783764,-18.83674303256487 L -52.30485925614971,-18.837160226263393 L -52.30299182920953,-18.83693056998976 L -52.300953117392396,-18.836379456446707 L -52.2982299819281,-18.835025075646683 L -52.29698028940879,-18.833879515627075 L -52.29190231244172,-18.829343801075538 L -52.28909386998606,-18.827919248874196 L -52.28826764123863,-18.827500154008874 L -52.281925760665274,-18.826967327280272 L -52.27613845422621,-18.82818996009854 L -52.27291313553275,-18.82821197730084 L -52.26835132175603,-18.827918261418574 L -52.265638650803055,-18.82836692869074 L -52.261578420407716,-18.82987336686233 L -52.259807507810194,-18.83064927314541 L -52.25767121415515,-18.831423006666398 L -52.250837299201976,-18.834847368711053 L -52.24015102315116,-18.83839274353022 L -52.236191857668075,-18.83935223291917 L -52.22880402058905,-18.840879076708006 L -52.223837924680424,-18.841167876895952 L -52.21924430997689,-18.84138915958198 L -52.217880100486184,-18.841733831950762 L -52.21646308640226,-18.842128521913708 L -52.21464484158611,-18.843105807986603 L -52.211332006267014,-18.84507367660882 L -52.207626963113796,-18.846738506976465 L -52.20432048869958,-18.847434868224525 L -52.20144812513081,-18.84735592843333 L -52.198266036848054,-18.846248764968493 L -52.19724936856346,-18.845933342149976 L -52.194324047516716,-18.845316989087735 L -52.19165125430192,-18.844850849786837 L -52.18938963112652,-18.84512219952984 L -52.18615100696337,-18.84575277986687 L -52.183082368156704,-18.846544014194876 L -52.18018369222358,-18.847494105668375 L -52.17792953162257,-18.84889114221238 L -52.17605538674667,-18.85006719104797 L -52.17456006959151,-18.85069878671959 L -52.174548391894746,-18.85165394497352 L -52.17446924166211,-18.85302335074698 L -52.17397344991474,-18.854394365407586 L -52.17333812745255,-18.855478878547387 L -52.17306733978586,-18.855719960707575 L -52.17241791055807,-18.85668257164332 L -52.16536921321858,-18.863478242926533 L -52.16372535144376,-18.86578768305509 L -52.16299784757257,-18.871623718359842 L -52.16253509871581,-18.872989074486156 L -52.16052644673806,-18.874983500088433 L -52.158702054156436,-18.87599010226137 L -52.157032299101274,-18.876697589921775 L -52.155991202531936,-18.877450124623522 L -52.15521728824723,-18.878998021541406 L -52.155251186393116,-18.884176197373563 L -52.155047894644554,-18.88502314650094 L -52.15406223498411,-18.88642320027043 L -52.15198280186479,-18.888228195374893 L -52.15015982121872,-18.889334097090853 L -52.14697525890102,-18.8902492175273 L -52.142898316404114,-18.890721354406935 L -52.13975498260635,-18.890092818228936 L -52.13781657127771,-18.88950598811084 L -52.13582662609787,-18.889169728899844 L -52.13425914194579,-18.889576435604 L -52.1328549863685,-18.890879421947716 L -52.13207889752306,-18.892129053313113 L -52.131403067797294,-18.892879328018523 L -52.13041333330864,-18.893382940270442 L -52.12706104653006,-18.893926436555773 L -52.125179923814414,-18.893987008593513 L -52.12345733718632,-18.894644810509533 L -52.121685693439986,-18.89580074510826 L -52.12017287188047,-18.896308219948367 L -52.11891760985975,-18.89641482828165 L -52.116566243337445,-18.89672740204793 L -52.11463569927804,-18.897535405134818 L -52.11275546149528,-18.89804402121456 L -52.11103154297126,-18.89835294103534 L -52.110054567164525,-18.89833321260761 L -52.109452622140736,-18.89832128040274 L -52.10883702450906,-18.898402493680067 L -52.108430652352695,-18.89854395613861 L -52.10835035008853,-18.89860585467642 L -52.10815790596257,-18.899102104178723 L -52.10791348012299,-18.900240180040214 L -52.10757145266035,-18.902768492671726 L -52.10671921372068,-18.90493104742984 L -52.106063137603655,-18.906585583257993 L -52.10580234230423,-18.907539420407886 L -52.10554487809361,-18.908873636608973 L -52.105235357525714,-18.912810402677906 L -52.10464823242995,-18.914718438505076 L -52.10419003324341,-18.91599053853247 L -52.103995027848214,-18.916689191253113 L -52.10287058750754,-18.918155712116402 L -52.10214344426453,-18.919238677522912 L -52.101818133400116,-18.920510016723824 L -52.1017054312606,-18.923748100394448 L -52.101183763319966,-18.924898566215802 L -52.10016822548317,-18.92602652110702 L -52.097810397331955,-18.927352689275153 L -52.09644651069789,-18.928351570768314 L -52.09572453495929,-18.929362192910844 L -52.09545538855531,-18.930667535478335 L -52.09509728121452,-18.931561357270766 L -52.093843387062634,-18.933309549396142 L -52.092219268104714,-18.93430895519407 L -52.09005558199948,-18.93496530650367 L -52.08867503722314,-18.935897361174227 L -52.088057024012414,-18.936841411002263 L -52.08799809773399,-18.938525959905064 L -52.08797303542718,-18.940466927106968 L -52.08792788586322,-18.941152070211842 L -52.08751975193496,-18.941950376808393 L -52.08599619966486,-18.94341720434045 L -52.084898732690306,-18.94407206727203 L -52.08142338448158,-18.945786446687123 L -52.0795691380053,-18.946607212053152 L -52.07759555599006,-18.947171109459077 L -52.07453862635646,-18.947446408125188 L -52.07167030254237,-18.94735106919643 L -52.06998681753754,-18.94799822583741 L -52.06759435829298,-18.949493167975277 L -52.06584799718729,-18.95011262189996 L -52.062934107423075,-18.9501836575497 L -52.060304068877656,-18.948978199084593 L -52.058429859250566,-18.94760144585001 L -52.05748547487474,-18.945775985773082 L -52.056429919005495,-18.944728174865304 L -52.05398130069642,-18.944464047577696 L -52.05258267505036,-18.944637860448836 L -52.05054868467403,-18.945592143662452 L -52.04886286233119,-18.946654762806986 L -52.0477223484076,-18.947922250211604 L -52.04668095506196,-18.949093422923056 L -52.0447045132027,-18.95015846843853 L -52.04261118375911,-18.950891614656257 L -52.040460956008246,-18.952123799173933 L -52.03866142338592,-18.953410108489663 L -52.036401153690235,-18.955641250043584 L -52.03535644004762,-18.956591006070028 L -52.033241756202074,-18.957588901006943 L -52.03294154271799,-18.957636946387936 L -52.031087144256276,-18.957933721763823 L -52.02951558077939,-18.95827453514164 L -52.02823526544512,-18.958892091496807 L -52.027075578874815,-18.959841505780844 L -52.02614725099477,-18.960568326167277 L -52.0251004940925,-18.96101747457675 L -52.023294642833434,-18.961249238861228 L -52.020262491320864,-18.96143138934707 L -52.019341894013166,-18.961530177175916 L -52.017873051999686,-18.962401640023643 L -52.01736667343317,-18.96302411387171 L -52.01701096638294,-18.965237836456936 L -52.016251613021495,-18.966294422049884 L -52.01421634830581,-18.967599796993 L -52.01323525989926,-18.969573712656654 L -52.01333328240503,-18.97175795636457 L -52.01479486419157,-18.97439409860874 L -52.015737228690114,-18.97558908536797 L -52.01602942921477,-18.977017859886303 L -52.01566855735797,-18.97834251629405 L -52.01419581228686,-18.978727864099596 L -52.01200854955488,-18.977902561653877 L -52.01105244161687,-18.977124159752123 L -52.00934439792559,-18.975891557049692 L -52.00891353093465,-18.975282093693636 L -52.007973310419914,-18.973955147611946 L -52.00660377154679,-18.972451514425813 L -52.005407319791914,-18.971485484267646 L -52.00421303540321,-18.970898019228173 L -52.002679392739765,-18.970420716642707 L -52.00109152995009,-18.970428880688246 L -51.99916613001284,-18.97087065375763 L -51.997524383443476,-18.971427511270576 L -51.99621584828276,-18.97200768730488 L -51.99121597473743,-18.974224524242345 L -51.987396397525686,-18.97443365798688 L -51.97813726102572,-18.97370421697599 L -51.973629873319965,-18.975080285826493 L -51.968390307966274,-18.97284936190846 L -51.963855733755054,-18.969260409540198 L -51.95969760855775,-18.9698953372 L -51.95700905922064,-18.97060609119808 L -51.953477702134194,-18.973878840136308 L -51.95128097583631,-18.97528463427841 L -51.948341515648394,-18.974833619775666 L -51.9454020545611,-18.97438260437366 L -51.93755161791279,-18.97116599921145 L -51.9330222903464,-18.97095462615505 L -51.927164663218605,-18.97423802036832 L -51.92167886978399,-18.97856486377742 L -51.92069339808182,-18.979026814935537 L -51.911910647758134,-18.983143835719375 L -51.907159332437175,-18.98746771676167 L -51.90191173883562,-18.990630027153998 L -51.896660184619805,-18.992863382838777 L -51.89446371912527,-18.99426852137509 L -51.89108027263643,-19.002886475430444 L -51.88901906068105,-19.006847894614623 L -51.88671736101736,-19.011741003344582 L -51.88503407296406,-19.017793191602493 L -51.880762840033015,-19.02060169251405 L -51.874557811094064,-19.028302276928514 L -51.86955753914907,-19.03227751059859 L -51.861037973623525,-19.042660507376468 L -51.85726166009749,-19.046629989882092 L -51.8537274872337,-19.050016476079463 L -51.85152378759267,-19.05014176063372 L -51.84845469732636,-19.04852793171864 L -51.84439052250457,-19.04366303292261 L -51.84347436425048,-19.043586059948666 L -51.8391229810407,-19.043220472047096 L -51.83680050793703,-19.0439279615062 L -51.835827591669954,-19.045327147429873 L -51.8369407266332,-19.04764709074061 L -51.838420635703756,-19.049965448546573 L -51.839410162448985,-19.05205370401518 L -51.839174437550184,-19.054030679172456 L -51.838198166811935,-19.054732383292787 L -51.831952771802946,-19.05452693317136 L -51.819832015035445,-19.054810478620652 L -51.81041661953134,-19.05763895077689 L -51.80528990470532,-19.061264252842932 L -51.797466023238314,-19.0642020609763 L -51.79552351999439,-19.06792969240132 L -51.79431598769264,-19.071770855140812 L -51.78821297604799,-19.076328448399124 L -51.78589608323762,-19.078430288127265 L -51.78222545084384,-19.079142543093838 L -51.77267588638301,-19.079761562645956 L -51.77023583141846,-19.080866810554824 L -51.768275231117,-19.081754884780082 L -51.756911034416646,-19.087611470492902 L -51.75066312220531,-19.08728687548887 L -51.74674202232643,-19.086604438444056 L -51.743434940869804,-19.086617073918774 L -51.74135720656977,-19.087670319429662 L -51.74087414652462,-19.089183688676258 L -51.741983865862665,-19.090923197847246 L -51.742971987866895,-19.092895358034298 L -51.74273463879251,-19.094756537384228 L -51.74176216319324,-19.096503962387885 L -51.74017374552187,-19.097556231235046 L -51.7390761652328,-19.098490079153805 L -51.737364144739445,-19.099310597206227 L -51.734548189347436,-19.09955341865532 L -51.73222310551188,-19.09991090636322 L -51.728443142536946,-19.10399343814663 L -51.72588714787355,-19.10783914336173 L -51.72381001611933,-19.109125284504216 L -51.71719359051173,-19.108568792116046 L -51.71241344112735,-19.107772277868264 L -51.7097157070142,-19.106968079812987 L -51.70751213058031,-19.107324830076777 L -51.70580501678808,-19.10919127675595 L -51.70190719046445,-19.11466866782473 L -51.69836083808218,-19.11607636403295 L -51.693345867617666,-19.117953607073275 L -51.68655135286258,-19.120336551490595 L -51.680623631675246,-19.122415498076748 L -51.66999485288011,-19.129891473212865 L -51.66571133520989,-19.13106890430646 L -51.654459719240606,-19.135988413534392 L -51.6489426006205,-19.13472753794548 L -51.640470995939665,-19.129757557864934 L -51.636669787380754,-19.128723786273667 L -51.63348578084407,-19.129082892761232 L -51.63030853361187,-19.131069069781688 L -51.625300250506086,-19.135153500033937 L -51.623260169021535,-19.13571588657885 L -51.61122603495352,-19.139033319232226 L -51.60608605602664,-19.140676495723653 L -51.604246542244084,-19.14010037203451 L -51.60117696004863,-19.13813398189768 L -51.599822142178084,-19.137624705715552 L -51.598111162200325,-19.136981550158396 L -51.59185125123423,-19.13351326972156 L -51.58890337698921,-19.1311966691909 L -51.58534961509264,-19.130742984601 L -51.57506254629942,-19.13158670336361 L -51.57004770263933,-19.13404258909418 L -51.561109553063375,-19.135579100594953 L -51.55608633041976,-19.13547694030848 L -51.55045892973578,-19.13793315788888 L -51.54667286126352,-19.14166426519364 L -51.545329212972774,-19.143062970879384 L -51.54386098969286,-19.143531448417548 L -51.535772529478606,-19.14273981299192 L -51.53185077938991,-19.142285263254223 L -51.521569320567664,-19.145335102632828 L -51.516675290931914,-19.14755618077305 L -51.508966080220375,-19.15071415823178 L -51.50516486086957,-19.14956219324057 L -51.50197988036712,-19.149802603607213 L -51.49965531094381,-19.150738229485682 L -51.499171686124384,-19.153180610097024 L -51.49917959116516,-19.155970460868048 L -51.49844997118919,-19.15783253954004 L -51.497474394727476,-19.159462151557022 L -51.49588392210529,-19.16016366771902 L -51.4902481226527,-19.160526645788025 L -51.48154909201696,-19.160548311355456 L -51.47688809381043,-19.158583004901686 L -51.47198441444914,-19.157548729690063 L -51.469536633408836,-19.158367745874727 L -51.462565899196875,-19.163383204671106 L -51.45742623862998,-19.165952090216763 L -51.45558965483866,-19.16642166492784 L -51.45424004853936,-19.165494258852902 L -51.45215130743685,-19.163291075422762 L -51.449694393781215,-19.160972171728304 L -51.44812717672778,-19.160381407076216 L -51.44540159510751,-19.15935399638977 L -51.442831026031,-19.160173860635098 L -51.44112292568241,-19.16296759108144 L -51.43978088807751,-19.165411746055213 L -51.43880530621988,-19.167273243765123 L -51.4368474515486,-19.16832383267871 L -51.43219501668665,-19.16972821578446 L -51.42974338025277,-19.169501446334607 L -51.4261875688012,-19.168347410204774 L -51.42128224817719,-19.166614406729423 L -51.41711442199295,-19.16592590016012 L -51.414667364007585,-19.167209498019872 L -51.413077446267096,-19.168723438335974 L -51.41210129423928,-19.170469158225046 L -51.41051227941813,-19.17198397717874 L -51.40843344075063,-19.17384853887893 L -51.4051295123171,-19.175946905425292 L -51.40476677886369,-19.177807852750163 L -51.4055087114578,-19.18082833465985 L -51.40514689261494,-19.183503278153694 L -51.40319052002644,-19.185366615876603 L -51.40037669422901,-19.18734823603222 L -51.39695228002364,-19.190145057448376 L -51.39303787379879,-19.19329062516215 L -51.390343386238214,-19.193877850082686 L -51.38262306800016,-19.193893141255444 L -51.37478379283772,-19.195651087427677 L -51.370742777357236,-19.19717025730148 L -51.3674399047278,-19.200198498561804 L -51.3662209087679,-19.20299059673863 L -51.36634962423574,-19.2058957963539 L -51.36500646337754,-19.2084559305967 L -51.364030093713836,-19.210433559561068 L -51.36391221957325,-19.212758305251555 L -51.364039705667835,-19.215083495207068 L -51.36416791391804,-19.21775649976263 L -51.36392663210836,-19.21973274556973 L -51.36270433203924,-19.221013370270782 L -51.36123473999123,-19.22183008329165 L -51.358661210346554,-19.221834829014085 L -51.351792631924354,-19.219406274579853 L -51.34381810951811,-19.215467989556032 L -51.34198003015422,-19.215587763064775 L -51.338919223543314,-19.217336717815215 L -51.33402243478747,-19.22036712554234 L -51.33157335962278,-19.22130092579704 L -51.3280181408245,-19.221190392822336 L -51.322745855436835,-19.219804292933702 L -51.314163450682656,-19.21807468439914 L -51.30901656496246,-19.21866380688914 L -51.30509592733512,-19.21948305869614 L -51.303258381269245,-19.219951188196717 L -51.302279456631595,-19.220882331854114 L -51.301792105920924,-19.222858878034742 L -51.301796886716886,-19.225648645168803 L -51.3025370080764,-19.227972910621304 L -51.30450516987764,-19.232037958684828 L -51.30536628782386,-19.233895853710635 L -51.30512412467857,-19.235756373857498 L -51.30353340024618,-19.23715373235882 L -51.300837584386954,-19.238087523620266 L -51.29704093988744,-19.239953476571657 L -51.290185915147845,-19.245658925818702 L -51.28835262287521,-19.248916643488258 L -51.28688454078889,-19.250429313961604 L -51.28443309501131,-19.25089815932256 L -51.2790406898759,-19.251486837547475 L -51.27732467459401,-19.252070177396718 L -51.275246613840125,-19.25532810910488 L -51.27267704121243,-19.2588188779888 L -51.26741194050862,-19.26324292372192 L -51.26189915122478,-19.265691401736774 L -51.25748784528781,-19.26685905000511 L -51.24964704037859,-19.270704186848718 L -51.24768560011029,-19.27082322471199 L -51.24412845136692,-19.26931631259771 L -51.23468649618479,-19.267699957487025 L -51.231251745171846,-19.26654227730421 L -51.22597403147631,-19.2621308013953 L -51.22351952260783,-19.259692620617898 L -51.22106727103767,-19.258997981571554 L -51.218247109516426,-19.2592342343724 L -51.21383539258926,-19.260168724407038 L -51.21065107668579,-19.262961909864202 L -51.20869080014029,-19.26401016054041 L -51.20587149117631,-19.264245328758875 L -51.20287659318018,-19.264518550890386 L -51.20072276094663,-19.264715041965587 L -51.19729210904353,-19.26611339781499 L -51.19458344546962,-19.267157774211853 L -51.19275828396758,-19.267861500008166 L -51.187857451859884,-19.270771625210273 L -51.183204926166354,-19.276587629915127 L -51.18051096650788,-19.279612013083863 L -51.172178634436364,-19.28415188879859 L -51.16801199895457,-19.286596496131324 L -51.16163678950619,-19.286717514301813 L -51.15477095851287,-19.28718832648002 L -51.1461886598787,-19.2875427501977 L -51.14251091384756,-19.288010717820327 L -51.137581240481836,-19.29063867623387 L -51.13552475536312,-19.29173496869379 L -51.12792793562568,-19.298713376820842 L -51.11726322711621,-19.303368915243198 L -51.112728242814114,-19.306044709495723 L -51.105372962092474,-19.30895410894493 L -51.09813729120299,-19.308377003196085 L -51.091971349498124,-19.30845546814527 L -51.088695461925965,-19.3084971553194 L -51.08738977042151,-19.309570745293627 L -51.085018359809396,-19.311520613985124 L -51.081954687958444,-19.316170734891443 L -51.08076251247991,-19.316982133818385 L -51.07631551694749,-19.32000877788272 L -51.06981725146494,-19.32256777538248 L -51.06062156303466,-19.329544019740695 L -51.05855279677411,-19.330607421295383 L -51.057679618919224,-19.331056259438753 L -51.04860590014215,-19.338497107055787 L -51.04505057882113,-19.342798004124518 L -51.04235398954495,-19.34895867760082 L -51.04076028206134,-19.355002531841308 L -51.038063178372965,-19.36035008149105 L -51.03610131362467,-19.363953056987953 L -51.02874280163894,-19.36964905256167 L -51.02833534220224,-19.37048577819604 L -51.02653520163818,-19.37418240459425 L -51.024204772232395,-19.379296593662843 L -51.02236572789599,-19.386967164103282 L -51.02347058459975,-19.391500034099238 L -51.02457540083407,-19.395335503230854 L -51.023839052130484,-19.398938129790793 L -51.01844151096691,-19.402076928307565 L -51.01058933592907,-19.40382005635047 L -51.00654039562272,-19.405214993876825 L -51.005313378609515,-19.410560989498038 L -51.00555911655994,-19.413815703431908 L -51.00506887902549,-19.416837374245404 L -51.00347318404016,-19.41823215798763 L -51.000405484125736,-19.41718612683826 L -50.99660190315524,-19.413234007543394 L -50.99255286122553,-19.409282697638332 L -50.98997664350725,-19.408236518100807 L -50.98727658734458,-19.40858505035976 L -50.98543588465833,-19.413116965275663 L -50.98531262987393,-19.418347265813622 L -50.98509180494278,-19.42002061545901 L -50.98469906830729,-19.422996671758938 L -50.98138605941904,-19.42799360631983 L -50.96837727069442,-19.435197777555345 L -50.95562581667804,-19.442269982273842 L -50.9526674086739,-19.44391077376315 L -50.94407303394331,-19.456925316350237 L -50.9428434187887,-19.46331680352762 L -50.942352575111215,-19.464479221338934 L -50.950696903239475,-19.46878125784872 L -50.95400992202025,-19.473663537841958 L -50.95756694845585,-19.482496848950348 L -50.9568291581391,-19.48877281821092 L -50.95326623844613,-19.501788484051247 L -50.94307105068839,-19.522123285061525 L -50.93950816247167,-19.527352208737398 L -50.92562616441592,-19.545825701794683 L -50.921080459295695,-19.554075264761593 L -50.92095397684449,-19.559885907708406 L -50.92119695477561,-19.56627747402615 L -50.9241422047989,-19.571159839454992 L -50.9273341568458,-19.574414575871913 L -50.932369308097066,-19.57511369264273 L -50.93912436959391,-19.57372128580863 L -50.947722368592395,-19.568958193865512 L -50.951529438033106,-19.568494899120253 L -50.958529507230935,-19.568960782114345 L -50.96405521887323,-19.5704730236111 L -50.9768269436085,-19.573960612492215 L -50.98898394035655,-19.586512344169307 L -50.99414206580366,-19.604060768489603 L -50.99819559984701,-19.611149446089996 L -51.00200374127962,-19.635785878015838 L -51.010973129706144,-19.64926519293425 L -51.01662518890129,-19.654843029282347 L -51.0255976062445,-19.67471346895138 L -51.030882341846564,-19.682614776650553 L -51.03973566376982,-19.706434763553432 L -51.04103097260128,-19.723690585352188 L -51.041954520584625,-19.732928904345385 L -51.03955903422201,-19.739378899616497 L -51.030710201714385,-19.75053631070216 L -51.02831389157279,-19.75593934312616 L -51.02905322422686,-19.76186571083383 L -51.031819775362294,-19.767268815203636 L -51.03274320733311,-19.772149256083253 L -51.03606642262724,-19.787660983967214 L -51.03090309370276,-19.79498175140668 L -51.024633743452455,-19.80457023312971 L -51.01781202870211,-19.831760189281283 L -51.01707432921688,-19.841696214009005 L -51.019475955251096,-19.870454084188566 L -51.01301811249584,-19.880387610599712 L -51.00619109714137,-19.89206650526495 L -51.00194668738965,-19.901476561494064 L -51.00120779450407,-19.911236861392013 L -51.00010025242466,-19.92448196946725 L -51.001577472522285,-19.930407767904114 L -51.0061916538217,-19.93459058129025 L -51.0159764611447,-19.942955803367568 L -51.02243860895459,-19.94992661222335 L -51.025207999249744,-19.95585107156967 L -51.025947992905515,-19.961254699344863 L -51.02520968008264,-19.967528112732168 L -51.02299559956725,-19.97345401009443 L -51.01505651404682,-19.983563144423556 L -51.0050857637969,-19.99645862306693 L -51.005426079849656,-19.99930322276549 L -51.00554727248857,-20.0003162398026 L -51.00546713210241,-20.000469844907343 L -51.000569388266626,-20.00985727419379 L -50.99968569104175,-20.01421248941483 L -51.000530247073186,-20.018131557725155 L -51.004109413018966,-20.027567103439026 L -51.008534604488375,-20.035787104790984 L -51.00922447712787,-20.035716631217497 L -51.01341919573923,-20.0464577865975 L -51.01265631793467,-20.053668511192768 L -51.01202848952312,-20.053885284678074 L -51.00807853669505,-20.064917846481364 L -51.00533179312771,-20.089433621764215 L -51.006118880681754,-20.099209955674894 L -51.01749735501886,-20.12345155104822 L -51.026763959489074,-20.139999765576647 L -51.03496308667707,-20.1586537651591 L -51.04031347908375,-20.178410897444905 L -51.04275858014432,-20.183025007697893 L -51.04612334411701,-20.194561871533097 L -51.05269765537247,-20.2125873214477 L -51.070951204834216,-20.24787887870724 L -51.10175514958047,-20.27198219342347 L -51.11906616906839,-20.28552763099532 L -51.166815707279,-20.305021894145057 L -51.22639912481969,-20.310880483547407 L -51.28451828688941,-20.322301133390567 L -51.30673353342581,-20.3274933944046 L -51.3423158325096,-20.350447746965926 L -51.34533877316579,-20.353356627506287 L -51.356786026753696,-20.364371984379545 L -51.365329803827365,-20.37738665107304 L -51.36570494702562,-20.37795810188487 L -51.39697956185728,-20.442427481243215 L -51.41221500811611,-20.459834394541645 L -51.42266514737861,-20.465123367749186 L -51.42415636902115,-20.4658780967967 L -51.43484587273878,-20.471288215878417 L -51.447843520661934,-20.48171991004574 L -51.49473068367405,-20.536938083126017 L -51.50365924827565,-20.55061321282949 L -51.513848568856304,-20.573660223440527 L -51.52246583223234,-20.58473871541935 L -51.53751832491071,-20.59565201093153 L -51.55010848102154,-20.603254759899187 L -51.555389324357805,-20.60524556662955 L -51.57033460615713,-20.61438716623468 L -51.572524658586076,-20.6157267594823 L -51.57989957150795,-20.621036891039637 L -51.588832372815716,-20.632256344554605 L -51.593773288606315,-20.641470345879725 L -51.596255331118584,-20.64881723502731 L -51.59747696029342,-20.65045393370201 L -51.60987110286908,-20.68669487287002 L -51.61869430739631,-20.699508476335097 L -51.623179281298746,-20.70886712821533 L -51.62629565072365,-20.72039516970125 L -51.62646935297823,-20.725010155893926 L -51.625426706876965,-20.73208218794258 L -51.623616529878916,-20.776314898513704 L -51.623318226554886,-20.780059058578672 L -51.62255982917276,-20.789578100948575 L -51.62862410611757,-20.817817451714006 L -51.62796834296461,-20.83770938607927 L -51.625453334903455,-20.857258996205644 L -51.6140389461404,-20.88068057085161 L -51.61332130963069,-20.88661431210079 L -51.613756388146726,-20.90161733667071 L -51.618292763700026,-20.919744758913453 L -51.62393501758697,-20.935425355195946 L -51.66605780262546,-20.96247514751002 L -51.68018602426554,-20.96311499985734 L -51.69169960645161,-20.960972617792038 L -51.71029313292172,-20.962636860902364 L -51.72148313633761,-20.970264017470413 L -51.74431487982781,-21.0001703479831 L -51.75556285624077,-21.01791488836136 L -51.77018195303464,-21.049560002292253 L -51.776634215496586,-21.0635268414905 L -51.78532779803942,-21.088609562881004 L -51.79918389921755,-21.104942266572323 L -51.82684113950694,-21.126090589808825 L -51.84473696653771,-21.13158238441946 L -51.86781447226002,-21.132158539584907 L -51.8775417760321,-21.140481364923005 L -51.881693712095114,-21.149880852319427 L -51.87856809763957,-21.18653752108969 L -51.87752380667831,-21.192339768865168 L -51.87662715292072,-21.1973217243181 L -51.8746077459507,-21.208541864015785 L -51.865023317472094,-21.224644662321282 L -51.860251233207805,-21.236185861788044 L -51.85663781838059,-21.254699280247564 L -51.85788298730995,-21.275979459384473 L -51.85761230216599,-21.29307876767092 L -51.862600690469435,-21.31713157286373 L -51.86441174970247,-21.33667687883485 L -51.864992149667955,-21.342940656885787 L -51.87138625207382,-21.352329650992544 L -51.88787864748156,-21.367246605946036 L -51.90213785807566,-21.38217338059701 L -51.912291996278555,-21.396074017102137 L -51.91571019706788,-21.40582663678981 L -51.92601948181357,-21.443106658045792 L -51.932825381985765,-21.45737465321764 L -51.95123655921981,-21.47750859244752 L -51.968222024127044,-21.501356022162668 L -51.9685625263395,-21.501834084675238 L -51.98842154281988,-21.51392883574715 L -51.99979791004546,-21.51283791763575 L -52.01711628868571,-21.508519505370828 L -52.04605541902231,-21.50659331313085 L -52.059899161716885,-21.504978307902547 L -52.06519630796322,-21.507485074576493 L -52.07487346463864,-21.519620061316743 L -52.08378938836955,-21.532632206311234 L -52.099800295747,-21.54940405525292 L -52.10152350200798,-21.552855119068454 L -52.10264086468413,-21.557752953735758 L -52.10268534155523,-21.563523462637647 L -52.10163902801867,-21.56785862297704 L -52.1005426681096,-21.569471951869048 L -52.09801391930688,-21.57319309108823 L -52.07607028241756,-21.58415698066011 L -52.06723622217385,-21.600965378049693 L -52.064505865153535,-21.61427010578069 L -52.06223722546753,-21.620344738418908 L -52.05016257424336,-21.635857874641147 L -52.048502024648656,-21.64091842544491 L -52.0477901860682,-21.64900191780424 L -52.050346967638404,-21.660959829832223 L -52.06389315254694,-21.69501376167574 L -52.0645366138736,-21.69588043563357 L -52.07936959103375,-21.715850062430377 L -52.11397551325928,-21.744931090497403 L -52.12820881348591,-21.74867207955276 L -52.13796170207087,-21.75314045197024 L -52.1466150282609,-21.760059599271017 L -52.15803141082091,-21.772827106185957 L -52.16925049831178,-21.78537396983279 L -52.17727082498857,-21.80590546156776 L -52.18302678645699,-21.823661479993234 L -52.188348833132125,-21.836279172445813 L -52.19065738742847,-21.841752373573115 L -52.208777979320246,-21.86151026578608 L -52.26156116061901,-21.908222644659304 L -52.265292998173265,-21.911264389240102 L -52.285310176623284,-21.92757997703427 L -52.30064146183395,-21.942306038292998 L -52.301166996859365,-21.942808661290655 L -52.31600789884544,-21.96921149661324 L -52.31803139053619,-21.98559599316053 L -52.33481139722818,-22.03385338122854 L -52.33727042249194,-22.040925258593745 L -52.34798592201264,-22.065264590488425 L -52.3738087152999,-22.10134214982031 L -52.3899723014805,-22.11741292866367 L -52.39456290705249,-22.121977176005828 L -52.40153398390618,-22.128908226733245 L -52.42565892731761,-22.152894648469214 L -52.45845706564103,-22.181476590572174 L -52.4752104586957,-22.196076335754242 L -52.48886060972933,-22.210609140799136 L -52.50208656404368,-22.220259360081343 L -52.529585062300725,-22.231520596098562 L -52.58992703640354,-22.261428906019148 L -52.595208595600184,-22.26404669310034 L -52.6208499686511,-22.275660323065438 L -52.64694098563791,-22.289611131848233 L -52.663132425620915,-22.29826865877152 L -52.6686574312954,-22.301464291743628 L -52.68785622218684,-22.31256876243839 L -52.7235925337684,-22.333238443099617 L -52.7485062896335,-22.34483894026482 L -52.79545344731872,-22.376785484462516 L -52.8072372380081,-22.38817125320071 L -52.84941199127036,-22.426435600422565 L -52.857801298990694,-22.436111496248486 L -52.903141932953815,-22.45618101973821 L -52.924960800600445,-22.46240857669443 L -52.94624750072154,-22.46909482656497 L -52.95393196119102,-22.468093169763904 L -52.9617105402092,-22.467079244411536 L -52.97205976564561,-22.47205934995901 L -52.98543023381819,-22.48451988678329 L -52.99834015017774,-22.49413401717112 L -53.00795987434867,-22.51006811974787 L -53.013181393006846,-22.515534481531063 L -53.01520754938883,-22.517655982237727 L -53.04161022912871,-22.524309691938697 L -53.06884883680431,-22.53851310049913 L -53.07794341445697,-22.544458034710487 L -53.08424963511254,-22.550869575870195 L -53.09195747975383,-22.568082994634437 L -53.10533817231874,-22.587712184869417 L -53.11007936666937,-22.60335282697133 L -53.108000769919556,-22.61524345532115 L -53.10210783360958,-22.623344604070155 L -53.09411345776982,-22.641939637804 L -53.093230837932765,-22.65480922856301 L -53.101705835755695,-22.662441638970392 L -53.119906841427564,-22.675594994613277 L -53.141106621173606,-22.690915478066813 L -53.16719922276587,-22.70132984409696 L -53.17989849002328,-22.71078595011147 L -53.18951083705542,-22.71531496291516 L -53.206473443894254,-22.724869503324896 L -53.21922157221775,-22.72961222022775 L -53.239847826415996,-22.736980702097696 L -53.32525972185863,-22.767493074046058 L -53.350705658739116,-22.776583329556956 L -53.36716668669317,-22.78673101602351 L -53.388060435240845,-22.79962753068594 L -53.41056178489839,-22.813512724932252 L -53.420129597502864,-22.819416856902365 L -53.56132618315678,-22.891235590450094 L -53.59916108791384,-22.945601471530665 L -53.59938036241374,-22.94591144445758 L -53.613290373451946,-22.963226441646896 L -53.63292531395206,-23.00027033870515 L -53.63324381425059,-23.00366535227414 L -53.63549604490652,-23.027672712925323 L -53.6329454722557,-23.045628521139292 L -53.635743123746124,-23.107332496897186 L -53.64231724974127,-23.12819117458298 L -53.65589988597094,-23.155280824850138 L -53.65989020576836,-23.163239931977216 L -53.68174613807378,-23.206833860394283 L -53.69425074257765,-23.236006081515427 L -53.7146293045987,-23.283547603838826 L -53.71760038225182,-23.290478886591302 L -53.71926089137702,-23.292938775204277 L -53.74864995702984,-23.309556432683166 L -53.7831742936587,-23.333276239606732 L -53.79618870764273,-23.340661913816234 L -53.80818895795403,-23.348319824500265 L -53.852231804554094,-23.359637886878943 L -53.87313268832287,-23.365666901406314 L -53.8816810528383,-23.369778265454556 L -53.89433997201206,-23.386597846813117 L -53.9108342173252,-23.40263920523506 L -53.9233482278384,-23.411678988094764 L -53.944169742839335,-23.43049962126048 L -53.961543651018644,-23.44129952035655 L -53.97304220733196,-23.4501838374141 L -53.983082275526556,-23.459092691574426 L -53.98613232894377,-23.467457822820222 L -53.98876632270759,-23.489620717122364 L -53.995950900413675,-23.496169002897147 L -54.00043908399647,-23.496337611391596 L -54.00059176369888,-23.496343346368292 L -54.00422597624777,-23.499338052808866 L -54.007860188796656,-23.502332759249384 L -54.009021113733354,-23.504339006439977 L -54.0127626252949,-23.510804875644453 L -54.01416341560912,-23.520447310395014 L -54.01500845997242,-23.52477804696923 L -54.01585350523504,-23.529108785342146 L -54.01470361947639,-23.539198237108906 L -54.01393048400462,-23.544116099678206 L -54.013157350331426,-23.549033964046146 L -54.01197842726259,-23.554191463565132 L -54.012249119601165,-23.55729976876927 L -54.01262365395843,-23.561600473383123 L -54.0141696847831,-23.568280841687454 L -54.01643663554228,-23.578076294285495 L -54.01789577746814,-23.584381214521386 L -54.02317487522026,-23.59554888147568 L -54.027888144722056,-23.60551956427645 L -54.03146342829456,-23.61372113402308 L -54.03236848261935,-23.620539123781498 L -54.033390753680294,-23.6282401281793 L -54.03412100498036,-23.633741279336505 L -54.033372304987836,-23.643837372596636 L -54.033434381591405,-23.65200551814013 L -54.03344352499863,-23.653208543939115 L -54.03920710912075,-23.659228429448433 L -54.04313227213663,-23.663613484174903 L -54.04705743515245,-23.66799853890143 L -54.04799079204139,-23.669567049179932 L -54.05313730004633,-23.67821579422349 L -54.05479233859552,-23.682313287128466 L -54.05644737624539,-23.68641078003344 L -54.05716865411006,-23.691405363766478 L -54.058553647832525,-23.70099594810449 L -54.05661418519645,-23.706955377588542 L -54.05368710597514,-23.715949476686944 L -54.05542767095022,-23.728801571135534 L -54.059841559740164,-23.735536819668425 L -54.063532141794894,-23.738437593719937 L -54.06722272384957,-23.74133836867071 L -54.07660359887694,-23.75407730862088 L -54.07729355965,-23.755866486449122 L -54.085123379340416,-23.776170466793587 L -54.08717374996854,-23.78717752022635 L -54.08907894753537,-23.797405250851625 L -54.08922411789871,-23.798184573659114 L -54.08992145491118,-23.80478726931699 L -54.09190740979909,-23.823591155307554 L -54.09319650251655,-23.83579686383416 L -54.09337190359042,-23.837457635561407 L -54.09307141491382,-23.85199778986606 L -54.0929705289667,-23.856878508636214 L -54.092791238324935,-23.865552281812313 L -54.09083074864009,-23.869586042461833 L -54.090417162122264,-23.870437009760167 L -54.09000357470518,-23.871287977957763 L -54.08887025985456,-23.873619802212033 L -54.088764552641976,-23.874419385845954 L -54.087646461514964,-23.882876798325526 L -54.08743954639789,-23.884441935247082 L -54.08859457807728,-23.891206759784097 L -54.089497355318656,-23.896494180761806 L -54.09072124179181,-23.90624856312064 L -54.09463010549496,-23.91586471338576 L -54.098066685728895,-23.925265050641542 L -54.09977718996532,-23.92994392197437 L -54.0990900782445,-23.942263986493742 L -54.0990707401225,-23.9426107030215 L -54.099010116823365,-23.943697718075157 L -54.099293398771295,-23.9455073617753 L -54.100441637871256,-23.9528424823946 L -54.100718077777,-23.954608419942588 L -54.103037083994195,-23.95975944074553 L -54.104647267957034,-23.963336016643837 L -54.109862507548655,-23.968311429528796 L -54.1143732182494,-23.97013092170465 L -54.11791642570245,-23.971560151279903 L -54.12439297345691,-23.97389292521825 L -54.13006334374825,-23.98020794843802 L -54.13578948999293,-23.983859743632195 L -54.162962241214416,-23.993128513669944 L -54.17151527231192,-23.995186363959476 L -54.18970279444835,-24.00263021081554 L -54.196156439168305,-24.007067044908126 L -54.2020050523912,-24.010092156527776 L -54.205030205379614,-24.013923975311172 L -54.208660380871834,-24.01674741845858 L -54.2139039769869,-24.022999333552377 L -54.216727468697684,-24.031066333244667 L -54.221164358548265,-24.03671322493534 L -54.22640794477081,-24.040343363555337 L -54.2308448193329,-24.04115005093405 L -54.233264937227034,-24.042965121143368 L -54.24052528011754,-24.04558687783208 L -54.243348747546634,-24.046998594909155 L -54.24496216097492,-24.04881366781649 L -54.24859233646714,-24.051233758730916 L -54.25383592179031,-24.054057197381724 L -54.29065293158749,-24.041764793310506 L -54.29107554729865,-24.041419853843138 L -54.29087233918705,-24.040319113336352 L -54.29019917505184,-24.039701434673418 L -54.289396164101674,-24.038348227488655 L -54.287285436373736,-24.031446021616546 L -54.28748214418556,-24.030483807281826 L -54.28790319507635,-24.02894538741964 L -54.288697413354896,-24.027682203271013 L -54.28844420383689,-24.02609933711466 L -54.28799272258601,-24.02511393466034 L -54.28634437948949,-24.02389987507911 L -54.28644166185319,-24.023074794765932 L -54.287687400053414,-24.022314948575968 L -54.289306037643485,-24.021188452385104 L -54.29069976288372,-24.020314944479082 L -54.29239513602664,-24.020358959098644 L -54.29391941225106,-24.021801694692385 L -54.2953930350605,-24.022876927727964 L -54.29654160960757,-24.023242713480386 L -54.29873357669317,-24.022665956668504 L -54.2998503584073,-24.020163926723797 L -54.30129083400476,-24.017775464066347 L -54.30397992113643,-24.016326059999642 L -54.30624380880471,-24.01446411982323 L -54.30868483054047,-24.0132897904914 L -54.310252250840676,-24.011934602999474 L -54.31236731869677,-24.010346904785763 L -54.312788482902135,-24.00926884338236 L -54.312829115171496,-24.005873435010983 L -54.31324851400768,-24.00408306558097 L -54.314591892501824,-24.003071168199824 L -54.32703289874922,-24.000462036193994 L -54.32748323156585,-24.00036759119132 L -54.34420881128756,-23.991727444565868 L -54.355752525258765,-23.985764162386147 L -54.36758220115763,-23.97965315486914 L -54.38026699922261,-23.969095702204868 L -54.38294822538023,-23.966755652751146 L -54.388972992409606,-23.96149751549791 L -54.39560440881638,-23.955709923074437 L -54.4072187231655,-23.960672095240966 L -54.41010613149274,-23.945901551715167 L -54.41066647207998,-23.94303512726924 L -54.41925927389633,-23.928346672061195 L -54.41929985220639,-23.928222723000204 L -54.42075567653319,-23.92371169753676 L -54.4250576150169,-23.9103816754739 L -54.43077249455496,-23.901991475626062 L -54.43223779953479,-23.899840211856258 L -54.45312207732195,-23.89428348259662 L -54.474442778111666,-23.886527130322747 L -54.49572482154326,-23.880971997359723 L -54.52134495350674,-23.88980469962712 L -54.541837565750996,-23.88349708951904 L -54.5788102383018,-23.871549863235543 L -54.58728913108848,-23.854775194019965 L -54.6048914787587,-23.853559979709246 L -54.62706550127183,-23.841755544182945 L -54.645869095882006,-23.84018662561226 L -54.66428619065516,-23.825752838622577 L -54.6743126889794,-23.810373682499403 L -54.68377098754098,-23.83116767824572 L -54.68626334437778,-23.83626244195807 L -54.69227508562665,-23.84855137194819 L -54.702700449466136,-23.870736485800137 L -54.737415810191465,-23.873783455442094 L -54.739671893543004,-23.87426008983124 L -54.75885236794238,-23.87016666725782 L -54.765947383065225,-23.872337696327577 L -54.77894188965644,-23.876313932741766 L -54.80487293433839,-23.88765078915253 L -54.840818606293624,-23.902080084927945 L -54.8434219043973,-23.904341333085995 L -54.855413086844464,-23.91475698154943 L -54.87425719951011,-23.910958338756302 L -54.91625906890084,-23.92214162693449 L -54.919660789613715,-23.935407727884296 L -54.91817905222143,-23.954489025048417 L -54.94334743043953,-23.95590415325404 L -54.94677957341855,-23.959025450963736 L -54.9597240336372,-23.970797536077384 L -54.99377595819385,-23.966437337712932 L -54.99662933617486,-23.96725786116133 L -55.02070242647574,-23.97418036293334 L -55.02842330679016,-23.976400592113578 L -55.033868043475366,-23.97672384622848 L -55.06698109380238,-23.97868976691916 L -55.098431136687566,-23.959584574768257 L -55.117376620934294,-23.963105504215605 L -55.119389893628636,-23.966168526756064 L -55.12443046239588,-23.97383732373345 L -55.13725861329431,-23.97140975405688 L -55.16433021236935,-23.980525749064043 L -55.19499753570767,-23.974617597124336 L -55.19597925004234,-23.975782303710275 L -55.204057816814725,-23.985366722296362 L -55.25080349308672,-23.988802586669976 L -55.259976652600415,-23.982923794897147 L -55.262187811218496,-23.98150673224984 L -55.30380237587889,-23.954826199769286 L -55.306745490012304,-23.956174036202754 L -55.316924229169786,-23.960835642350958 L -55.32018188928271,-23.972621801854643 L -55.33002935776858,-23.98520877256675 L -55.345975442912334,-23.98940813078059 L -55.35057000999791,-23.988351374316437 L -55.36281723662614,-23.985534498917957 L -55.38370239664823,-23.977658324571962 L -55.39888500863617,-23.968067611630943 L -55.402028110408935,-23.966082143276253 L -55.417740798998636,-23.955581173432336 L -55.42029178983421,-23.942015214230707 L -55.43116275785496,-23.935139686747107 L -55.44097224797082,-23.915765188112914 L -55.438787927820556,-23.90372311572918 L -55.43256313807831,-23.86940608452312 L -55.432379913801924,-23.86839598218876 L -55.43234986475443,-23.868230323470584 L -55.43306935476687,-23.859079052556183 L -55.434404277835085,-23.84210003578795 L -55.43480595642973,-23.83699102141844 L -55.434791805597285,-23.825430983852755 L -55.434764424838306,-23.80306174640242 L -55.43460514411208,-23.80271236518348 L -55.42910551820506,-23.790648964478066 L -55.42901523706348,-23.78946904945701 L -55.427811170748896,-23.77373277614663 L -55.434988051157575,-23.755964072783684 L -55.43859471387492,-23.747034604363478 L -55.43878194912759,-23.746571043418896 L -55.44039615665724,-23.73687980695746 L -55.4412216335715,-23.73192388238124 L -55.44132117143488,-23.731326288277558 L -55.440744914646075,-23.73028038573119 L -55.43377079718448,-23.717622363181476 L -55.44978451314472,-23.716136742516596 L -55.46241616037747,-23.706009985072683 L -55.46592264221613,-23.703198848248178 L -55.45839525463725,-23.68731484510397 L -55.47121905821291,-23.679253090257873 L -55.47203018824257,-23.66337160611471 L -55.47272237663634,-23.649818924503734 L -55.50069351359474,-23.636986541395743 L -55.51450725940248,-23.61856835124837 L -55.530492784314504,-23.618710651875062 L -55.530605973886566,-23.607854968731772 L -55.53071452205751,-23.597444342082667 L -55.527942125328764,-23.57942318193426 L -55.52721425543348,-23.564146595289117 L -55.53012347142101,-23.556124174091337 L -55.533032687408536,-23.54810175199424 L -55.53682526697247,-23.537640566359016 L -55.54061784743567,-23.527179379824474 L -55.5461165479403,-23.510321039484325 L -55.54449358820847,-23.49558141734849 L -55.538532428428766,-23.476012694829933 L -55.52733471242698,-23.439253909840033 L -55.522044481067894,-23.431404131495412 L -55.51365255991766,-23.418951987144453 L -55.49565052295321,-23.388246250164286 L -55.497592235693105,-23.372445731984897 L -55.508982338264275,-23.357276679075426 L -55.51564891366638,-23.341519072047504 L -55.5279497947472,-23.323629632901202 L -55.531982173138715,-23.320258743646036 L -55.54344543286038,-23.31067596452408 L -55.53932107540726,-23.296171331641574 L -55.53831445974447,-23.29263124303742 L -55.535601720443026,-23.269425026343868 L -55.53349747772637,-23.251424226846552 L -55.532888980242205,-23.246218809650316 L -55.54017256970826,-23.2271922488232 L -55.52764942208313,-23.210717326343513 L -55.52074272949335,-23.193746166052676 L -55.53684294854321,-23.17807055830957 L -55.53406767308462,-23.161135274673143 L -55.551203968688185,-23.151634032584468 L -55.552466993656765,-23.15093374669499 L -55.555878326323636,-23.14978491044519 L -55.566679042004125,-23.146147547571218 L -55.57932120590891,-23.147661253164244 L -55.5814142340796,-23.147911861842886 L -55.596181318812796,-23.14640060870107 L -55.59680473065373,-23.130179876000454 L -55.59697770715542,-23.125679165760857 L -55.59702556637677,-23.1249525378293 L -55.59801904923967,-23.109868759535573 L -55.60528148395326,-23.09138350604394 L -55.60555048017051,-23.089476523322844 L -55.607817841919825,-23.073402621133994 L -55.60271957444877,-23.052085233446746 L -55.61348863039592,-23.036356181692383 L -55.62599760740363,-23.023368229360244 L -55.63727702861195,-22.984729399042465 L -55.636876950810574,-22.965087439333786 L -55.65414833717597,-22.946135788435868 L -55.654918618199645,-22.927047713081436 L -55.65906844355379,-22.8932582259863 L -55.67037202414957,-22.881347504983296 L -55.66226548216622,-22.866552198625016 L -55.67653189453125,-22.8524828690891 L -55.643188589881504,-22.767650625376007 L -55.621258557036754,-22.75328291247638 L -55.61264239533023,-22.70027873537532 L -55.61237781388496,-22.69865110456476 L -55.624119402088695,-22.640371431496305 L -55.641106183603426,-22.616505850764383 L -55.64445595228034,-22.614018258535737 L -55.64805637010534,-22.611344532723933 L -55.65158288164463,-22.60872568983865 L -55.65395578962796,-22.606963530342625 L -55.65753486474216,-22.604305653283234 L -55.66158700123907,-22.60129647225432 L -55.673614349922275,-22.59236477441476 L -55.678093744430726,-22.589038305373435 L -55.69852324135445,-22.573867038333105 L -55.7228585065148,-22.547323666853686 L -55.73875930809555,-22.52086752061956 L -55.750264017570316,-22.50936625644755 L -55.75175540378882,-22.50603408930175 L -55.753246788208685,-22.50270192125663 L -55.7524235416131,-22.490616134626862 L -55.75263206381862,-22.48457837778983 L -55.75331216262617,-22.482095326238266 L -55.755029897411816,-22.47582385268862 L -55.75382169511511,-22.472506879588764 L -55.75031585539239,-22.466440925408335 L -55.74604390030572,-22.461104323205916 L -55.74407376269397,-22.45997507868691 L -55.742103625082166,-22.458845835966486 L -55.74080667948465,-22.456272380965572 L -55.74147843618084,-22.45476315399634 L -55.742150191977714,-22.45325392702705 L -55.74362256383023,-22.449942875962904 L -55.74305456461644,-22.446261240363924 L -55.740337244168416,-22.440047484403863 L -55.74143192144595,-22.42121673926107 L -55.74257267279057,-22.414610611790238 L -55.747014952278164,-22.40198928158003 L -55.74986331024354,-22.388496645004125 L -55.76545334119868,-22.389939675575533 L -55.77187585318802,-22.390534149931057 L -55.7845540709136,-22.385643014313587 L -55.79823398590969,-22.384291041897995 L -55.807147443699535,-22.369619439085795 L -55.8081500133124,-22.36535226029855 L -55.80915258382464,-22.36108508151125 L -55.815988548332825,-22.35303539376838 L -55.834358920627665,-22.312022612253713 L -55.83450303788487,-22.294427004102886 L -55.848456668740255,-22.279934039923944 L -55.94140604845035,-22.274980226955847 L -55.948991093364214,-22.286978549120704 L -55.95132193286088,-22.287813447332667 L -55.954966796080726,-22.289119024623233 L -55.95592292020655,-22.289097279915495 L -55.96581155515912,-22.28887239004871 L -55.96979604824901,-22.288781776157975 L -55.97258102379516,-22.28815241350304 L -55.975365998442044,-22.28752305174737 L -55.97939884807835,-22.28524830746335 L -55.9848260641715,-22.280857662551057 L -55.985922209142586,-22.279970876154948 L -55.98777803123113,-22.279622788161078 L -55.98963385331962,-22.279274700167207 L -55.992099552452316,-22.279652087174043 L -55.99256671158446,-22.279723588672653 L -55.99461211255891,-22.280981220406943 L -55.999178922968895,-22.283789164638165 L -56.00107168111316,-22.290241327275396 L -56.00129094751918,-22.2909887790089 L -56.00280256758441,-22.292618322677413 L -56.00343643314483,-22.29330163746056 L -56.00466955205815,-22.29366862380789 L -56.005902671870786,-22.29403561105454 L -56.00775761981828,-22.29390229105786 L -56.009808467087055,-22.292773792076787 L -56.01410809701105,-22.290407876322377 L -56.01628455258998,-22.28921025994549 L -56.02069516245177,-22.287942998270694 L -56.02442555209751,-22.28687117996094 L -56.02510577141419,-22.286675738394592 L -56.038087558893665,-22.28560232288885 L -56.051714205246356,-22.280219189763727 L -56.05234247702367,-22.280060693246355 L -56.05728404482278,-22.278814066515906 L -56.058904882154536,-22.278966975545416 L -56.06052571948635,-22.279119884574982 L -56.06296178415897,-22.280397865269208 L -56.064681034302225,-22.28129979714788 L -56.068242657172846,-22.28671099541606 L -56.069533168121154,-22.28633259397401 L -56.07203113672756,-22.28630266543564 L -56.08300514637034,-22.286171184552472 L -56.08441900203525,-22.286154244922443 L -56.09211092417979,-22.28476676727246 L -56.09678932426783,-22.283922871343407 L -56.101431966412065,-22.28251115606497 L -56.10299158599287,-22.281700321012977 L -56.109868295185606,-22.278125166942857 L -56.11429238858284,-22.27582511213916 L -56.116691535186135,-22.27497579689549 L -56.11909068268881,-22.274126481651763 L -56.12217887095807,-22.274143009392333 L -56.125105768516335,-22.275452161488033 L -56.12567330278068,-22.27607556073849 L -56.129689380960144,-22.280486964701595 L -56.13154883271244,-22.282529452771996 L -56.13632282713672,-22.284998066607443 L -56.138756140783244,-22.285237257493407 L -56.142496219724705,-22.285604900345845 L -56.15486899260986,-22.28279466823932 L -56.17029106078377,-22.28661024526656 L -56.171064497528505,-22.286470521197543 L -56.171837935172505,-22.28633079622921 L -56.17385436808456,-22.28483150676857 L -56.1758708000973,-22.28333221550929 L -56.17757394877867,-22.282622156687125 L -56.179277097460044,-22.28191209876428 L -56.179883959077415,-22.281830524858776 L -56.18236793783001,-22.281496628166792 L -56.18699651907406,-22.282381350618778 L -56.18947006029498,-22.281962691025342 L -56.192277517093714,-22.27708961469392 L -56.1943135120589,-22.276060177834893 L -56.19537568963631,-22.275523120695425 L -56.198002592245814,-22.27524871055948 L -56.20590753410539,-22.277967960952594 L -56.20648062977722,-22.278165102237608 L -56.21018875400773,-22.277894810996713 L -56.212818850109784,-22.277045676516707 L -56.21638844007441,-22.27390025359381 L -56.221282711627794,-22.268162624805257 L -56.223226976643616,-22.26588333354897 L -56.224009858967804,-22.265373448525793 L -56.229581826340166,-22.2617444763265 L -56.230978854790294,-22.260385660070085 L -56.232375883240366,-22.259026845612368 L -56.2340988628722,-22.254435223806468 L -56.233504910123486,-22.25012094392639 L -56.233581876802134,-22.249277756663105 L -56.23416072183983,-22.24293633834128 L -56.234475695896606,-22.24242364023877 L -56.236186028362454,-22.239639637759012 L -56.239436201619355,-22.238073917177474 L -56.24314321518722,-22.23780378421725 L -56.253136120235695,-22.23984481808384 L -56.256099363894464,-22.24045005552557 L -56.26165645827888,-22.240618753052956 L -56.26908159114248,-22.23792033635442 L -56.27866598994342,-22.23566286444958 L -56.28044555311976,-22.234880260915247 L -56.28222511539673,-22.234097655582275 L -56.28786788369581,-22.22898292871912 L -56.30005958528159,-22.217932107081026 L -56.30469194187958,-22.21655858241263 L -56.305315759314794,-22.21637361704876 L -56.309282432338364,-22.21645179241625 L -56.314577877067336,-22.216556156941067 L -56.31892441383059,-22.21589995491894 L -56.320138911381605,-22.215716602039492 L -56.32338995518222,-22.2138610650361 L -56.32618157132242,-22.21128544266901 L -56.328210243108174,-22.208541681253564 L -56.33418164526665,-22.200465407752347 L -56.34218171921094,-22.189645373734947 L -56.34276732984836,-22.188684902286354 L -56.34448135043391,-22.185873705207257 L -56.346780981656934,-22.182102037578943 L -56.347617510339774,-22.180730507606768 L -56.35196400663358,-22.176604182437018 L -56.35356520457049,-22.175750980323414 L -56.358926001233954,-22.172894467305753 L -56.36450623157731,-22.167310138751873 L -56.36669761500286,-22.160419022419887 L -56.367410699144386,-22.15918589721133 L -56.371673624138396,-22.151814101339653 L -56.371870099925104,-22.150227342917503 L -56.37231411950097,-22.14664139788215 L -56.37063910700914,-22.141460732726614 L -56.37026512573493,-22.138871716756285 L -56.36989114446072,-22.136282701685275 L -56.37057545299473,-22.132958939603327 L -56.37083741021826,-22.131686585067825 L -56.373015587099644,-22.12738242885598 L -56.37568953324535,-22.124350723407133 L -56.376426881095654,-22.123514722626282 L -56.378149851734236,-22.117484306955134 L -56.381863442943484,-22.11491029347519 L -56.38157200144667,-22.111028487674503 L -56.38004029232559,-22.108579197571885 L -56.380361062512975,-22.10570510460684 L -56.382372936761556,-22.104275488323083 L -56.38823189488602,-22.10472832125498 L -56.3894689789102,-22.104014324301602 L -56.39070606203512,-22.103300325549526 L -56.391560866740576,-22.101866292695206 L -56.39241567144603,-22.100432260740206 L -56.39177408970244,-22.096964781599354 L -56.391510813173454,-22.0955418805533 L -56.390592499244406,-22.09381310658955 L -56.39044576046342,-22.092087646627533 L -56.3902990198838,-22.090362186665516 L -56.392021972535986,-22.084331597425262 L -56.392711324467996,-22.07904874050695 L -56.392721334821715,-22.078973800000824 L -56.39673409450279,-22.079228430447642 L -56.39798081296408,-22.079307541110097 L -56.39988948011535,-22.080324335299792 L -56.40344276177399,-22.082217256221327 L -56.40544777959133,-22.082296337206174 L -56.40745279740861,-22.082375416392324 L -56.4120836323537,-22.081242128521353 L -56.41730924382648,-22.08586054382897 L -56.42471755936782,-22.084593110383707 L -56.42660654575542,-22.08495186523635 L -56.42779936514853,-22.085178404459725 L -56.43087814740852,-22.086769944577213 L -56.434425891042,-22.086710358196456 L -56.43797363557479,-22.086650770017002 L -56.43981878810655,-22.088094722393464 L -56.44166394153763,-22.089538676568623 L -56.443824753409615,-22.088970591019915 L -56.44599321491489,-22.08667894397803 L -56.44678928939413,-22.080356491458872 L -56.44733136475065,-22.07978334452571 L -56.447873441006436,-22.079210198491808 L -56.449263005083594,-22.078783075378567 L -56.450110220410295,-22.079001811184582 L -56.45095743753569,-22.079220546990598 L -56.45187860231562,-22.080373571383177 L -56.45294395809714,-22.084114215098907 L -56.455250507804635,-22.085702720004463 L -56.46451079903409,-22.084152368836726 L -56.466050435678994,-22.08480416508013 L -56.46759007232396,-22.085455961323532 L -56.46958634423436,-22.087905940306882 L -56.47218796420316,-22.093376775317893 L -56.47449637820523,-22.094821383300143 L -56.48204936858343,-22.096138965640705 L -56.49058365331291,-22.095572872989635 L -56.49690488005615,-22.095153575776862 L -56.498546334345804,-22.098347356145553 L -56.50594361610496,-22.100237877675852 L -56.50762507133993,-22.104555426591617 L -56.51100405359415,-22.108878019804706 L -56.51408035372532,-22.11161791863202 L -56.51808502580326,-22.113066920701783 L -56.519930829444206,-22.11479768486521 L -56.5206918726318,-22.117961554681983 L -56.52469056691609,-22.121566615706683 L -56.5249928830151,-22.123508287077755 L -56.52529520181207,-22.12544995844877 L -56.52249778774268,-22.131335139904763 L -56.5181604258629,-22.13664124070067 L -56.518309734906325,-22.138078868145215 L -56.51845904215105,-22.13951649469044 L -56.520769639707055,-22.140673186518313 L -56.52447118179958,-22.141114836380552 L -56.52485613300411,-22.141403659051605 L -56.52524108330931,-22.1416924817226 L -56.52646441580009,-22.144714921456398 L -56.535717463889796,-22.1463221664348 L -56.537255989871994,-22.14762006711237 L -56.538632023648915,-22.15179277121939 L -56.53801013346083,-22.153084578990104 L -56.53120230873952,-22.15881492057207 L -56.5316592039091,-22.16054156584056 L -56.533661868200625,-22.16169628995175 L -56.53803473171746,-22.162217909329 L -56.54476734703542,-22.163021011110743 L -56.549852416955446,-22.165623042969003 L -56.552182327452385,-22.16825536219517 L -56.55254327395289,-22.168663291077962 L -56.55290421955402,-22.169071219960813 L -56.5529523899408,-22.170573279333325 L -56.55306588168503,-22.174112177235145 L -56.55226166474398,-22.177664607235783 L -56.550561723944384,-22.185173686416476 L -56.55193166481445,-22.19121428960773 L -56.55318371985277,-22.193287190051763 L -56.55443577489103,-22.19536009049574 L -56.554622022688136,-22.19566772338669 L -56.558928786933905,-22.19965573282576 L -56.56023683915873,-22.20086697393168 L -56.56514960616937,-22.206742555124777 L -56.565959577872206,-22.20723519474842 L -56.56676955047436,-22.207727834372008 L -56.56761855095533,-22.207669549310197 L -56.56989387620138,-22.207512024060634 L -56.57446670577383,-22.205288238061712 L -56.57746932624838,-22.205855140102585 L -56.580106491921015,-22.20798559086228 L -56.586033982881986,-22.215905514527833 L -56.58889747553803,-22.218047227497493 L -56.5912123952358,-22.21834025809636 L -56.59225727974962,-22.217593671510713 L -56.59512425547996,-22.215545169673817 L -56.59632656631794,-22.21543611788246 L -56.59860174317589,-22.21846055680919 L -56.601133748423706,-22.2205768567365 L -56.60192063632826,-22.220871759723877 L -56.6046149853932,-22.22188152121521 L -56.605275478080785,-22.222129261056523 L -56.60593597166769,-22.222376999998517 L -56.60659264673325,-22.22383199784838 L -56.60724933618786,-22.2252869938996 L -56.60507921363478,-22.22800436201163 L -56.604454171322914,-22.2308771842346 L -56.60768798771045,-22.234047417654153 L -56.61216123265473,-22.235351574915228 L -56.617246441070336,-22.23895775919317 L -56.62032261439708,-22.24356362626031 L -56.623252474322214,-22.24486480766467 L -56.62526009118022,-22.24486939960309 L -56.63066908970666,-22.242869084340725 L -56.63483831253808,-22.24259115425832 L -56.63653502567087,-22.243313487027763 L -56.638231738803654,-22.244035820696524 L -56.64054137498442,-22.246627953717052 L -56.64084559225023,-22.24835393078922 L -56.63975758704299,-22.251513113339456 L -56.636505042273825,-22.255243817747953 L -56.635961583760036,-22.25639251640149 L -56.63541812524625,-22.25754121775293 L -56.6354142599601,-22.259050174925562 L -56.635410395573274,-22.26055913299757 L -56.637725417793774,-22.262645461218995 L -56.637833860744024,-22.26274325709562 L -56.64045333045681,-22.262597095679382 L -56.64168130075137,-22.26252857723199 L -56.64525715089678,-22.260802926613735 L -56.647217589320235,-22.25985684791516 L -56.64888650350929,-22.257781012083967 L -56.65055541679902,-22.25570517715215 L -56.651947146443604,-22.25484547653747 L -56.6602881974423,-22.25385665575999 L -56.66307347785869,-22.251706207675284 L -56.66770979057435,-22.249703993044818 L -56.67620635234124,-22.247995648080632 L -56.67914718219669,-22.24469532592849 L -56.67839459983088,-22.236357252585094 L -56.67875135549065,-22.23524685066161 L -56.68134832866241,-22.22716373421889 L -56.68387746147562,-22.22420396643986 L -56.684421211369795,-22.223567276108838 L -56.68861994545409,-22.220134589040015 L -56.69645492635374,-22.218814163942454 L -56.69861671668809,-22.21960041063039 L -56.69952119005086,-22.220387042228197 L -56.70173786870765,-22.222315128440357 L -56.70188851504287,-22.224040719703396 L -56.700649536147125,-22.225906506280182 L -56.6955498495459,-22.22876454364871 L -56.694003373556825,-22.22963124098891 L -56.693845529047906,-22.231068559066728 L -56.693687686337626,-22.23250587714449 L -56.69722931907779,-22.236968450733343 L -56.702627469082415,-22.23999625402388 L -56.703079508812266,-22.24517210151123 L -56.71186270340098,-22.253955199872507 L -56.71540342962453,-22.25942363639166 L -56.71601116178567,-22.26416791991352 L -56.71986912386092,-22.26546806889621 L -56.72373273457799,-22.26389383533217 L -56.72930317580091,-22.258297222938438 L -56.730286574565696,-22.255680299206404 L -56.730544783414985,-22.254993180290967 L -56.72977529109676,-22.253698385871758 L -56.72900579877853,-22.25240359145255 L -56.7290085345162,-22.250966442447293 L -56.73080385471411,-22.248634296235764 L -56.73132954622156,-22.247951414925808 L -56.73596843189756,-22.24443734101044 L -56.74060731847294,-22.24092326799439 L -56.743696129073044,-22.240209084881315 L -56.74667101985165,-22.240906349048714 L -56.74740114974321,-22.24107748014154 L -56.74847800875307,-22.243378943283574 L -56.748193448868506,-22.244198032313307 L -56.74708038585106,-22.247401917464458 L -56.74785100412049,-22.24840847826863 L -56.74908589020163,-22.248626253598673 L -56.75032077628276,-22.248844029828092 L -56.75387652028513,-22.246405959667243 L -56.756038692831396,-22.245977844601782 L -56.75820086627692,-22.245549726838362 L -56.7591263280176,-22.246269662015266 L -56.7600517906576,-22.246989595393472 L -56.764671162843854,-22.25490197824365 L -56.766982777533144,-22.25720507905112 L -56.76883428467448,-22.25814214834145 L -56.77068579181582,-22.259079217631722 L -56.7788812191929,-22.258702086032372 L -56.77979783070526,-22.258659905130457 L -56.78211666155465,-22.257082220867744 L -56.78227315528187,-22.255645275109316 L -56.77888111756948,-22.252191036686952 L -56.77795806331392,-22.250464485847317 L -56.77842215755646,-22.24967472191082 L -56.778886253597705,-22.248884957075063 L -56.78135767511657,-22.248312862348655 L -56.783826239489315,-22.249610560678775 L -56.78490776687988,-22.249252462331242 L -56.78598929516977,-22.248894363983652 L -56.78383715276237,-22.242422993626235 L -56.78473962873085,-22.24172773134967 L -56.788583980466285,-22.242403877636775 L -56.79074630769588,-22.243412926865062 L -56.80188831429422,-22.25265126474403 L -56.80234939310998,-22.253945348698835 L -56.80188151272159,-22.257539018910563 L -56.7998654287465,-22.263429706915417 L -56.80109459873671,-22.267887174153714 L -56.80325327651747,-22.270476820548765 L -56.80371363317761,-22.272345391426654 L -56.79937983261317,-22.279527694747287 L -56.80014598664792,-22.283409188483233 L -56.80238535879721,-22.28515979798624 L -56.80585478047368,-22.287871989600603 L -56.81589174510793,-22.289607930261752 L -56.81720334246023,-22.290543846621176 L -56.81851494071191,-22.291479763879977 L -56.82342672566284,-22.298295044880376 L -56.831630542815276,-22.302849021065413 L -56.833344163202526,-22.303025094832208 L -56.835057783589775,-22.303201166800363 L -56.83577895353585,-22.303275055998995 L -56.84105469681674,-22.30170851433644 L -56.85002348539547,-22.29222965637348 L -56.85774531359533,-22.292955543263645 L -56.85936785154507,-22.292381986239604 L -56.860990388595496,-22.291808427416925 L -56.86717581501182,-22.283045260730148 L -56.86934058929671,-22.281609853711757 L -56.87490136190826,-22.28017703584146 L -56.876600863838746,-22.279028425321542 L -56.87691146898908,-22.277878761695433 L -56.87598709003214,-22.275002872784285 L -56.87268998475497,-22.271806243363415 L -56.87212964146971,-22.271262975505863 L -56.87182354012424,-22.267382168851952 L -56.87599936128146,-22.260916848233933 L -56.876001176113334,-22.258832935591442 L -56.87600299094521,-22.25674902384833 L -56.87847061912373,-22.25236534328593 L -56.88064141796701,-22.249996672008763 L -56.88183763320018,-22.249321711927394 L -56.88496638718897,-22.24755632566388 L -56.88581544522657,-22.2475569156191 L -56.88666450416349,-22.247557505574378 L -56.89052421092356,-22.249284525860162 L -56.89499914029807,-22.25244990473925 L -56.89602137628543,-22.253529682049134 L -56.89962831599394,-22.257339654501436 L -56.90008838217307,-22.261365038865392 L -56.899670844034176,-22.262302625265875 L -56.89823281998861,-22.265531722011303 L -56.898386357644256,-22.266609903024573 L -56.898539893501265,-22.267688084937106 L -56.89931072221202,-22.268694833699556 L -56.902091195752064,-22.26869651363313 L -56.90703531222982,-22.26510606389371 L -56.91195389785406,-22.260024727958807 L -56.91259770631905,-22.25935961725247 L -56.914098105543076,-22.25835909359722 L -56.91559850386784,-22.257358570841348 L -56.91782841604851,-22.255871062499466 L -56.91854126726565,-22.2556303859335 L -56.92047328081719,-22.254978095962315 L -56.925462137667466,-22.254955141666414 L -56.93236417356769,-22.25793179331754 L -56.93395163076309,-22.25817849713991 L -56.93792335347996,-22.25879573513504 L -56.94162981126675,-22.257790776023455 L -56.94533626635558,-22.256785816911872 L -56.95012488825296,-22.252332260825142 L -56.95367878954448,-22.24529025893827 L -56.957694056535445,-22.241985254915562 L -56.96294349824382,-22.241842898530876 L -56.96572233951434,-22.24241800148951 L -56.96850097933668,-22.243999336999764 L -56.97128031523431,-22.244934290185313 L -56.97405965113194,-22.245869241572223 L -56.975777937202,-22.245647200757674 L -56.979617868769594,-22.24515099712079 L -56.985409503645656,-22.24309798608317 L -56.98610382343264,-22.24285186502152 L -56.98888306849875,-22.239690517803126 L -56.98872896157229,-22.23753432125187 L -56.98595846061443,-22.231120648698948 L -56.98636896065898,-22.230211056395092 L -56.98694490628236,-22.228933376973714 L -56.98752085190574,-22.227655696653017 L -56.98831492809143,-22.22725068067433 L -56.99124660284838,-22.22575538330426 L -56.99230412643425,-22.225751819290963 L -56.99336164912074,-22.22574825617704 L -56.99752960840465,-22.227903657727552 L -57.00061684519119,-22.228048203961407 L -57.00833666610424,-22.224310116118943 L -57.01111529153741,-22.224166324416274 L -57.01196427583062,-22.224884843160964 L -57.012813259224515,-22.22560336100628 L -57.01435714336742,-22.228478453118043 L -57.01605506518905,-22.22876554729214 L -57.02192177097294,-22.227184085876843 L -57.0268635860856,-22.22991404269885 L -57.03738544088537,-22.229177015906487 L -57.03921441011687,-22.22904890208514 L -57.044927448742726,-22.233216188676124 L -57.04508203950451,-22.23422242752298 L -57.04848019890204,-22.23795842803895 L -57.05064204949093,-22.238101400459243 L -57.052493588108575,-22.236089162884525 L -57.05202982121921,-22.233502247730485 L -57.052328307105654,-22.229899773155978 L -57.05268853954442,-22.229340512654517 L -57.053048772882505,-22.22878125125368 L -57.05358598740338,-22.228489496792804 L -57.05420212642696,-22.22815488064316 L -57.05535548177005,-22.22752851003264 L -57.055932636082275,-22.227214866972474 L -57.05943788405108,-22.226887542526015 L -57.06082759561701,-22.227748787276653 L -57.06129261795991,-22.23292364730844 L -57.062993247640236,-22.23680359780775 L -57.06639079909604,-22.238095791387593 L -57.06947797562805,-22.237520012138816 L -57.07256653711596,-22.237805928201 L -57.07344002253899,-22.23845592580028 L -57.075655211019125,-22.240104344439885 L -57.07874391909655,-22.240533768018906 L -57.08121293492894,-22.23981444078379 L -57.08244829315419,-22.240101075404255 L -57.08723831529596,-22.24584812369193 L -57.0894002351327,-22.245846960868505 L -57.09114194944135,-22.244255288550676 L -57.09294256125014,-22.24078921145292 L -57.09449139436231,-22.239663714408834 L -57.09526331485006,-22.239735079210504 L -57.09603523713645,-22.239806444012117 L -57.0993780117858,-22.244106887822568 L -57.1024440632429,-22.243843949438656 L -57.116104394602075,-22.23677464503379 L -57.11641273885675,-22.235337269399395 L -57.11623034195668,-22.23468849577739 L -57.11548345050079,-22.23203183100418 L -57.109457125845665,-22.22556829284241 L -57.11053648137346,-22.223698629288265 L -57.113623907916974,-22.22283386459111 L -57.11887512398772,-22.225848998232664 L -57.121345386280495,-22.225990816822673 L -57.13369326862943,-22.222962381308832 L -57.139868071354385,-22.22252636210186 L -57.14821022941851,-22.22769318399321 L -57.15315103818983,-22.228120431212858 L -57.15577438218196,-22.227111682358213 L -57.155463029695,-22.224524909297088 L -57.15623259935495,-22.222942490103776 L -57.15700454952031,-22.22265450290297 L -57.160865072864794,-22.223657050032784 L -57.16426800676305,-22.229115069704676 L -57.1667383733772,-22.229257108628588 L -57.168584409043206,-22.224080185552054 L -57.17167208110163,-22.224507865345686 L -57.1760018446094,-22.229821948524034 L -57.18495801300185,-22.230531137701803 L -57.18742709808208,-22.229665682325333 L -57.1885039193204,-22.227364633770776 L -57.188960815389294,-22.222189969791202 L -57.189884832818734,-22.22103899495363 L -57.19451250394883,-22.218158352226112 L -57.195435446688464,-22.215570183417185 L -57.195906129364346,-22.209344923329525 L -57.19692832038561,-22.208434972196187 L -57.19853860507254,-22.207001288278775 L -57.20081361825385,-22.20644117971665 L -57.203089881492815,-22.206772606870288 L -57.203868683592816,-22.20732898144729 L -57.204647482994915,-22.207885356024292 L -57.20670222702614,-22.213974697074548 L -57.20932915751456,-22.215840316377466 L -57.21148891268314,-22.214687637324573 L -57.21086476879401,-22.21051967084611 L -57.21287083072423,-22.209798951460414 L -57.21518927036851,-22.2116648774321 L -57.21751435690203,-22.217842249520174 L -57.21802127865902,-22.22249524196178 L -57.21892349922007,-22.230776632835273 L -57.22078214697848,-22.23494289959507 L -57.225108832106855,-22.236948686332767 L -57.23005042418771,-22.237517245824165 L -57.23747054692814,-22.243543467956613 L -57.24241314265237,-22.24396802710271 L -57.24735279849284,-22.24324163479355 L -57.24982071805164,-22.24180074370929 L -57.25351507725895,-22.235470145131046 L -57.254671703436316,-22.234965211775034 L -57.25582833141232,-22.23446027751976 L -57.26128792669641,-22.234943082157486 L -57.262458263038354,-22.235046902592444 L -57.26694451667606,-22.23386808744226 L -57.272489354200275,-22.227677659896017 L -57.2741873722494,-22.227243956443374 L -57.27604354327485,-22.22882163441085 L -57.27990111684301,-22.22780972623781 L -57.28236575657439,-22.225505689236115 L -57.28482244539947,-22.219750991315152 L -57.28624661808692,-22.218771135879194 L -57.28709529840927,-22.21818701991498 L -57.28724335379769,-22.21819028175605 L -57.291765833026716,-22.218289896961153 L -57.29408163136213,-22.216429468545073 L -57.29716711267207,-22.21570487937663 L -57.30458498890607,-22.219428279491467 L -57.3055167342099,-22.22187090202044 L -57.31247204774678,-22.22545117593097 L -57.31649150557848,-22.228461429851052 L -57.316815708478146,-22.235504787915602 L -57.318365194498085,-22.23765707961047 L -57.32083683365289,-22.2386585529498 L -57.32299928408963,-22.238510689116936 L -57.327162711689766,-22.236778039974524 L -57.32829290679217,-22.2355971554843 L -57.335019172896466,-22.22856921539693 L -57.33686349985061,-22.225258435928026 L -57.3390240761002,-22.224823111897024 L -57.346127731909235,-22.225958207405313 L -57.348289962911394,-22.225810011722615 L -57.34935443735736,-22.225447012969255 L -57.35847033883505,-22.222338375015966 L -57.35909643425299,-22.2259303670927 L -57.35754286800892,-22.22775753498223 L -57.35838302545619,-22.228313042612797 L -57.35922318290352,-22.228868551142682 L -57.36114005816711,-22.22875233715058 L -57.362934068952086,-22.22763370283309 L -57.36418766003243,-22.224625622574365 L -57.36649981431492,-22.223183315057895 L -57.3677335159889,-22.223036931509114 L -57.372071517286656,-22.228344938867792 L -57.37454185961906,-22.228771105102396 L -57.375389094730906,-22.228121948369164 L -57.37623632804406,-22.22747279253531 L -57.37638016561209,-22.223160972301002 L -57.37838383174841,-22.22215008216051 L -57.38007511837196,-22.219702726499577 L -57.38097990200083,-22.211220355135254 L -57.38189631386376,-22.208199361511276 L -57.38590466686685,-22.206033787729098 L -57.38836348078996,-22.202002833863673 L -57.38975021829788,-22.201137788578023 L -57.39129630577986,-22.202140401358406 L -57.39238207707115,-22.204005861481278 L -57.395781599840916,-22.204860366712524 L -57.39662871264494,-22.20442698881442 L -57.397475825448964,-22.20399361181569 L -57.400394150669456,-22.198955974838327 L -57.40224301020669,-22.19758563736724 L -57.4040918688446,-22.196215298097457 L -57.41488831904064,-22.19331403301618 L -57.417358250382904,-22.193595461461314 L -57.419828180825846,-22.193876889906505 L -57.421221140743,-22.19487871128348 L -57.423239043147305,-22.198898689822613 L -57.42424445731581,-22.199542864311695 L -57.42524987148437,-22.200187038800777 L -57.42648342207224,-22.1997520574115 L -57.42755874324138,-22.198312089031617 L -57.427666461338106,-22.19445104587902 L -57.42933819400241,-22.192663539890418 L -57.43242707744764,-22.193134191989316 L -57.43580905444429,-22.193649175269172 L -57.43772408250038,-22.19342096240746 L -57.43891760516328,-22.19230398913777 L -57.44049653768502,-22.188791286688513 L -57.442189040192034,-22.18720593570532 L -57.44503215421048,-22.185713196007157 L -57.44604211894858,-22.18518292695046 L -57.44804152319767,-22.1834521501965 L -57.45097186695807,-22.18229420561306 L -57.452668228455934,-22.182289538131613 L -57.4549875233555,-22.183577581340273 L -57.45438252783134,-22.187603530478498 L -57.45681772106093,-22.18840253225102 L -57.458133854593655,-22.187770157766522 L -57.45872487645187,-22.185762242333567 L -57.46023521408381,-22.183706583691844 L -57.459307553500764,-22.18327739663448 L -57.46131197326889,-22.182553641137588 L -57.466109686412835,-22.1865643683509 L -57.47134560501564,-22.183099657323282 L -57.47412343904546,-22.18280440449962 L -57.47968971640722,-22.18595075102627 L -57.48663487749758,-22.185785785685425 L -57.490330636949295,-22.183618573338435 L -57.49292022488845,-22.179665130241517 L -57.49345851499845,-22.17938483853942 L -57.49399680420913,-22.179104548635962 L -57.49507240596671,-22.17854396163449 L -57.50235498909143,-22.17955794814077 L -57.50744626343425,-22.17882415531045 L -57.50950216759094,-22.17672569073801 L -57.51155807174757,-22.174627226165512 L -57.51312396859623,-22.171546537342806 L -57.51690987429123,-22.169951877477104 L -57.519139383575634,-22.169012786510848 L -57.524076608548626,-22.168709847181674 L -57.52920320646274,-22.170830658108343 L -57.53029789992809,-22.171283299484628 L -57.531392593393434,-22.171735939961593 L -57.53675884984102,-22.176142944441267 L -57.540467108969835,-22.177280706439433 L -57.54122744708894,-22.177322495236922 L -57.547876619710166,-22.177687938347617 L -57.55527944399108,-22.17636861312093 L -57.56282668500347,-22.17260588295511 L -57.56822637734541,-22.172012772871142 L -57.57200760566644,-22.1708998492486 L -57.58256088997308,-22.167793713209278 L -57.58410009943998,-22.166638316405113 L -57.58732240630394,-22.162315264537767 L -57.588215293700785,-22.15426255597214 L -57.58692206140398,-22.14928635348241 L -57.58664762248975,-22.148230346153525 L -57.58307392622066,-22.142206157388216 L -57.58290858316457,-22.139475990124822 L -57.584290577648005,-22.13788935311112 L -57.5869151204364,-22.138311779964624 L -57.588386325868214,-22.139671884050188 L -57.58985753129997,-22.141031989035014 L -57.590937688123745,-22.141028103064457 L -57.593090221736304,-22.13915135914789 L -57.59337580774729,-22.133687911168124 L -57.59584072896644,-22.132817209146822 L -57.59832010229087,-22.135395319038707 L -57.60109674112164,-22.13509791683532 L -57.60201382387885,-22.133225572402182 L -57.59890751606895,-22.12820630497697 L -57.599363330253425,-22.12662291271721 L -57.60290448365498,-22.124885490872657 L -57.603132060696,-22.124022426793545 L -57.60335963773707,-22.123159364513015 L -57.60257125785722,-22.118993396328108 L -57.606575221269395,-22.117396918932627 L -57.61059449563942,-22.119394634254945 L -57.61166831943734,-22.117953439199823 L -57.60994284148893,-22.11120385457417 L -57.61331167309521,-22.105585226776725 L -57.61376109849584,-22.10381166027986 L -57.61421052389653,-22.102038095581577 L -57.6143496840906,-22.101488801367054 L -57.614488842486026,-22.100939505353836 L -57.6142393264837,-22.098599905561173 L -57.611094931485866,-22.0920823550166 L -57.61185934173517,-22.09064139918121 L -57.613530596859505,-22.08956109666724 L -57.615325683233664,-22.08955437513424 L -57.61558783111349,-22.089656372643447 L -57.617603452837045,-22.090437408659454 L -57.62406173536078,-22.09461979936418 L -57.63024406541126,-22.097471482123183 L -57.631607556343624,-22.097715547334587 L -57.63888878418999,-22.099018888011244 L -57.64613842424882,-22.09899050450815 L -57.6496953553563,-22.100989087676226 L -57.65278310745441,-22.101695888254596 L -57.65832589452435,-22.0993738612147 L -57.66372011539096,-22.100157907261575 L -57.663996865562865,-22.1000533556778 L -57.664273614835395,-22.09994880409397 L -57.66491517049866,-22.099706822611722 L -57.66765399013951,-22.096686697732878 L -57.674196285530115,-22.095715966818375 L -57.67804125779776,-22.09340023593211 L -57.68802641069027,-22.08502088820336 L -57.69219052087578,-22.084859744981202 L -57.69651408265872,-22.08599139788464 L -57.70190613076329,-22.084818475092504 L -57.703221995398735,-22.085819152531826 L -57.70453785823554,-22.086819829971148 L -57.70469978926383,-22.08840087679897 L -57.703018472524434,-22.09142613320944 L -57.702725127162864,-22.094446337228646 L -57.70566670795216,-22.096733605471456 L -57.7078643425653,-22.09702334814898 L -57.711995795669395,-22.0975680486265 L -57.71292497340875,-22.098354883471075 L -57.71385415204742,-22.099141716516954 L -57.71479067724789,-22.10129390029323 L -57.71450019173045,-22.105032258831613 L -57.71527902530676,-22.10646607045277 L -57.71636180815091,-22.107036771229957 L -57.71724256908925,-22.10710123283559 L -57.720065342241696,-22.10730782419671 L -57.722066391350836,-22.106579979482433 L -57.725270956389465,-22.099667082469807 L -57.72787905597363,-22.096923848956408 L -57.730653933032556,-22.096479723260586 L -57.734059857176646,-22.099052580212344 L -57.73748621391758,-22.105362371176454 L -57.738744069583106,-22.109956493097627 L -57.73783614552167,-22.113409504844753 L -57.735075275403574,-22.11644083347761 L -57.73493151157993,-22.11845410257473 L -57.73710634208396,-22.12131875625556 L -57.73759631611705,-22.126635372824126 L -57.74317392583595,-22.131066348732986 L -57.7451827064167,-22.131775390421865 L -57.74734211624565,-22.131621942698473 L -57.75399849333576,-22.12970604679657 L -57.75596882430176,-22.129138928019074 L -57.763223823420674,-22.12982440657106 L -57.76629652716298,-22.127510208129536 L -57.76798254016205,-22.12534607326262 L -57.77120999654409,-22.12317468536338 L -57.7762955107292,-22.122000768820385 L -57.77733759025756,-22.122065109017512 L -57.78061613982294,-22.12226753741686 L -57.78448621126961,-22.12469260338088 L -57.78835164581176,-22.126255820249867 L -57.79005626308606,-22.127684827692576 L -57.79147752736594,-22.133427692334067 L -57.79380051488181,-22.1351418397241 L -57.79659682368441,-22.138433585941186 L -57.7975477326417,-22.14288510146622 L -57.800488606563874,-22.14459615069177 L -57.80156959166328,-22.144734501495975 L -57.80265057856133,-22.14487285319956 L -57.8048068749373,-22.1441432449148 L -57.80634046094349,-22.142698518222005 L -57.80723876405767,-22.137807080432367 L -57.80938349605145,-22.135064841569147 L -57.810782395091394,-22.134683501142604 L -57.81218129413139,-22.134302159816798 L -57.815479560433346,-22.133403251458844 L -57.81750315824411,-22.131386883297978 L -57.819634411199104,-22.12736364651505 L -57.82194824811313,-22.120054035165538 L -57.822621056116816,-22.119394273626767 L -57.8246195700371,-22.117434514191416 L -57.82748817623832,-22.116751607700508 L -57.83299594280845,-22.116946872100414 L -57.841698772180564,-22.12052846171906 L -57.844942971241096,-22.121302179951613 L -57.84818716850299,-22.122075899083427 L -57.85454095610021,-22.12281710142804 L -57.85802208605037,-22.124359001666562 L -57.85910591930269,-22.125468049211065 L -57.859474722280595,-22.127138191873996 L -57.85856872996288,-22.12964065529195 L -57.86119913992832,-22.13092045081811 L -57.86366411330812,-22.130332978584022 L -57.867961608241615,-22.12657230966431 L -57.86795723393914,-22.125854180326144 L -57.87103869258158,-22.125262432715033 L -57.882148970198784,-22.125634891437073 L -57.88276383218505,-22.125272057259565 L -57.88337869327205,-22.124909223082113 L -57.88781711916465,-22.11913553597617 L -57.890436819103854,-22.118690452502335 L -57.89785241016057,-22.120374526563126 L -57.9024824761853,-22.120636394753774 L -57.911453157836945,-22.117884037618182 L -57.91408476390069,-22.117647180472943 L -57.922835003732416,-22.11894238318439 L -57.92582049841724,-22.117962611385337 L -57.92688693158658,-22.11617340118147 L -57.92566505869547,-22.112390787904474 L -57.923251828708885,-22.109506466949824 L -57.9227541780628,-22.106610447614003 L -57.92382345758648,-22.105267487304673 L -57.92513768275779,-22.104925842053945 L -57.9264519097278,-22.104584197702536 L -57.926909107069605,-22.104976375858996 L -57.93135923853799,-22.10135769100458 L -57.932514135319025,-22.097414368877992 L -57.933486426557295,-22.094093328144538 L -57.93370119635307,-22.093359742158327 L -57.93264573940928,-22.085825538617655 L -57.936634681445355,-22.082641115694912 L -57.937073421101445,-22.081706359460895 L -57.93785145877774,-22.08004608415939 L -57.93946766100373,-22.079533667544695 L -57.941083862330345,-22.07902125092994 L -57.94124081471176,-22.079452150296447 L -57.942938815673756,-22.079586032369434 L -57.94542447166202,-22.082446172352945 L -57.94712299513009,-22.082652267288267 L -57.94882151949747,-22.08285836312291 L -57.950972284143575,-22.08169595520411 L -57.952194555434346,-22.079963477832166 L -57.955272753135034,-22.078939259739002 L -57.956254248035066,-22.078876377342908 L -57.96020591047437,-22.078623201099788 L -57.963442712611084,-22.079424466465923 L -57.97081165133659,-22.083110043793454 L -57.97488880157687,-22.084312615434783 L -57.981439513722535,-22.084236529192424 L -57.98418407913192,-22.078706969351117 L -57.98029196080529,-22.069164727170403 L -57.98522849509891,-22.055791796654034 L -57.99275718309747,-22.040187475471555 L -57.99382874779843,-22.03796649535741 L -57.99277594385467,-22.025923049708922 L -57.98361839926969,-22.016333149754985 L -57.983337894428246,-22.016039400597833 L -57.977893200011124,-22.013068360716204 L -57.97296219834675,-22.01037762872454 L -57.970345684705535,-22.003705231111496 L -57.96671617201366,-21.99444957139059 L -57.966699766580916,-21.994211558616485 L -57.96631667877165,-21.988653656640906 L -57.96542935637967,-21.97578024915913 L -57.965347972231086,-21.975484612324976 L -57.962448795375565,-21.964952956713546 L -57.95737269169632,-21.957617231749794 L -57.95331429321999,-21.9517522400738 L -57.94966601077772,-21.94278984387614 L -57.947075082848755,-21.936424955047585 L -57.94378707421407,-21.927847224070092 L -57.93866847936681,-21.914493878989276 L -57.93705135263775,-21.910275134090114 L -57.93830706521885,-21.904845060850846 L -57.938844491979694,-21.90431339065043 L -57.94343157400789,-21.89977543408895 L -57.9450450198118,-21.898179266959573 L -57.948242111484205,-21.89334134872422 L -57.94562878054376,-21.888837819109995 L -57.943958955341486,-21.887607091494033 L -57.93913926366605,-21.88405478470048 L -57.932630505793156,-21.876259783162425 L -57.93158883635567,-21.875763424842148 L -57.92825777447666,-21.874176161001003 L -57.922783028314086,-21.87631554022994 L -57.91987765782761,-21.876331876414895 L -57.91819475738208,-21.872983568237032 L -57.91791491624036,-21.872426797059006 L -57.91856241822097,-21.869692768106745 L -57.918564736673204,-21.86968297628829 L -57.919486496804325,-21.86579089483388 L -57.92140252670521,-21.862466585064794 L -57.9294088104682,-21.85992537885312 L -57.93493262184296,-21.858172113652074 L -57.94288585729646,-21.856125390674208 L -57.94331241383679,-21.85601561852593 L -57.96034791342544,-21.845071705594705 L -57.96150768183401,-21.84454384492244 L -57.96839316481265,-21.841409963898684 L -57.96859142575363,-21.841088045277047 L -57.97062787217851,-21.837781452152228 L -57.9699579599918,-21.834170134544024 L -57.961664654899835,-21.829735430945334 L -57.95602840128964,-21.826721540166886 L -57.94571724325613,-21.822128299581323 L -57.94534653191687,-21.82196316067126 L -57.94428819084732,-21.82090207037419 L -57.934869316765514,-21.81145873743077 L -57.92861616600322,-21.80518934940892 L -57.92650689157972,-21.802191188672396 L -57.92635824893398,-21.801979907346777 L -57.9263475074315,-21.801964638657125 L -57.917217157445805,-21.78898660404849 L -57.91600292879207,-21.781259635323863 L -57.91542755603683,-21.777598143639352 L -57.914190168941104,-21.769723793118487 L -57.914226628356175,-21.769529914573866 L -57.91443589969697,-21.768417122252345 L -57.91488847452342,-21.76601055894008 L -57.915289823066814,-21.763876397577633 L -57.91606157088472,-21.75977263280072 L -57.920013980660656,-21.75880949486225 L -57.924918412754494,-21.75761436421152 L -57.93021059654177,-21.755772076020435 L -57.938114492489774,-21.753020609213706 L -57.941417226623685,-21.74951938661036 L -57.94445414184514,-21.746299962073522 L -57.94868591522277,-21.74181386851518 L -57.94993777330956,-21.73597870825074 L -57.95056256111326,-21.73306645255468 L -57.94665652308004,-21.727666540778216 L -57.942750485946135,-21.722266628102375 L -57.931180983915226,-21.715111377288167 L -57.91815394165104,-21.7070546982157 L -57.91717077311267,-21.706446649493216 L -57.90916931151446,-21.70136254094848 L -57.9026002657896,-21.697188586783795 L -57.89878007344157,-21.692239207473392 L -57.8949598810936,-21.687289829961628 L -57.89494873039956,-21.685508543684307 L -57.89492070842391,-21.681033055830824 L -57.89491461911433,-21.680060378783423 L -57.89971108399931,-21.67370774861365 L -57.90160061717472,-21.672394367006405 L -57.90518945802705,-21.669899823917717 L -57.9073204753596,-21.66841859014579 L -57.91197969650574,-21.665180045122952 L -57.915439064661086,-21.662775495392737 L -57.91569570868995,-21.66256372663463 L -57.91989793664044,-21.659096280768722 L -57.92441109259778,-21.655372273611476 L -57.92757197306804,-21.652764089491086 L -57.93025198154368,-21.650552695250667 L -57.93051032169393,-21.650339525348784 L -57.93177551043141,-21.648758722237176 L -57.93412083710689,-21.645828328114817 L -57.936041283578334,-21.643428803796212 L -57.938502890795746,-21.640353122398608 L -57.93949784854681,-21.62016418782696 L -57.937174936574024,-21.60993504076947 L -57.93630392068934,-21.609037940048836 L -57.933458035859644,-21.606106829166777 L -57.93186989248153,-21.604471125142254 L -57.92874001613882,-21.60124751785861 L -57.92808342560954,-21.600588375053405 L -57.92508669839236,-21.59757999981707 L -57.92127976834661,-21.593758275923676 L -57.9196277964856,-21.589216742758424 L -57.9186553487653,-21.586543329910683 L -57.91867415358928,-21.58648553318079 L -57.91967832579405,-21.583399251474248 L -57.92099415535597,-21.579355108151674 L -57.922288488422964,-21.57537703442256 L -57.9261408720036,-21.571585308315264 L -57.92973787510283,-21.568044944518533 L -57.93029211738724,-21.56749942745654 L -57.93312735154598,-21.565877140417626 L -57.93762553109332,-21.563303337379068 L -57.94332198352271,-21.560043896608477 L -57.947447415665636,-21.557683374088413 L -57.94890695419252,-21.556848243851334 L -57.94931485609567,-21.556496077431973 L -57.95227503756291,-21.553940375947548 L -57.95604304495055,-21.550687227733306 L -57.95940019796075,-21.547788797315093 L -57.95979669915829,-21.547446473076207 L -57.9629641374849,-21.544310593758837 L -57.966744419719134,-21.54056797603124 L -57.96683631334514,-21.54047699701573 L -57.967978475726056,-21.536512227856974 L -57.96911458926684,-21.53256845067341 L -57.97014000795497,-21.529008934914373 L -57.97012642459475,-21.528927732428883 L -57.96946229504886,-21.52495745941917 L -57.96875337476837,-21.520719424062122 L -57.96805746228199,-21.516559151283786 L -57.96731820247305,-21.51213973526052 L -57.96711953863576,-21.51095208966717 L -57.96575536331932,-21.50877982762688 L -57.963664099618484,-21.505449774787223 L -57.96143337534994,-21.501897653254048 L -57.95995814275403,-21.499548545828702 L -57.95701194844264,-21.49682606597014 L -57.95265466568026,-21.492799644687807 L -57.94875285715858,-21.489194112418318 L -57.9450546767319,-21.48577674619986 L -57.94485526645735,-21.485385757846416 L -57.94279923010032,-21.481354456842666 L -57.941286896872725,-21.47838920050117 L -57.9395986094882,-21.47507895163227 L -57.93785621619139,-21.471662615137518 L -57.93628977705151,-21.46859127117017 L -57.9339305513538,-21.46396550300551 L -57.931666335432965,-21.459526021308818 L -57.929889219311974,-21.45604160253788 L -57.92912156520805,-21.452375792308942 L -57.92835357205968,-21.448708365998243 L -57.92748382601769,-21.444555029690832 L -57.926759563303165,-21.441096433153803 L -57.92623474503739,-21.438590244743978 L -57.924021719426776,-21.43479845838209 L -57.92173323260255,-21.43087737648966 L -57.91973170595344,-21.42744797194632 L -57.91940051622083,-21.426880514124377 L -57.91803571407689,-21.424300635266036 L -57.91614409897096,-21.420724920918303 L -57.9142502085802,-21.417144909609817 L -57.912531119415576,-21.413895320012955 L -57.91084405510901,-21.410706271876904 L -57.90911136639642,-21.407430976058663 L -57.90759651057044,-21.404567450127672 L -57.90713396585977,-21.403693104053445 L -57.901518200604414,-21.39307764601648 L -57.900112395670476,-21.39042046323374 L -57.89318145466035,-21.377319945459078 L -57.88053223467483,-21.360821817772603 L -57.86220786090399,-21.33621803123708 L -57.860545357981835,-21.32718956274806 L -57.858562882570936,-21.31846449134315 L -57.858528592320624,-21.312740973816858 L -57.86299604383231,-21.306993715087856 L -57.874402171423014,-21.305427098781536 L -57.883405538035106,-21.30537861183342 L -57.89368826490147,-21.304117541990934 L -57.90329938435906,-21.29834092759171 L -57.91544382207468,-21.28652503560187 L -57.92293139486793,-21.275939736329747 L -57.92000145939977,-21.270232592759896 L -57.913195908164596,-21.26183616150962 L -57.9015815902182,-21.255273721305173 L -57.88222517874897,-21.24423393165057 L -57.86445616781788,-21.22926652652893 L -57.853899260142725,-21.21064532072495 L -57.850599862493596,-21.196203534265635 L -57.853369586437225,-21.175704730189125 L -57.85794516433782,-21.161824282564567 L -57.86267063943842,-21.14643615750265 L -57.861564849238334,-21.122644348158076 L -57.86209485749163,-21.118238663883176 L -57.85615898215127,-21.104900529036115 L -57.850628591336374,-21.09287987040966 L -57.85282956693095,-21.085036442178023 L -57.859855307276575,-21.07867436732812 L -57.8668695030251,-21.070503581375135 L -57.86902548643701,-21.05543082787034 L -57.87054654398776,-21.041565614761282 L -57.86484764720109,-21.028040624175446 L -57.85290270879295,-21.016355851541277 L -57.83574695725622,-20.991141820138864 L -57.82122154283991,-20.97615468569012 L -57.82018292750007,-20.973814909630335 L -57.81748330660929,-20.9677392310806 L -57.82257888330878,-20.96108684877902 L -57.824768993294356,-20.951436508088307 L -57.82502346815846,-20.9399884496072 L -57.82465833621319,-20.932158600239177 L -57.82719844884929,-20.927627360714098 L -57.83023996500236,-20.926708087208397 L -57.83328148025606,-20.925788814602072 L -57.836007813709614,-20.927717852297008 L -57.84004435236494,-20.930574112605143 L -57.84045213825556,-20.930923394898684 L -57.845592411260725,-20.93533063949735 L -57.84842564352857,-20.937759839644855 L -57.85677819685628,-20.93982442315854 L -57.86253299819924,-20.936782392593273 L -57.86987947006145,-20.931622431629876 L -57.884324050714326,-20.907447029057096 L -57.89260517448918,-20.89836514983176 L -57.90188139720868,-20.894698982571924 L -57.91245561953116,-20.89343503040226 L -57.92047197030513,-20.893389888932177 L -57.92604557534298,-20.88763492840917 L -57.92503014092824,-20.879206560434397 L -57.90473972775618,-20.864862410671662 L -57.88478267707882,-20.851718078826252 L -57.874797230108015,-20.843940513343966 L -57.86738186747914,-20.836751165633757 L -57.86516917012108,-20.8153766664999 L -57.87598072083358,-20.80146329919188 L -57.885851953904535,-20.79116840449825 L -57.89478564554105,-20.785095509350242 L -57.90952214343213,-20.78471206361081 L -57.93647946475545,-20.79118555097233 L -57.950431338335534,-20.793212880070314 L -57.95873985725859,-20.78985086352651 L -57.962226600776944,-20.784107061791417 L -57.96282690273932,-20.778079514957597 L -57.95794472526882,-20.766661974070814 L -57.94602383922876,-20.756491305429336 L -57.93409485209571,-20.744812281261716 L -57.90365378019777,-20.743177783228077 L -57.88122129522657,-20.74149347444427 L -57.86951462050331,-20.739146581149782 L -57.86723088120016,-20.732231609401197 L -57.87358558250861,-20.723763779175044 L -57.88055773854876,-20.71167750871001 L -57.90376869377013,-20.685043916343602 L -57.9165879108034,-20.661779239220493 L -57.922635401002935,-20.656323698080143 L -57.928717406283226,-20.65628904810103 L -57.93258213485757,-20.6598808234412 L -57.9387261411984,-20.66918328208277 L -57.944883815435674,-20.680592756950148 L -57.95004190131266,-20.685984948046894 L -57.962102482643445,-20.69404695919974 L -57.97392964133985,-20.69096413808444 L -57.98091846541479,-20.682789144203582 L -57.98182167882737,-20.674349961881205 L -57.981431306509535,-20.664112101292403 L -57.97654334549895,-20.65149058402318 L -57.973924106911966,-20.64277187352309 L -57.976115564081965,-20.635529123170443 L -57.982476033642,-20.62946703067888 L -58.00048302227361,-20.618513673067525 L -58.00558092012335,-20.615169098874787 L -58.01192443476481,-20.606997817395325 L -58.0118736356597,-20.599768600040818 L -58.009856102876824,-20.585926404180157 L -58.00273940330078,-20.57482640851191 L -57.999642726330706,-20.566712811347145 L -58.00086650038867,-20.55857351155828 L -58.00750182704763,-20.54678603005118 L -58.01475320819395,-20.531681455834473 L -58.015960002152326,-20.52143322066655 L -58.01937617856777,-20.506954953208492 L -58.015270542301664,-20.491619793718485 L -58.0029644001869,-20.46940885043807 L -57.999683742610614,-20.457381332682303 L -57.99799566207008,-20.444440822286083 L -58.002220382064934,-20.431463939709033 L -58.01267840298584,-20.418749875006654 L -58.02538302660537,-20.40752569735298 L -58.039726842719574,-20.40231426459161 L -58.049601954566526,-20.39803552861673 L -58.06601960552035,-20.39280744041099 L -58.07555860114849,-20.38642042196483 L -58.082533691676474,-20.37914590665821 L -58.088540310386975,-20.370671877405186 L -58.09478835839599,-20.35195681295653 L -58.097202112687285,-20.33326942964044 L -58.09586646926209,-20.304667456937523 L -58.09289467484933,-20.29173730673125 L -58.09149610496121,-20.27578461786578 L -58.09318750130211,-20.267340634062975 L -58.09919572530242,-20.259770570055707 L -58.10875684515224,-20.257597528303222 L -58.12025820914897,-20.258722306788968 L -58.130826386228705,-20.262864737917255 L -58.13853790460058,-20.269136313989634 L -58.14319805204843,-20.2730186153168 L -58.14768185413425,-20.27479410996017 L -58.15595110416007,-20.270820232467713 L -58.161953759558344,-20.262947104125487 L -58.16315852014952,-20.253903503643755 L -58.164016825016404,-20.24154973793003 L -58.16329028072181,-20.23071292346259 L -58.155558052761876,-20.221733416763755 L -58.14593547594143,-20.215778860705825 L -58.13664268411253,-20.211025292583145 L -58.12878167323561,-20.205659762787775 L -58.127136682811624,-20.199346722573125 L -58.13089976461242,-20.19088816705522 L -58.138519570122014,-20.18601581287942 L -58.14903646695933,-20.184436074565156 L -58.156051135751284,-20.183783791788528 L -58.163053615132185,-20.18162581457966 L -58.16875807242707,-20.176766692129092 L -58.169661774171516,-20.17013410660371 L -58.17027039216481,-20.16651640470826 L -58.16377738501825,-20.161310094485202 L -58.16208145519494,-20.159950240411206 L -58.146485767504146,-20.153326470939817 L -58.142554946853295,-20.15165698028534 L -58.13072604167343,-20.148427461757933 L -58.11598292477214,-20.139495235116954 L -58.1042590810917,-20.12903571412687 L -58.09395332078907,-20.11585479336395 L -58.074763980873,-20.108756010081777 L -58.05719399620591,-20.104656158255068 L -58.022244907976074,-20.066936703965666 L -58.016994873614465,-20.06591605887894 L -58.016112662968965,-20.06574455007086 L -58.01482740046413,-20.06549468513157 L -58.01446945769925,-20.06542509918893 L -58.01412999780109,-20.065359105138555 L -58.01099128831726,-20.0647489160296 L -58.00413905237531,-20.06341679075223 L -57.99973766955776,-20.062561128093535 L -57.99243247208091,-20.06177837347309 L -57.9877730368961,-20.06127911214128 L -57.98374775955142,-20.057709966441735 L -57.98367394859383,-20.057644519179178 L -57.97309959497028,-20.048268416853887 L -57.96584256068559,-20.035664815878476 L -57.963458696261796,-20.033292442991808 L -57.95862369182987,-20.028480748087986 L -57.95334015502408,-20.02489802352494 L -57.943390924651396,-20.024564859780412 L -57.94186360152395,-20.024513715335672 L -57.93544588651838,-20.027459155115878 L -57.93089971914668,-20.02954564161803 L -57.92139516845225,-20.03863399866009 L -57.91283738533701,-20.04636102853857 L -57.90495110171196,-20.046856838272447 L -57.90253771884062,-20.04325725591758 L -57.898177823547655,-20.034247539192506 L -57.89690750777521,-20.03279193609893 L -57.88758499065477,-20.022109647642083 L -57.881316027112916,-20.013223501363427 L -57.87230663324448,-20.000452842324762 L -57.87214071462222,-20.0002176561199 L -57.866837806419596,-19.988497049099465 L -57.86824222100165,-19.984069156965973 L -57.876966650290626,-19.956562438006074 L -57.93200374847419,-19.916115416393325 L -57.94564633890735,-19.905300309761458 L -58.03637637167219,-19.833374448971597 L -58.03896028129191,-19.83132606494587 L -58.13755240951605,-19.757335407503035 L -58.13292803350191,-19.741591919831194 L -58.08304366393389,-19.642292356107305 L -58.0226546112213,-19.52590504937848 L -58.01670316232105,-19.513926634606435 L -57.96279835915692,-19.405433061486576 L -57.90443899356467,-19.283125219153476 L -57.845673290889636,-19.158091454357077 L -57.78557680202778,-19.03484102089635 L -57.77879133175452,-19.03469733441443 L -57.713500108743006,-19.033314757170274 L -57.70301672783967,-19.020280873763284 L -57.69825641300304,-19.014276071683298 L -57.69856892111875,-19.012592608262196 L -57.697929122730784,-19.011654431906436 L -57.694908604848194,-19.007225257339712 L -57.692606970835016,-19.00503971051421 L -57.69511592735813,-18.991624352681697 L -57.697821472982525,-18.98526472039049 L -57.70431563755659,-18.97802489373379 L -57.710046431497574,-18.975210388048936 L -57.71186739766222,-18.96944532364273 L -57.71533028216675,-18.95848205100583 L -57.71375184067489,-18.919722288852483 L -57.71631756960011,-18.90979591924622 L -57.718883296726744,-18.89986954963996 L -57.76791958312225,-18.899682395326238 L -57.75412167437571,-18.85758788946947 L -57.74032376562923,-18.815493383612704 L -57.70603229315577,-18.707430036267112 L -57.682846339986554,-18.63544344875612 L -57.67035379808925,-18.596657229447544 L -57.635658700888314,-18.48406756636507 L -57.59816638746878,-18.369223480079484 L -57.559984323717515,-18.24490410254225 L -57.54415906878597,-18.240891436390655 L -57.453002853598775,-18.23361669085756 L -57.45376457577453,-18.232666004932128 L -57.454526297950224,-18.231715318107376 L -57.45706194545238,-18.225169145739414 L -57.45887146144872,-18.22386576908991 L -57.46068097744512,-18.22256239154109 L -57.466867581073984,-18.220382287412576 L -57.46738066498568,-18.220034350504818 L -57.46814950259744,-18.219512978441173 L -57.46943142502022,-18.218643667671074 L -57.47016560006233,-18.217678458593923 L -57.472291493057924,-18.21488357161951 L -57.47318584904764,-18.210550757611315 L -57.477054738785114,-18.20540364885926 L -57.47709899532231,-18.205344769345572 L -57.47662742231762,-18.198417080284003 L -57.4773846622723,-18.196609575171692 L -57.47814190402562,-18.194802071858078 L -57.480103280441995,-18.19422607227534 L -57.481966126235704,-18.194798020412293 L -57.483828972029414,-18.195369967649867 L -57.48689823406619,-18.198824455184422 L -57.488160896608065,-18.199289504506964 L -57.48962043153762,-18.19982706346815 L -57.493860338383854,-18.198807759270608 L -57.49431430536089,-18.19850475878752 L -57.494768274136504,-18.198201757405116 L -57.49870235033313,-18.19954666294808 L -57.500645446230294,-18.200210929190973 L -57.50652262012278,-18.20222010277547 L -57.52031498814614,-18.186545414139516 L -57.527153230637055,-18.1787739172824 L -57.52839346048978,-18.177364426027395 L -57.52972149385181,-18.175818568771888 L -57.54636375408393,-18.1564466278096 L -57.57624287111156,-18.1216667092512 L -57.58538274941429,-18.101432668282996 L -57.599207421984886,-18.056244631284642 L -57.60274863474166,-18.044669639792005 L -57.613110892253815,-18.02622693952162 L -57.61455959215141,-18.02364854994056 L -57.61764525512439,-18.01815669957199 L -57.62597348179071,-18.00333415634617 L -57.635770094514214,-17.985898185952465 L -57.63838787619949,-17.98091117990697 L -57.659128300230805,-17.94139960880483 L -57.66912630983131,-17.922352889674073 L -57.67450382309295,-17.912108453242467 L -57.688015688073506,-17.88794959369875 L -57.70008571588306,-17.866368701954002 L -57.722359889597215,-17.826543066009663 L -57.6881314164317,-17.82895158624666 L -57.68088742321595,-17.805565216461503 L -57.681278457434814,-17.80518774491844 L -57.72067049874448,-17.767162081364916 L -57.712980422008854,-17.726361130661587 L -57.73001578130322,-17.7190335076902 L -57.7326091122207,-17.7179180084093 L -57.73554712360084,-17.713219423937232 L -57.73649961626421,-17.711696163047463 L -57.73902798105644,-17.703962907162406 L -57.741556344949345,-17.69622965307599 L -57.74290749448522,-17.695214050488005 L -57.74425864402116,-17.69419844969866 L -57.74862050972871,-17.692881997805898 L -57.75094706845243,-17.690996744504105 L -57.7532736271761,-17.689111489403672 L -57.755519160580775,-17.68592689111307 L -57.75662865149104,-17.681230641281047 L -57.75773814419995,-17.676534389650328 L -57.75786621035729,-17.671192619943383 L -57.75898326726394,-17.66830114937852 L -57.760100323271274,-17.665409679712923 L -57.76324543412943,-17.66149934202099 L -57.76503971021441,-17.660038089386262 L -57.76609653862431,-17.659178036237336 L -57.77105467283485,-17.656704084925536 L -57.77601280614607,-17.654230133613737 L -57.782744712798205,-17.644242570538154 L -57.784375377022,-17.63846178778124 L -57.78375016653689,-17.63326765527802 L -57.78131281853172,-17.62900179309821 L -57.77941887418166,-17.625687186114703 L -57.776780541189,-17.623045244142645 L -57.775938720895226,-17.619872783102437 L -57.775096901500774,-17.616700320263533 L -57.778543032534856,-17.612933126762357 L -57.784700053864356,-17.60973239373493 L -57.78574729460195,-17.608284822486496 L -57.78566599409032,-17.606841383622907 L -57.78558469447802,-17.605397945658638 L -57.7799623416887,-17.600899160867527 L -57.77980144038412,-17.600810236802943 L -57.77370210786597,-17.59743938801728 L -57.77512960714563,-17.59599816148591 L -57.77535666887513,-17.595768917101793 L -57.777011231682934,-17.59409844528699 L -57.77903136980183,-17.593396662925613 L -57.78105150882004,-17.5926948787656 L -57.782715604441535,-17.59310432660334 L -57.784379699163765,-17.593513774441078 L -57.784224181200955,-17.591156475091225 L -57.77923828312021,-17.589451313727125 L -57.77901375568024,-17.5893745260135 L -57.77900769065235,-17.589326753127125 L -57.77841548078976,-17.584661983163926 L -57.78086348486187,-17.58271081765008 L -57.785927111347064,-17.583938397638917 L -57.79011310563527,-17.582950687524146 L -57.786479581067795,-17.57825054992287 L -57.78543711393161,-17.57712160038153 L -57.78226927180941,-17.573690957471683 L -57.78513151890445,-17.567438840929697 L -57.786507119208125,-17.566904140913323 L -57.79450715807883,-17.563794498417337 L -57.796071149264094,-17.558102464357205 L -57.79274807156622,-17.55406724860461 L -57.789941074321064,-17.55398294255872 L -57.78657752443314,-17.555658687098685 L -57.78293846004186,-17.55747105484528 L -57.776827048729274,-17.558219773723522 L -57.77482236725842,-17.558465370480405 L -57.7718900512848,-17.55850103129751 L -57.768957734411856,-17.558536691215295 L -57.765758425910576,-17.560567505186157 L -57.76513114158888,-17.561487504444756 L -57.76266963509556,-17.56509764663906 L -57.75588046051479,-17.566492618339623 L -57.75778185394938,-17.560972199207583 L -57.75570401442866,-17.554238238503842 L -57.75252871962465,-17.5510377159178 L -57.74935342482064,-17.5478371906338 L -57.74473031774994,-17.545536902006404 L -57.73857331620553,-17.544296163137346 L -57.73562298141542,-17.54419702547233 L -57.72868750602356,-17.543963975157283 L -57.72731104686727,-17.543917721225796 L -57.722421445493296,-17.54757913916592 L -57.71953511635252,-17.549740867447042 L -57.71336566279507,-17.559245139351674 L -57.7128285606895,-17.561872199342474 L -57.71164133687813,-17.567679108304162 L -57.71090830487435,-17.576636316312886 L -57.70788593798562,-17.58338947844163 L -57.704863571096894,-17.590142640570377 L -57.70312396479909,-17.594890132873275 L -57.70373932411047,-17.597626755470344 L -57.704354683421855,-17.600363378966733 L -57.7066287073489,-17.60583280653873 L -57.70544009678298,-17.610999462055474 L -57.70206485390986,-17.61901821401932 L -57.69561119659943,-17.626837430702835 L -57.69415793444108,-17.628528041935567 L -57.69154565570739,-17.631566963544515 L -57.690790038129705,-17.632405652398916 L -57.68809676645259,-17.635395014168523 L -57.68830742005133,-17.6357954921682 L -57.69133123215062,-17.638960540096775 L -57.691637910860834,-17.64025905950797 L -57.69074052955176,-17.64170558214687 L -57.68472129874891,-17.64273740131 L -57.68217158225269,-17.645201041894495 L -57.68203904466611,-17.64996526338615 L -57.678737669407894,-17.652864410564064 L -57.67739809954264,-17.657055353821477 L -57.67290105763766,-17.662412313077766 L -57.67216789523212,-17.667467819584147 L -57.67271427294531,-17.672590274321635 L -57.67326068123543,-17.677712727260484 L -57.67432237677622,-17.679730753771196 L -57.67920210899007,-17.68131769835304 L -57.67914495437611,-17.68161320478555 L -57.67907714459449,-17.68217174762799 L -57.67913738837973,-17.68270744499256 L -57.67927813227993,-17.68295261637013 L -57.679442331398434,-17.683242363544196 L -57.67952480732396,-17.683476514629376 L -57.67939728345783,-17.683655628104702 L -57.67887251915141,-17.683534616229508 L -57.67860439077998,-17.683490875003827 L -57.678418238311,-17.683558520209488 L -57.67839553222797,-17.68372605671209 L -57.67851304034451,-17.683982469615216 L -57.67868862128279,-17.684205184921325 L -57.67895705542372,-17.684327060145677 L -57.67933036310575,-17.684448601721556 L -57.67954108775098,-17.684715837965484 L -57.679834093168836,-17.685172593740162 L -57.68010316852639,-17.685461979386787 L -57.680442084334686,-17.685790681594654 L -57.6807124682058,-17.68642618931716 L -57.681125932415796,-17.687932079801612 L -57.68151766540791,-17.689632609657167 L -57.68152298399849,-17.691039443415548 L -57.68166790345094,-17.692389955332146 L -57.681930777083664,-17.69411964750367 L -57.68221560136885,-17.695085472616427 L -57.68242682873512,-17.695475557151212 L -57.682685384722674,-17.696066432419855 L -57.682698908727616,-17.696557638524155 L -57.682654445346316,-17.697127226839996 L -57.68242321525912,-17.697608164485132 L -57.68215611751077,-17.697843541346288 L -57.681854293340905,-17.698146061591444 L -57.681702561523934,-17.69835149822302 L -57.68151780030621,-17.698798767049425 L -57.68134609005,-17.699614417970963 L -57.681290050595294,-17.70020637872136 L -57.68115203703684,-17.700686953939737 L -57.68101371591024,-17.701078237270792 L -57.68093310607793,-17.701335318370184 L -57.68095700915859,-17.701491559387932 L -57.68106246815836,-17.70164752071645 L -57.68127210732183,-17.70162445310598 L -57.681445682771994,-17.70130003436907 L -57.68156168722203,-17.70116566486348 L -57.681724634484226,-17.701120447850315 L -57.682157211985725,-17.701498568703926 L -57.68234525842689,-17.701922183561862 L -57.682580665864975,-17.702546644911706 L -57.683110162404034,-17.70381148201426 L -57.683427988211065,-17.704658964439602 L -57.68358217247925,-17.705373023446214 L -57.68357274128891,-17.705964816922744 L -57.68342276225064,-17.706356128132768 L -57.68328313171111,-17.70641244817591 L -57.68303798821256,-17.706301619324222 L -57.682721916083494,-17.70591195117555 L -57.68234693656183,-17.70536615352512 L -57.68212458098458,-17.705110103948073 L -57.68176209664341,-17.704776419496113 L -57.681399721120215,-17.704476183528982 L -57.681165930663155,-17.70427603401174 L -57.680897079236786,-17.704053653253425 L -57.68065115422735,-17.703730710304 L -57.68055582249315,-17.70317277989983 L -57.6804617156356,-17.70293862881465 L -57.68036791544688,-17.70278263780847 L -57.68021623848858,-17.7027273214087 L -57.68004163241534,-17.702772594179805 L -57.67985678756065,-17.70319751845068 L -57.679789422943486,-17.703878855624623 L -57.67987643774734,-17.705330041248374 L -57.68011371037937,-17.70644576176244 L -57.680324767773755,-17.706791160783382 L -57.6808512300002,-17.7073475875211 L -57.68089118867738,-17.707499430854 L -57.68070105580904,-17.707578316685897 L -57.68036497736176,-17.70744044162302 L -57.68001017233155,-17.707146214925842 L -57.679508919900684,-17.706487529875574 L -57.679307488849474,-17.705984249473488 L -57.67917790283792,-17.70528084743313 L -57.67899934154633,-17.703621748444903 L -57.67892262487919,-17.702904795419954 L -57.67882845956569,-17.701913315347156 L -57.678560053303784,-17.701403524752834 L -57.67815001371213,-17.70103044010267 L -57.677349051417536,-17.700624633619896 L -57.67572906844174,-17.69974498784086 L -57.6737172454545,-17.698594322370013 L -57.6731122031656,-17.698323998753494 L -57.67277459587086,-17.69830813830987 L -57.672508387552,-17.698377145988445 L -57.672260629724235,-17.69863333675903 L -57.67210205136854,-17.69899136855679 L -57.67182073623792,-17.699775410107065 L -57.67148563355511,-17.700440469552007 L -57.670972780769205,-17.701072083210022 L -57.67054888622209,-17.701737449323787 L -57.670249206935296,-17.70236833812828 L -57.67007493720854,-17.703288196193228 L -57.66994240951453,-17.705876195030328 L -57.670111679010745,-17.70839507737088 L -57.67047358418853,-17.71013965512094 L -57.670922636370506,-17.71144890254476 L -57.67138774504838,-17.71229849837698 L -57.67210228069564,-17.71333447150863 L -57.67222649595601,-17.713666485919532 L -57.672228221755006,-17.71412610693426 L -57.672071287359984,-17.71492673288236 L -57.67140305960345,-17.716784563157034 L -57.67091010431784,-17.718011922811968 L -57.67075305660825,-17.71857900651588 L -57.67061412574128,-17.719447693156496 L -57.67065366803229,-17.720520006992672 L -57.67074485479117,-17.7211495603039 L -57.67096025501172,-17.721744665983522 L -57.67112281376683,-17.722459086517574 L -57.67119677581053,-17.723224872729645 L -57.6711659479501,-17.72442437678353 L -57.67118887976295,-17.72580321734455 L -57.67135199609771,-17.726670845483113 L -57.671514888501235,-17.727470385050196 L -57.67155259437669,-17.728049045726834 L -57.671500922929226,-17.728491834130807 L -57.671413413498215,-17.728849642896648 L -57.67123725069854,-17.72925879036086 L -57.67106002849749,-17.72937855217839 L -57.67082952146518,-17.72951553781178 L -57.670669747011175,-17.72955012483834 L -57.6703497232611,-17.7295001513109 L -57.67001175264022,-17.729399172733565 L -57.66983405919444,-17.729399786071212 L -57.66962113750543,-17.729485628159182 L -57.669372905734974,-17.729732246545893 L -57.669224761313615,-17.729841573529768 L -57.66897146636006,-17.72986759091657 L -57.668744352469844,-17.729885094421547 L -57.66858710960736,-17.729902373995344 L -57.66843000703915,-17.72994475274811 L -57.66814201174441,-17.73004620526814 L -57.6679312879985,-17.73022431689867 L -57.667617889553924,-17.73054350517856 L -57.667461147613835,-17.730694708194164 L -57.66724385881702,-17.731005215318362 L -57.66723576042199,-17.731181044469565 L -57.667254210913086,-17.731440488987346 L -57.66731612294069,-17.731641195184977 L -57.667447849338714,-17.731816552192072 L -57.6677622505274,-17.73177361585965 L -57.66797161090108,-17.73167244212948 L -57.66835526977985,-17.731453482392226 L -57.66913154928153,-17.731074134863377 L -57.67006498710941,-17.73066072821001 L -57.67057945327912,-17.73036597091277 L -57.670815137708416,-17.730306563497038 L -57.67110349542992,-17.73030555985366 L -57.67138294626591,-17.730254388429216 L -57.67160112808955,-17.73018668746562 L -57.67178424714524,-17.73008559647303 L -57.67198414575171,-17.72979189857722 L -57.67218368283068,-17.729406124492982 L -57.67232230972678,-17.72908754955074 L -57.672470313853864,-17.728944720122684 L -57.67261862375045,-17.728877243989587 L -57.672942042441264,-17.728909603395437 L -57.67324842977115,-17.729059248785234 L -57.67364285983007,-17.72938438967782 L -57.67394471367754,-17.729795039009787 L -57.674163924325626,-17.729995214607413 L -57.67440878903437,-17.730052979861114 L -57.67460137075659,-17.730144414832807 L -57.67459369144564,-17.73042906914617 L -57.67448099829937,-17.73066386324666 L -57.6743418983599,-17.7308568883347 L -57.67415914083165,-17.731058401224175 L -57.67407240841487,-17.73122613377899 L -57.674082258689225,-17.731527485804804 L -57.674135991382855,-17.731878921075293 L -57.67415449673257,-17.732155118164144 L -57.674120410628404,-17.732381256289898 L -57.673929666221056,-17.73278375416686 L -57.67362486529527,-17.73306106371706 L -57.673128095085474,-17.73340599059395 L -57.672308184974725,-17.733810633353983 L -57.67134850852682,-17.734224121845727 L -57.67064883417629,-17.734523220170445 L -57.66978498768697,-17.734852649030472 L -57.66905181089231,-17.735081182050862 L -57.668289333286054,-17.735275712603993 L -57.66771540124472,-17.735327663740634 L -57.667489150703716,-17.73531177631736 L -57.666897243912615,-17.73519710825991 L -57.66656550649287,-17.73488156763017 L -57.666042021921726,-17.73444999377216 L -57.66562210417675,-17.73380143688678 L -57.665429521555154,-17.733468755178876 L -57.665237718645756,-17.733352721950496 L -57.664715821378024,-17.733354505306124 L -57.66442055686315,-17.73348883704017 L -57.65887546393145,-17.731615050094433 L -57.654117783209074,-17.729606270413 L -57.653271968126774,-17.726645948651537 L -57.650734533671766,-17.72336845309161 L -57.64724557332448,-17.724319994272264 L -57.64534249725841,-17.721571127405582 L -57.6438547784752,-17.717445698859876 L -57.64161775355643,-17.718163481959095 L -57.63899451658364,-17.719005437151168 L -57.63410794142834,-17.72422313099264 L -57.63258098342561,-17.725853556896084 L -57.631266209667785,-17.72607113977125 L -57.627441189759054,-17.73063083834245 L -57.62361617164896,-17.735190538712345 L -57.62226810948562,-17.73750490083046 L -57.62123240435193,-17.7428494773215 L -57.62033443758418,-17.744440273699638 L -57.61432728917299,-17.750088989215442 L -57.614253335223225,-17.750522577554875 L -57.61417938037408,-17.750956167692948 L -57.61659665101462,-17.752824679215507 L -57.619013922554416,-17.754693190738124 L -57.6194742675234,-17.75714634163029 L -57.61918351400794,-17.760323099631307 L -57.61745780223572,-17.76220527095643 L -57.61573208956423,-17.764087444080246 L -57.61317673881541,-17.76597267669763 L -57.60565381457184,-17.76888299165671 L -57.6023460811067,-17.77120333606507 L -57.60242472681966,-17.77214164911777 L -57.60250337073393,-17.77307996396911 L -57.603867665660175,-17.775384825649155 L -57.60628513774884,-17.77725438308329 L -57.61231540503189,-17.778245802901438 L -57.61442764541948,-17.779104913560843 L -57.61510989360664,-17.780257755391062 L -57.61579214089454,-17.781410596321905 L -57.6159488612509,-17.78321446097857 L -57.61610558160726,-17.785018326534498 L -57.6132708816458,-17.792967792929232 L -57.609970728566225,-17.797597354434288 L -57.60856218519666,-17.7988971445875 L -57.6044802604556,-17.80266390281679 L -57.60312698402305,-17.803389327455477 L -57.60177464108676,-17.804114738604255 L -57.600167946493514,-17.804119728042963 L -57.59815383383233,-17.80220365047802 L -57.59613972117114,-17.800287572913135 L -57.58999642619409,-17.79801412095486 L -57.588270287243915,-17.79737532800891 L -57.581941397377534,-17.797539064875878 L -57.57742760110284,-17.799429698821484 L -57.57517415816085,-17.801890123430383 L -57.57534708969638,-17.808675055009758 L -57.575198786994406,-17.80934879740903 L -57.57505048159442,-17.81002254070762 L -57.574901706748335,-17.810697188724248 L -57.57339869229577,-17.811856654960593 L -57.56811624456901,-17.809562218221743 L -57.565703333841725,-17.80913638383697 L -57.56329595574374,-17.810153810250085 L -57.55983961470639,-17.813339655900336 L -57.55744706463031,-17.81940989624968 L -57.55415972599053,-17.823023535008076 L -57.551502330068445,-17.82413640557064 L -57.54884493414636,-17.82524927613315 L -57.539841930860405,-17.828842638776734 L -57.53563267201014,-17.83231936025021 L -57.5348965742175,-17.838240116188388 L -57.535228124578225,-17.848055835008722 L -57.53448150381831,-17.85051161371996 L -57.53279083233099,-17.85550322699231 L -57.527933497732704,-17.858815052372734 L -57.51280553934413,-17.8609634670903 L -57.50804992346514,-17.861616775993355 L -57.502440411196005,-17.86169014088722 L -57.500251395685325,-17.86119725844668 L -57.49837237018869,-17.86122973386506 L -57.496650308764686,-17.86147797642741 L -57.49420207626474,-17.861267370492726 L -57.487398784126526,-17.862264003680764 L -57.4852003545127,-17.862232864654914 L -57.483867552045865,-17.861852374987052 L -57.48368178808403,-17.862072448984293 L -57.48349563471572,-17.862169002897133 L -57.48318023078298,-17.862169782609328 L -57.48254928532123,-17.862143879436417 L -57.48203284064306,-17.862035360943082 L -57.481215016959425,-17.86181776637676 L -57.48005251730979,-17.86139512638391 L -57.47924885525043,-17.861108858686805 L -57.478918872407974,-17.861027303667072 L -57.47870380763459,-17.861027831569118 L -57.478374324815206,-17.86112472182839 L -57.47800196232066,-17.861290340077062 L -57.47773038414988,-17.861592999717118 L -57.47758822471678,-17.862046305692388 L -57.477546933244355,-17.862691525193668 L -57.47762159316193,-17.86381687474892 L -57.477896512314146,-17.864749558045617 L -57.478788690145905,-17.8668974385659 L -57.47962410277006,-17.86832285681436 L -57.47988416242413,-17.869049715871654 L -57.48008665107807,-17.86970806817277 L -57.48023101205155,-17.87006456932437 L -57.48036029049496,-17.870160344424335 L -57.48066155798449,-17.870214491705383 L -57.48097682162296,-17.870145093721078 L -57.481134176001376,-17.8700211590492 L -57.48127667088164,-17.86969139744002 L -57.48140477840775,-17.86933420111245 L -57.4815621885441,-17.86922401167874 L -57.481777280297194,-17.869223481978054 L -57.48209301787841,-17.869332502293105 L -57.48331339609632,-17.86994713854955 L -57.48413850968444,-17.87015198792386 L -57.48475520988501,-17.8701916372342 L -57.485486439647445,-17.870189799919274 L -57.486303733630336,-17.870187766552135 L -57.48723580988468,-17.87022660917063 L -57.487680602877504,-17.870335321917537 L -57.488226208073,-17.870608484693776 L -57.4888584926253,-17.871114741851784 L -57.48906164677754,-17.871434707145966 L -57.4891344406019,-17.871832584306276 L -57.488993004223744,-17.872546672990495 L -57.488969579582374,-17.874468389304695 L -57.48895864652428,-17.875717451399225 L -57.48888824939314,-17.876184308359086 L -57.48877438712822,-17.87650029505255 L -57.48851680690507,-17.876679381548172 L -57.487915161355545,-17.8769004843698 L -57.48742807414624,-17.877052691928156 L -57.48712466447165,-17.87716716663141 L -57.48695284000155,-17.87724994742706 L -57.486924597691996,-17.87741473110492 L -57.48708303845143,-17.877675121709444 L -57.48752872177306,-17.878099516279633 L -57.48751506017186,-17.87834663558874 L -57.48734334811701,-17.878484317297364 L -57.487085238193174,-17.87848495671534 L -57.4867836631355,-17.87832101030631 L -57.48604892331912,-17.877046323828722 L -57.48540038891679,-17.87582631163491 L -57.484652266289004,-17.87490854359436 L -57.48373212583692,-17.87399119283924 L -57.48285606205758,-17.873471775002372 L -57.48228185302503,-17.87322613238007 L -57.481564396379724,-17.873035751298858 L -57.48137192527412,-17.87303074297438 L -57.48112530778667,-17.873085365097495 L -57.480892880701845,-17.873193913268437 L -57.4806183806337,-17.873383600972375 L -57.48046367116143,-17.873532467549296 L -57.480414725559115,-17.87368784611715 L -57.480394859535124,-17.874167141600253 L -57.48037555019147,-17.874848923938657 L -57.480397616856465,-17.87519312506265 L -57.48053930594415,-17.87544252595177 L -57.48072999459356,-17.875550043499686 L -57.48099102731402,-17.87560341196786 L -57.48142841798705,-17.87568332572488 L -57.48159862907346,-17.87574596080742 L -57.48193053286775,-17.875927410721374 L -57.482439297335645,-17.876310873547936 L -57.48277114627132,-17.876478800356324 L -57.48303248476134,-17.876640160315105 L -57.48318182528095,-17.876843981764296 L -57.48328823126684,-17.87707997016446 L -57.48330306288602,-17.877349933152857 L -57.483303871376506,-17.877646916272113 L -57.48341075040577,-17.878058427154656 L -57.48352419538526,-17.87828762747199 L -57.48376441509566,-17.878462509637075 L -57.4840890847434,-17.878569720516168 L -57.484491221092924,-17.87864298468594 L -57.48473227537414,-17.878786424753628 L -57.48480323188363,-17.878955019758337 L -57.48485356873715,-17.879312633371285 L -57.48493927232954,-17.87971067870484 L -57.484996344205854,-17.879967034950653 L -57.48489837026352,-17.880244038731348 L -57.48472220656453,-17.880278208472475 L -57.48438340047352,-17.88015755812478 L -57.48330226159004,-17.87932323997552 L -57.48191721031094,-17.87822641421758 L -57.481486218314274,-17.877910261149566 L -57.48095992246243,-17.877531139350538 L -57.48061393888213,-17.8773565062977 L -57.48043746761499,-17.87729620855316 L -57.480162495402794,-17.877296877648746 L -57.47995110346062,-17.877358150258374 L -57.479669593177164,-17.877554570287145 L -57.4793323195309,-17.878007655928513 L -57.478925566062,-17.87884565050632 L -57.47626099265062,-17.882350648463614 L -57.47470454228073,-17.883952624314134 L -57.47206406530432,-17.887398574584495 L -57.469164226547775,-17.89179755261489 L -57.46630801929962,-17.896112524073658 L -57.46477263644795,-17.898927861631478 L -57.46400888180443,-17.900399058070036 L -57.46367238876968,-17.90142495969411 L -57.46338987754075,-17.902621597608572 L -57.463053858448745,-17.904118752078716 L -57.46239678768154,-17.90543590454331 L -57.46198791900724,-17.90608613236907 L -57.46175641013019,-17.906308793715823 L -57.461471365511045,-17.906531565679188 L -57.46111453071097,-17.90660074153095 L -57.46082892761285,-17.90660143760624 L -57.460542880249704,-17.906448342417036 L -57.460417302516476,-17.906209432119567 L -57.46036293040487,-17.90588492974564 L -57.460433160262085,-17.905440555836947 L -57.46077079633517,-17.904841749447144 L -57.46146395689607,-17.90366124716877 L -57.46164114852013,-17.90314825588723 L -57.46176989816223,-17.902656356405657 L -57.46176917330865,-17.902379102613452 L -57.46168928563196,-17.902034788174888 L -57.46149533963819,-17.901715991100048 L -57.46124026132895,-17.901523328438827 L -57.461011811945525,-17.901448253933722 L -57.46074833306909,-17.901398475559176 L -57.460458751370254,-17.901432783795883 L -57.46015169494473,-17.901517514321768 L -57.459590563853396,-17.90178772912037 L -57.45876656362594,-17.902243347252636 L -57.45807924506107,-17.902630151959897 L -57.45755336829325,-17.902959051119296 L -57.45734311849009,-17.903119188000062 L -57.45711503153342,-17.903178540557178 L -57.45692189403013,-17.90317898572158 L -57.456667011773106,-17.903061980326072 L -57.456631338365526,-17.902835201883022 L -57.45672730861838,-17.902608117670468 L -57.45564604023252,-17.902044076372988 L -57.45534945011701,-17.90096497085665 L -57.45169253778033,-17.896627913847112 L -57.447897828621876,-17.894134368106563 L -57.4469042729138,-17.890905350501498 L -57.44764941698696,-17.884447308096753 L -57.44528972723907,-17.877989272886566 L -57.44268165553393,-17.87438767874835 L -57.43510584395949,-17.868923201044822 L -57.4320030309151,-17.860294827444307 L -57.430942059328515,-17.858276378252185 L -57.42655944895938,-17.85323319245782 L -57.42475036373827,-17.853237158468062 L -57.41992165635929,-17.851371485205846 L -57.407577383889134,-17.8502916737217 L -57.40486153832927,-17.848278387537505 L -57.403349719513926,-17.845782638457933 L -57.40297584885627,-17.84237797786136 L -57.400904168792295,-17.840316507800537 L -57.39821167682737,-17.841957390121422 L -57.390844814636466,-17.843177288101344 L -57.385262165116785,-17.83828225841944 L -57.38385707694249,-17.833978535680842 L -57.38052143661497,-17.824746899549723 L -57.38000016977196,-17.824115291287626 L -57.379196077836696,-17.823141713119526 L -57.37704671523369,-17.82050603042893 L -57.3767439935404,-17.82013427048014 L -57.372071292456155,-17.819998708473577 L -57.371102971724724,-17.82087047259421 L -57.36500121733229,-17.826363785260412 L -57.36319711705329,-17.82867718600329 L -57.35823019017107,-17.832006849436482 L -57.35265236281623,-17.831439589465447 L -57.34918785593476,-17.832600873231684 L -57.34647509235157,-17.832172847199104 L -57.342850355059795,-17.828569690938423 L -57.33998614474473,-17.827853544605375 L -57.33169586047552,-17.82786792836214 L -57.33048889204866,-17.827292489956392 L -57.32580385586323,-17.820515919374145 L -57.324801312330635,-17.82024195889926 L -57.32221004445796,-17.81955401080893 L -57.31731106405431,-17.816312188656525 L -57.31390621909668,-17.81115547064843 L -57.3110087455571,-17.80953519089627 L -57.305593170288546,-17.811742661394646 L -57.30503327306707,-17.8117819536742 L -57.30447337494627,-17.811821246853015 L -57.297659983421454,-17.81045451656263 L -57.29522584149936,-17.809355659236246 L -57.293048625093945,-17.808991137930605 L -57.29208943877654,-17.80948287463491 L -57.29113025155982,-17.809974610439895 L -57.29087729834862,-17.812793815082443 L -57.295108396335365,-17.816463897990445 L -57.29690448365494,-17.81793156638861 L -57.296012094482535,-17.82087466613291 L -57.2946056447347,-17.821673470054577 L -57.29319919408749,-17.822472273976246 L -57.29166309447618,-17.822474594227117 L -57.290126107234016,-17.823089652265594 L -57.287052310815454,-17.822113656719864 L -57.28551636768617,-17.82162518815187 L -57.28487216172084,-17.819420063984694 L -57.28461257421088,-17.8175822022568 L -57.284994188930625,-17.815498478471966 L -57.2844777757287,-17.813538080517958 L -57.28390039928394,-17.81268126133108 L -57.28332302283917,-17.811824442144257 L -57.28037799045188,-17.81158381144371 L -57.27744905682846,-17.81321740565869 L -57.27641403517953,-17.81379468317806 L -57.27206634278747,-17.81686548935079 L -57.26835264455883,-17.81687067304307 L -57.264254812609465,-17.815527904289297 L -57.26105063068201,-17.812958348748737 L -57.25759062310874,-17.810879821246715 L -57.25310929415855,-17.810394992235047 L -57.249650635568344,-17.809173988089015 L -57.244402560829485,-17.80954851615104 L -57.23973972710667,-17.810146309004892 L -57.23830835264829,-17.810068546426237 L -57.23574753941739,-17.80921491983264 L -57.23395441896122,-17.808115413195708 L -57.23369521546181,-17.806156378613935 L -57.234844595801405,-17.804196543635555 L -57.2393240685509,-17.803456300867538 L -57.246235535641404,-17.80258996415546 L -57.249944203062455,-17.799892008809138 L -57.25262698774526,-17.796337658755874 L -57.25403112443678,-17.793275692918826 L -57.25274779997096,-17.79107310483988 L -57.25070048433986,-17.79095376030773 L -57.249036866258336,-17.791322826786995 L -57.247373248176814,-17.791691894165524 L -57.24558003958714,-17.7918170896869 L -57.24340246884884,-17.7909630763848 L -57.241865249581565,-17.789250573854872 L -57.24070995709877,-17.787415574669012 L -57.2364857326304,-17.787542790966995 L -57.23418459144568,-17.788770182098176 L -57.23213653117591,-17.78877264983788 L -57.23034238639195,-17.78816294906079 L -57.22842105498768,-17.786205876799727 L -57.22713825572589,-17.78412602999225 L -57.22585516598309,-17.782536011527668 L -57.22188702436665,-17.782173676473917 L -57.21814815141602,-17.783364562324664 L -57.21433592975933,-17.78400958667305 L -57.20127532389705,-17.784883990303854 L -57.19705475067616,-17.784021629494532 L -57.18438977187043,-17.776239188787486 L -57.17547364399343,-17.774336029983772 L -57.16336382927727,-17.776633141306377 L -57.159796922889655,-17.776504390764956 L -57.15859147791434,-17.77646087886643 L -57.15602084498596,-17.77417736259514 L -57.155374173079565,-17.772511350518357 L -57.154181072198696,-17.769431390146508 L -57.15215961387503,-17.766092695721284 L -57.15050723462116,-17.765214630051105 L -57.14844829615191,-17.76542047047826 L -57.14557067874381,-17.76570824364046 L -57.142378189801605,-17.768578248287497 L -57.13918484830208,-17.770492020890003 L -57.13821871292322,-17.770617940365582 L -57.13254766094576,-17.77135705988036 L -57.12426435721426,-17.776238336230165 L -57.1220680769801,-17.77585744456536 L -57.11882284010193,-17.774042908553326 L -57.11642468005488,-17.77069865092193 L -57.11322894905669,-17.769362080295707 L -57.105992013720424,-17.769079686878 L -57.102396785882945,-17.76669208397243 L -57.10184393395036,-17.76523081425063 L -57.09729865331013,-17.753216952700143 L -57.094553021304876,-17.751401757485098 L -57.08187416146336,-17.745768078633887 L -57.076638911056875,-17.73516912225716 L -57.07407694219711,-17.733871416732427 L -57.06561950723443,-17.731638568265282 L -57.06212514106238,-17.72810240700045 L -57.056884910210385,-17.726096767751585 L -57.049999074697496,-17.726959049420543 L -57.0471042631512,-17.724666031811864 L -57.042960222236445,-17.715394419017173 L -57.04136224387241,-17.710758472325608 L -57.03976426370974,-17.706122524734667 L -57.03886481395995,-17.69799790368029 L -57.036288446054925,-17.694371687003695 L -57.03472249884419,-17.692167629432504 L -57.03053133885015,-17.69130795759611 L -57.02374558259254,-17.691117311214896 L -57.020726116916705,-17.687293849831235 L -57.02045294784523,-17.681298332352128 L -57.01610092431815,-17.670349686288944 L -57.01147854839627,-17.668786509889458 L -57.00576844875485,-17.670350269948926 L -57.003048612903115,-17.669308296540635 L -56.99240545844509,-17.660766731799185 L -56.98951263260187,-17.655700115967534 L -56.98846578217007,-17.648722123327275 L -56.985473435550546,-17.642604368197 L -56.97948856154784,-17.637250853344142 L -56.97809254303638,-17.634938021872188 L -56.97435278964946,-17.628742241561156 L -56.97132027750877,-17.625463877256095 L -56.970737233536454,-17.6248336152791 L -56.96029090650012,-17.61354133106755 L -56.959094643602896,-17.61076834528285 L -56.95919506729848,-17.608474624404323 L -56.961090620535686,-17.60685005398676 L -56.963484434159284,-17.606372433041315 L -56.97350689812481,-17.612779012641283 L -56.97809544604797,-17.61430874954908 L -56.98028948247361,-17.614118292025523 L -56.98268345437788,-17.612493561528595 L -56.98388067865034,-17.60886055047399 L -56.983482302366326,-17.605992886762294 L -56.97911965424862,-17.59838903882303 L -56.977449430646686,-17.595477935158556 L -56.97735021294193,-17.590220753884637 L -56.97844738493882,-17.587639741880537 L -56.98193799644133,-17.584580874207916 L -56.98283623840166,-17.58209561751869 L -56.982038332902675,-17.58008829653761 L -56.9798448900296,-17.578749612504566 L -56.97467714633319,-17.581544330406473 L -56.97188520643709,-17.581448147014328 L -56.97068891206362,-17.57905842980267 L -56.969891433742646,-17.57542519481683 L -56.96769852236889,-17.571984229488578 L -56.96326189152302,-17.570549171407094 L -56.960903808863634,-17.570548701961002 L -56.959871801742224,-17.570548496915535 L -56.955882130355974,-17.57188609456756 L -56.9518938601135,-17.571312159828267 L -56.949153123118094,-17.567391854050754 L -56.94407261815678,-17.552956517529196 L -56.94108255401659,-17.549418319299946 L -56.93826548706255,-17.547219498481013 L -56.9317949242963,-17.54548572248808 L -56.927206401554145,-17.542301915600888 L -56.9259231841076,-17.542007638541634 L -56.92052690019625,-17.540770123742163 L -56.91629163834841,-17.538283000060346 L -56.91290295330862,-17.534745097708026 L -56.909513741266096,-17.534361249971653 L -56.907120402484566,-17.535506983560424 L -56.904322467707686,-17.538559358127827 L -56.90352914515387,-17.539424822497494 L -56.9008872634364,-17.540092267843818 L -56.888279235098594,-17.534923122104374 L -56.883344774641614,-17.533677539486803 L -56.878410384331744,-17.532431829165546 L -56.87509951403132,-17.52808577623756 L -56.871788642831575,-17.523739724208838 L -56.87032964299857,-17.515243665162984 L -56.86410684165736,-17.51113297830426 L -56.86166854216947,-17.50517274302763 L -56.86654509977649,-17.49894157259547 L -56.86546139152995,-17.488375694182878 L -56.86031388347891,-17.482415465201484 L -56.85218626858136,-17.48539560352424 L -56.84595508106207,-17.48078997657609 L -56.85016612596593,-17.466051230379946 L -56.84617356235998,-17.45966548627314 L -56.83237122535172,-17.46061017372051 L -56.82659269539653,-17.459362410246968 L -56.82340615816764,-17.456588610575864 L -56.82275999797548,-17.454914266280298 L -56.829699760435574,-17.44800869154784 L -56.83480235004839,-17.446597748787042 L -56.840536575802275,-17.44259026812631 L -56.83945288104559,-17.43744278975288 L -56.83484722441983,-17.43527544070895 L -56.828616052189034,-17.43771373390166 L -56.82319763686144,-17.436900985991656 L -56.81967565430796,-17.43148259314711 L -56.82265576295305,-17.423354986343497 L -56.827261411484926,-17.42145853648225 L -56.83457627397581,-17.422813120529042 L -56.83945283967677,-17.420103909267937 L -56.840536512849724,-17.415769187797707 L -56.83099941569043,-17.40563609642868 L -56.8291578019909,-17.39897217042926 L -56.83024146796936,-17.391657328622784 L -56.82644857094476,-17.38894813714677 L -56.821030159214445,-17.389760909338463 L -56.813444377755786,-17.388948165925058 L -56.80429738311767,-17.38796815310775 L -56.80113609975115,-17.387629451338057 L -56.79529269450222,-17.391115564431686 L -56.79014519994098,-17.39084465625581 L -56.784455852155816,-17.38569718957359 L -56.78732979133679,-17.3825207247516 L -56.788519644765756,-17.37756957827338 L -56.78608134347917,-17.37160934389607 L -56.78076290578343,-17.369077989757386 L -56.77551542369781,-17.366732806973403 L -56.767229582079494,-17.365167893083765 L -56.76354515858219,-17.362261479383733 L -56.76052509305856,-17.358787363246165 L -56.76008422290852,-17.357017278024898 L -56.762122752163236,-17.35057517700278 L -56.76980154330653,-17.34562924119649 L -56.770505527208286,-17.343363483837663 L -56.77013920995654,-17.341381131633852 L -56.76534657798214,-17.340030590938966 L -56.76096158171157,-17.33719286925549 L -56.757358111587564,-17.3285494670842 L -56.75595919635981,-17.326990550773246 L -56.754042762663346,-17.326138598717307 L -56.75024476108683,-17.32577945265956 L -56.74860914249791,-17.326107894064023 L -56.74183424285599,-17.327468330898682 L -56.73862796640748,-17.325905957593818 L -56.73553445864832,-17.322574156472115 L -56.73539157885824,-17.319315959463893 L -56.73650507894621,-17.314573729094263 L -56.73580865114832,-17.312166107280007 L -56.73404188892198,-17.309543726461754 L -56.72925232543446,-17.306918018151976 L -56.725235331745125,-17.30549617470865 L -56.71942882388106,-17.305371238192038 L -56.71768970411654,-17.30820776467658 L -56.71293896616032,-17.31595628475469 L -56.71006008250674,-17.317581431637734 L -56.70567148894804,-17.317786264824235 L -56.69808025310118,-17.3145888395033 L -56.696015065243046,-17.31458650126598 L -56.69497945453816,-17.316071527478982 L -56.69599886755367,-17.324073990022555 L -56.69503744462236,-17.32506297807396 L -56.69241981762042,-17.325058824105383 L -56.68873861099803,-17.32094630442839 L -56.68601301768655,-17.319241946158854 L -56.68459385332363,-17.318885810131974 L -56.68317468896066,-17.31852967500447 L -56.68096084946359,-17.319022184226355 L -56.679409350760864,-17.32057767052305 L -56.673455578012465,-17.32970184576351 L -56.66746725780769,-17.336842967329005 L -56.66525235171463,-17.337759153462116 L -56.66267164188275,-17.337541375434057 L -56.65917568840723,-17.333713289736465 L -56.65917907795205,-17.33194195355827 L -56.660289015825356,-17.329679121694085 L -56.66317243565936,-17.326497565809973 L -56.66443041453198,-17.32402168635167 L -56.664250273131586,-17.322251838551438 L -56.65953451790364,-17.31976550897099 L -56.65768970081899,-17.320115609647644 L -56.653883214139,-17.32428593414852 L -56.64874213803921,-17.33617175472267 L -56.645808243755425,-17.33660922903266 L -56.64476368029955,-17.33617712367527 L -56.64371911684373,-17.33574501831788 L -56.64233035945847,-17.33287395696749 L -56.64243662964668,-17.329623378116366 L -56.64453464635682,-17.325995097495706 L -56.64952339708708,-17.32122611679182 L -56.64982692637153,-17.3185488710335 L -56.649233043769925,-17.316732168554665 L -56.646345701992516,-17.316631101843825 L -56.6355098794773,-17.32939623454854 L -56.634513011566185,-17.3298245294784 L -56.63351614365507,-17.330252825307582 L -56.63132622522505,-17.32996126420096 L -56.62923884119954,-17.32833232937344 L -56.62656168627274,-17.322591995424204 L -56.62526961949732,-17.32134774560194 L -56.6206398844231,-17.32114710595414 L -56.618545944339814,-17.322672116924593 L -56.61344931633283,-17.330788464216198 L -56.60993750331306,-17.330876292906567 L -56.60017451983816,-17.32864575209976 L -56.595841886593746,-17.329305501047997 L -56.59025879550694,-17.331971532260354 L -56.585676694823576,-17.332629620160787 L -56.58192635371819,-17.33198588633951 L -56.58060039329348,-17.331758289513402 L -56.578712213597726,-17.33003434670769 L -56.57772119757516,-17.327738471952898 L -56.577825472167774,-17.325825468270693 L -56.58125704497661,-17.319411826294697 L -56.580663634519055,-17.31609198255893 L -56.57826151565638,-17.314931761791343 L -56.575557576221115,-17.31449203647827 L -56.57014590311093,-17.315201249038353 L -56.55931398005612,-17.31965217101083 L -56.55390172148719,-17.320505526009185 L -56.552549740078405,-17.320285944840464 L -56.55119775687092,-17.320066362772366 L -56.53560474556252,-17.312334980175137 L -56.5331132619674,-17.313093537636632 L -56.531114436881694,-17.3157646841928 L -56.53030964167658,-17.31910839683502 L -56.52821603614109,-17.319867859913757 L -56.52572950421319,-17.31871581488292 L -56.52454148090459,-17.31613088902924 L -56.52446063634926,-17.309057972947073 L -56.52286986425281,-17.308288574158325 L -56.52082947430074,-17.308187722385412 L -56.518635615940866,-17.30952161303196 L -56.515148017167235,-17.310181656058546 L -56.51126571853803,-17.309980269973437 L -56.50974633552494,-17.308931680252783 L -56.50822695251179,-17.30788308963281 L -56.507948055658176,-17.30769168872041 L -56.507656971192205,-17.304081386446796 L -56.50871243712925,-17.302929538367437 L -56.509767902166914,-17.301777691187453 L -56.51370027234964,-17.300446894208733 L -56.51763264343168,-17.29911609812939 L -56.51873139643675,-17.29792453958578 L -56.519830150341136,-17.29673298104217 L -56.51983994575687,-17.29309995379981 L -56.519147756463724,-17.291282607406345 L -56.51686345598364,-17.289268783427588 L -56.51367643941609,-17.289548169512386 L -56.51167942376634,-17.291549437156732 L -56.50968750997055,-17.292022467962454 L -56.50804576969648,-17.291732706399216 L -56.50635815320618,-17.29000766731997 L -56.50478198160312,-17.28407687854508 L -56.50259310908467,-17.283688062953672 L -56.500599515355304,-17.284447480167046 L -56.499797374049535,-17.286357723829838 L -56.49978690144428,-17.290086544158612 L -56.49897948381607,-17.294194677842086 L -56.494842016046164,-17.296191108033156 L -56.48278770748669,-17.298547776958287 L -56.47724122150515,-17.305798947663277 L -56.47484930724971,-17.30655702218877 L -56.471665125345226,-17.30607115446014 L -56.470478255866794,-17.303390100972308 L -56.47039444984392,-17.29803698631781 L -56.46920223749322,-17.297173346672594 L -56.467010908926284,-17.29726310261003 L -56.46511623522605,-17.29850141420883 L -56.46408585407886,-17.30107784506646 L -56.46572026577758,-17.307578504544324 L -56.46466054245002,-17.309886446402345 L -56.463305960201865,-17.31074756974448 L -56.45308792426823,-17.310285990905697 L -56.452092238066314,-17.311292651534586 L -56.449684196268606,-17.317210767962536 L -56.449418794641645,-17.319538536274365 L -56.44865999166524,-17.32619380899706 L -56.447458200635424,-17.328390097325098 L -56.444418541582365,-17.329432431361568 L -56.43944151981026,-17.32865347008152 L -56.43656166938547,-17.326158872134215 L -56.430760586232054,-17.31859103484834 L -56.42579411890341,-17.314943256925744 L -56.42220277793581,-17.31321903443086 L -56.418084697750544,-17.312625551128235 L -56.409033243489375,-17.309635564329767 L -56.40096172200583,-17.30377970257115 L -56.39435911268288,-17.301017128237845 L -56.38986175781383,-17.297826293148887 L -56.38777110475263,-17.29406641383389 L -56.38703087187719,-17.290744605079396 L -56.383286036421396,-17.28741231202855 L -56.37174982729266,-17.283992128234104 L -56.37028664561217,-17.283558333050564 L -56.36717487082359,-17.281420737177257 L -56.3657658993767,-17.279524115545428 L -56.36435692792986,-17.277627493913656 L -56.363730937732555,-17.268798560704965 L -56.36029830911963,-17.26468873449744 L -56.3577301619174,-17.2629459194186 L -56.35127269417944,-17.26354247570464 L -56.34825545882234,-17.264773148461984 L -56.34566764884289,-17.266622487337884 L -56.345435549111244,-17.27116662853706 L -56.347580702887115,-17.272827746503253 L -56.349076093786664,-17.275723875556366 L -56.34949879223541,-17.278206080845905 L -56.34808792951429,-17.281506316663126 L -56.34203997976124,-17.28768277503997 L -56.33646172612771,-17.283324790806432 L -56.334096583790256,-17.283007096300423 L -56.33173143965416,-17.282689401794414 L -56.32743387907021,-17.28081546556126 L -56.32401609736496,-17.27419172037156 L -56.32069191529962,-17.271701977863927 L -56.30950488953897,-17.271455312712476 L -56.30390290999128,-17.273501147160175 L -56.29680542443077,-17.27285634764229 L -56.28647475830343,-17.26334807825117 L -56.284432899758485,-17.259791512268407 L -56.28487660547091,-17.256453824184575 L -56.28532031208272,-17.253116134302104 L -56.282807183604575,-17.25101283587361 L -56.27389526005817,-17.249491036382153 L -56.27213239729224,-17.247037057214357 L -56.27292821096813,-17.241933008901185 L -56.27138520726146,-17.24001215773484 L -56.26595512053234,-17.240417235766756 L -56.263285435374485,-17.243066774312126 L -56.261507731096856,-17.244017041153484 L -56.25974155702721,-17.24241426310772 L -56.25919646534459,-17.240284760233465 L -56.2593735445534,-17.237731463536193 L -56.26071298761423,-17.235184435113524 L -56.26560405218521,-17.231585438217337 L -56.26650037229433,-17.228822496960618 L -56.26551319727622,-17.226478053419385 L -56.262633670607386,-17.226253784984124 L -56.26107988402936,-17.22699252228705 L -56.258850657132086,-17.230495004840577 L -56.25618367983293,-17.232506409643065 L -56.2540775818149,-17.232392539284206 L -56.252862819863196,-17.231428968771866 L -56.251876705145776,-17.22887117456503 L -56.25210980132624,-17.226213272324628 L -56.254450117878605,-17.222924580205188 L -56.25479676066192,-17.21941308194812 L -56.25430509770206,-17.218029364363645 L -56.25176565685956,-17.21567884410331 L -56.24921920310368,-17.215454763626383 L -56.246665545778285,-17.216935979411858 L -56.24465034403812,-17.221821851297364 L -56.24264727685028,-17.224048044781398 L -56.240155249165355,-17.22382586637059 L -56.23694886210029,-17.22242867963979 L -56.23473383639737,-17.222527450381506 L -56.23251329155511,-17.22368897246804 L -56.22817662664994,-17.22750172562411 L -56.22540576596327,-17.227597261504343 L -56.22286101822135,-17.226734799071664 L -56.22321154427732,-17.222692871678646 L -56.225765466902715,-17.22121467761525 L -56.22710484611173,-17.219198381400133 L -56.226671620199056,-17.216750219946675 L -56.225290670727816,-17.21578671328615 L -56.22318715016678,-17.215778254263 L -56.22018618264616,-17.217999287437124 L -56.216392962764985,-17.22394318473016 L -56.21361323026633,-17.226272564627095 L -56.21134172623965,-17.22658231092487 L -56.20979763705128,-17.225085723027632 L -56.20969847600384,-17.2222123225406 L -56.2107103338148,-17.2192386386522 L -56.21650085443082,-17.212239278120137 L -56.21662069718741,-17.21000481626919 L -56.2159615229059,-17.208939340877862 L -56.21203392182798,-17.20785782787641 L -56.20759192023087,-17.210394503303633 L -56.20195640406473,-17.207285902222566 L -56.1991341777001,-17.206741902316878 L -56.197466967726314,-17.207798674968842 L -56.19645393000485,-17.211624506965393 L -56.19545385870856,-17.212152641930857 L -56.19335524484865,-17.210654514394264 L -56.190381522289385,-17.207023480049543 L -56.18752468821373,-17.202117718757677 L -56.187760195476585,-17.19892625324394 L -56.18799570453808,-17.195734786830883 L -56.190334869058916,-17.19287254063522 L -56.19101022304329,-17.190534693621146 L -56.18792157432114,-17.187862015519556 L -56.184265624259126,-17.18816560595792 L -56.182710938359094,-17.190126461666807 L -56.18149041085371,-17.193020477313155 L -56.17826623519858,-17.19406865964089 L -56.176017289766094,-17.19241500424903 L -56.175358584031414,-17.191930657273986 L -56.173867032337625,-17.1881547844157 L -56.17266387164034,-17.187280231497425 L -56.17185885340331,-17.187325123855317 L -56.17105383516633,-17.187370017112528 L -56.16629939649988,-17.19276472361304 L -56.162380264337685,-17.19171945958533 L -56.16134967184985,-17.191444592593825 L -56.15880834962559,-17.188835278025635 L -56.15715849386936,-17.18839428107117 L -56.15402018908043,-17.18520480575711 L -56.15041489962789,-17.18533265247987 L -56.144236241509304,-17.189781552776367 L -56.14048275637407,-17.189619359146036 L -56.13943510464634,-17.188893504631494 L -56.1377964670333,-17.186143340942408 L -56.13810546059847,-17.184267658225792 L -56.14398877506187,-17.178664478083135 L -56.13768725516263,-17.177625124399924 L -56.13017633506979,-17.178026093429423 L -56.12477980924075,-17.176124616357924 L -56.12208478748289,-17.1745245012047 L -56.1161901154814,-17.16619223838103 L -56.11377941079115,-17.16531087759489 L -56.11186920400053,-17.165302090319187 L -56.10894349894329,-17.16702738210796 L -56.104795162866424,-17.17164795398986 L -56.09815327835105,-17.172196303916223 z\" /></g></g></svg>"
          },
          "metadata": {
            "tags": []
          },
          "execution_count": 34
        }
      ]
    },
    {
      "cell_type": "code",
      "metadata": {
        "colab": {
          "base_uri": "https://localhost:8080/",
          "height": 204
        },
        "id": "wRh6eKayBOBx",
        "outputId": "b4050560-42be-4ba8-cd24-30514f9a4694"
      },
      "source": [
        "# renomeando coluna 'sigla' p/ 'state', (p/ se tornar uma coluna em comum entre os dataframes)\n",
        "INFOS_UFS.rename({\"sigla\": \"state\"}, axis = 1, inplace = True)\n",
        "\n",
        "# Criando novo dataframe e relacionando com os dados de covid (gp_states = grupo por estado)\n",
        "MAPA_BRASIL = INFOS_UFS.merge(gp_states, on = \"state\", how = \"left\")\n",
        "\n",
        "# Visualizando primeiros registros, selecionando colunas state, new_confirmed e geometry\n",
        "MAPA_BRASIL[[\"state\", \"confirmed_cases\", \"geometry\"]].head()"
      ],
      "execution_count": null,
      "outputs": [
        {
          "output_type": "execute_result",
          "data": {
            "text/html": [
              "<div>\n",
              "<style scoped>\n",
              "    .dataframe tbody tr th:only-of-type {\n",
              "        vertical-align: middle;\n",
              "    }\n",
              "\n",
              "    .dataframe tbody tr th {\n",
              "        vertical-align: top;\n",
              "    }\n",
              "\n",
              "    .dataframe thead th {\n",
              "        text-align: right;\n",
              "    }\n",
              "</style>\n",
              "<table border=\"1\" class=\"dataframe\">\n",
              "  <thead>\n",
              "    <tr style=\"text-align: right;\">\n",
              "      <th></th>\n",
              "      <th>state</th>\n",
              "      <th>confirmed_cases</th>\n",
              "      <th>geometry</th>\n",
              "    </tr>\n",
              "  </thead>\n",
              "  <tbody>\n",
              "    <tr>\n",
              "      <th>0</th>\n",
              "      <td>GO</td>\n",
              "      <td>4507</td>\n",
              "      <td>MULTIPOLYGON (((-50.15876 -12.41581, -50.15743...</td>\n",
              "    </tr>\n",
              "    <tr>\n",
              "      <th>1</th>\n",
              "      <td>MS</td>\n",
              "      <td>2080</td>\n",
              "      <td>MULTIPOLYGON (((-56.09815 -17.17220, -56.09159...</td>\n",
              "    </tr>\n",
              "    <tr>\n",
              "      <th>2</th>\n",
              "      <td>PR</td>\n",
              "      <td>9843</td>\n",
              "      <td>MULTIPOLYGON (((-52.08090 -22.52893, -52.04903...</td>\n",
              "    </tr>\n",
              "    <tr>\n",
              "      <th>3</th>\n",
              "      <td>MG</td>\n",
              "      <td>11526</td>\n",
              "      <td>MULTIPOLYGON (((-44.21152 -14.22955, -44.20750...</td>\n",
              "    </tr>\n",
              "    <tr>\n",
              "      <th>4</th>\n",
              "      <td>SE</td>\n",
              "      <td>1704</td>\n",
              "      <td>MULTIPOLYGON (((-38.00366 -9.51544, -38.00052 ...</td>\n",
              "    </tr>\n",
              "  </tbody>\n",
              "</table>\n",
              "</div>"
            ],
            "text/plain": [
              "  state  confirmed_cases                                           geometry\n",
              "0    GO             4507  MULTIPOLYGON (((-50.15876 -12.41581, -50.15743...\n",
              "1    MS             2080  MULTIPOLYGON (((-56.09815 -17.17220, -56.09159...\n",
              "2    PR             9843  MULTIPOLYGON (((-52.08090 -22.52893, -52.04903...\n",
              "3    MG            11526  MULTIPOLYGON (((-44.21152 -14.22955, -44.20750...\n",
              "4    SE             1704  MULTIPOLYGON (((-38.00366 -9.51544, -38.00052 ..."
            ]
          },
          "metadata": {
            "tags": []
          },
          "execution_count": 35
        }
      ]
    },
    {
      "cell_type": "code",
      "metadata": {
        "colab": {
          "base_uri": "https://localhost:8080/",
          "height": 611
        },
        "id": "hsA824vusv2u",
        "outputId": "ab6fbd83-00ab-472b-aacb-067e1b08bb07"
      },
      "source": [
        "MAPA_BRASIL.plot(column = \"confirmed_cases\", # Indicador analisado\n",
        "                 cmap = 'Reds',              # Paleta de cor vermelha\n",
        "                 figsize = (16,10),          # Tamanho da imagem (plot)\n",
        "                 legend = True,              # Exibir legenda\n",
        "                 edgecolor = '#000')         # Cor das bordas (preto em hexadecimal)"
      ],
      "execution_count": null,
      "outputs": [
        {
          "output_type": "execute_result",
          "data": {
            "text/plain": [
              "<matplotlib.axes._subplots.AxesSubplot at 0x7fd71fae9450>"
            ]
          },
          "metadata": {
            "tags": []
          },
          "execution_count": 36
        },
        {
          "output_type": "display_data",
          "data": {
            "image/png": "[encoded data removed]",
            "text/plain": [
              "<Figure size 1152x720 with 2 Axes>"
            ]
          },
          "metadata": {
            "tags": []
          }
        }
      ]
    },
    {
      "cell_type": "markdown",
      "metadata": {
        "id": "7lARBVzw2bJu"
      },
      "source": [
        "No grafico acima temos o mapa do Brasil onde é possivel obsevar o avanço da pandemia nos estado, e o estado com maior numero de infectados."
      ]
    },
    {
      "cell_type": "markdown",
      "metadata": {
        "id": "9YbxEa8EKUMk"
      },
      "source": [
        "# Links de estudo"
      ]
    },
    {
      "cell_type": "markdown",
      "metadata": {
        "id": "Lnjww0R_KajL"
      },
      "source": [
        "##### Covid 19 Global Data Time Series Predictions with Lstm Recurrent Neural Networks\n",
        "https://melaniesoek0120.medium.com/covid-19-global-data-time-series-prediction-with-lstm-recurrent-neural-networks-f7825c4a1f6f\n",
        "\n",
        "##### Tecnicas de Amostragem de dados utilizando python\n",
        "https://minerandodados.com.br/tres-tecnicas-de-amostragem-de-dados-utilizando-python/\n",
        "\n",
        "##### Coeficientes de Correlação\n",
        "https://operdata.com.br/blog/coeficientes-de-correlacao/\n",
        "\n",
        "##### How to pass through a list of queries to a pandas dataframe, and output the list of results?\n",
        "https://www.reddit.com/r/learnpython/comments/5719vx/how_to_pass_through_a_list_of_queries_to_a_pandas/\n",
        "\n",
        "##### Pandas DataFrame Groupby two columns and get counts\n",
        "https://stackoverflow.com/questions/17679089/pandas-dataframe-groupby-two-columns-and-get-counts\n",
        "\n",
        "##### Seaborn Example Gallery\n",
        "https://seaborn.pydata.org/examples/\n",
        "\n",
        "##### Reshaping and pivot tables\n",
        "https://pandas.pydata.org/docs/user_guide/reshaping.html\n",
        "\n",
        "##### Data Visualization: How To Plot A Map with Geopandas in Python?\n",
        "https://melaniesoek0120.medium.com/data-visualization-how-to-plot-a-map-with-geopandas-in-python-73b10dcd4b4b\n",
        "\n",
        "##### Geopandas in Google Colab\n",
        "https://stackoverflow.com/questions/65324533/geopandas-in-google-colab\n",
        "\n",
        "##### pandas.DataFrame.merge\n",
        "https://pandas.pydata.org/docs/reference/api/pandas.DataFrame.merge.html\n",
        "\n",
        "##### Brazilian States Choropleth Map with Python\n",
        "https://rodrigodutcosky.medium.com/mapas-coropl%C3%A9ticos-com-os-estados-do-brasil-em-python-b9b48c6db585"
      ]
    }
  ]
}